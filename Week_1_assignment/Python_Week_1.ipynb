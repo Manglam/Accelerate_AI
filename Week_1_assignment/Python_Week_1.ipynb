{
 "cells": [
  {
   "cell_type": "markdown",
   "metadata": {},
   "source": [
    "# Q1) Reverse a given integer number  [ input:76542 ,  output: 24567]"
   ]
  },
  {
   "cell_type": "code",
   "execution_count": 1,
   "metadata": {},
   "outputs": [
    {
     "data": {
      "text/plain": [
       "24567"
      ]
     },
     "execution_count": 1,
     "metadata": {},
     "output_type": "execute_result"
    }
   ],
   "source": [
    "def reverse(num):\n",
    "    '''\n",
    "    reverse any integer\n",
    "    convert to integer, then reverse and then convert back to intger again\n",
    "    '''\n",
    "    num_char = str(num)\n",
    "    num_char = num_char[::-1]\n",
    "    return int(num_char)\n",
    "reverse(1234)\n",
    "reverse(76542)"
   ]
  },
  {
   "cell_type": "markdown",
   "metadata": {},
   "source": [
    "# Q2) Write a python program to find the second largest number in a List"
   ]
  },
  {
   "cell_type": "code",
   "execution_count": 2,
   "metadata": {},
   "outputs": [
    {
     "data": {
      "text/plain": [
       "7"
      ]
     },
     "execution_count": 2,
     "metadata": {},
     "output_type": "execute_result"
    }
   ],
   "source": [
    "def second_largest(list_num):\n",
    "    '''\n",
    "    function to return second largest numbers in a list\n",
    "    order the list in descending order, and then return the second largest number\n",
    "    '''\n",
    "    list_num.sort(reverse=True)\n",
    "    return list_num[1]\n",
    "second_largest([1, 4, 2, 4, 5, 6, 9, 7])"
   ]
  },
  {
   "cell_type": "markdown",
   "metadata": {},
   "source": [
    "# Q3) Write a python program to calculate the number of words and the number of characters present in a string"
   ]
  },
  {
   "cell_type": "code",
   "execution_count": 3,
   "metadata": {},
   "outputs": [
    {
     "data": {
      "text/plain": [
       "(3, 14)"
      ]
     },
     "execution_count": 3,
     "metadata": {},
     "output_type": "execute_result"
    }
   ],
   "source": [
    "def word_char_counter(string):\n",
    "    '''\n",
    "    get the word and character count in a string\n",
    "    to get word count: divide the string, using space as separator, return the length of new list\n",
    "    char count : use the len function\n",
    "    '''\n",
    "    return len(string.split(sep=\" \")), len(string)\n",
    "\n",
    "word_char_counter(\"This is Python\")"
   ]
  },
  {
   "cell_type": "markdown",
   "metadata": {},
   "source": [
    "# Q4) Write a program to compute prime factors of an integer"
   ]
  },
  {
   "cell_type": "code",
   "execution_count": 4,
   "metadata": {},
   "outputs": [
    {
     "data": {
      "text/plain": [
       "[223]"
      ]
     },
     "execution_count": 4,
     "metadata": {},
     "output_type": "execute_result"
    }
   ],
   "source": [
    "def find_prime_factors(integer):\n",
    "    '''\n",
    "    find the prime factors of an integer\n",
    "    divide the integer in a while loop, to get all the prime factors\n",
    "    divide till half of integer\n",
    "    '''\n",
    "    range_to_look = int(integer/2)\n",
    "    list_prime_factors = []\n",
    "    rem_number = integer\n",
    "    for i in range(2, range_to_look):\n",
    "        while((rem_number % i) == 0):\n",
    "              if (rem_number % i == 0):\n",
    "                    list_prime_factors.append(i)\n",
    "                    rem_number = rem_number / i\n",
    "    \n",
    "    # if number is prime itself\n",
    "    if(len(list_prime_factors) == 0):\n",
    "        list_prime_factors.append(integer)\n",
    "    return list_prime_factors\n",
    "find_prime_factors(213)\n",
    "find_prime_factors(223)"
   ]
  },
  {
   "cell_type": "code",
   "execution_count": 5,
   "metadata": {},
   "outputs": [
    {
     "data": {
      "text/plain": [
       "[2]"
      ]
     },
     "execution_count": 5,
     "metadata": {},
     "output_type": "execute_result"
    }
   ],
   "source": [
    "find_prime_factors(2)"
   ]
  },
  {
   "cell_type": "markdown",
   "metadata": {},
   "source": [
    "# Q5) Write a python program to find the fibonacci series using recursion"
   ]
  },
  {
   "cell_type": "code",
   "execution_count": 6,
   "metadata": {},
   "outputs": [
    {
     "data": {
      "text/plain": [
       "[0, 1, 1, 2, 3, 5, 8, 13, 21, 34]"
      ]
     },
     "execution_count": 6,
     "metadata": {},
     "output_type": "execute_result"
    }
   ],
   "source": [
    "def recursive_fibonacci(length, fib_series=[]):\n",
    "    \n",
    "    if(len(fib_series) == 0):\n",
    "        fib_series = [0, 1]\n",
    "        recursive_fibonacci(length, fib_series)\n",
    "    else:\n",
    "        len_fib_series = len(fib_series)\n",
    "        fib_series.append(fib_series[len_fib_series-2] + fib_series[len_fib_series-1])\n",
    "        if(len(fib_series) >= length):\n",
    "            return fib_series[0:length]\n",
    "        else:\n",
    "            recursive_fibonacci(length, fib_series)\n",
    "    return fib_series[0:length]\n",
    "recursive_fibonacci(10)"
   ]
  },
  {
   "cell_type": "code",
   "execution_count": null,
   "metadata": {},
   "outputs": [],
   "source": []
  }
 ],
 "metadata": {
  "kernelspec": {
   "display_name": "Python 3",
   "language": "python",
   "name": "python3"
  },
  "language_info": {
   "codemirror_mode": {
    "name": "ipython",
    "version": 3
   },
   "file_extension": ".py",
   "mimetype": "text/x-python",
   "name": "python",
   "nbconvert_exporter": "python",
   "pygments_lexer": "ipython3",
   "version": "3.7.3"
  }
 },
 "nbformat": 4,
 "nbformat_minor": 4
}
