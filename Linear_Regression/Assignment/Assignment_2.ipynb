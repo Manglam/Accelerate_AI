{
 "cells": [
  {
   "cell_type": "markdown",
   "id": "c1f0c22b",
   "metadata": {},
   "source": [
    "# Assignment 2\n",
    "\n",
    "Melon Musk, the owner of SooperMall has asked a data scientist to help him develop a predictive model for managing his revenue.\n",
    "The data collected for 1000 customers is in the excel sheet attached.\n",
    "    \n",
    "    1) Fit a regression model with amount spent as target, and identify the relevant explanatory variables.\n",
    "    2) Which age groups spends the most on purchases? \n",
    "    3) How much additional spend is an extra catalog expected to generate?\n",
    "    4) What is the impact of no of children on amount spent. Does this make sense?Explain."
   ]
  },
  {
   "cell_type": "code",
   "execution_count": 1,
   "id": "181f07d9",
   "metadata": {},
   "outputs": [],
   "source": [
    "import numpy as np\n",
    "import pandas as pd\n",
    "\n",
    "import seaborn as sns\n",
    "import matplotlib.pyplot as plt\n",
    "\n",
    "import statsmodels.api as sm"
   ]
  },
  {
   "cell_type": "code",
   "execution_count": 2,
   "id": "4f3e2b85",
   "metadata": {},
   "outputs": [
    {
     "data": {
      "text/html": [
       "<div>\n",
       "<style scoped>\n",
       "    .dataframe tbody tr th:only-of-type {\n",
       "        vertical-align: middle;\n",
       "    }\n",
       "\n",
       "    .dataframe tbody tr th {\n",
       "        vertical-align: top;\n",
       "    }\n",
       "\n",
       "    .dataframe thead th {\n",
       "        text-align: right;\n",
       "    }\n",
       "</style>\n",
       "<table border=\"1\" class=\"dataframe\">\n",
       "  <thead>\n",
       "    <tr style=\"text-align: right;\">\n",
       "      <th></th>\n",
       "      <th>Person</th>\n",
       "      <th>Age</th>\n",
       "      <th>Gender</th>\n",
       "      <th>Own Home</th>\n",
       "      <th>Married</th>\n",
       "      <th>Close</th>\n",
       "      <th>Salary</th>\n",
       "      <th>Children</th>\n",
       "      <th>Catalogs</th>\n",
       "      <th>Amount Spent</th>\n",
       "    </tr>\n",
       "  </thead>\n",
       "  <tbody>\n",
       "    <tr>\n",
       "      <th>0</th>\n",
       "      <td>1</td>\n",
       "      <td>1</td>\n",
       "      <td>0</td>\n",
       "      <td>0</td>\n",
       "      <td>0</td>\n",
       "      <td>1</td>\n",
       "      <td>16400</td>\n",
       "      <td>1</td>\n",
       "      <td>12</td>\n",
       "      <td>217.691</td>\n",
       "    </tr>\n",
       "    <tr>\n",
       "      <th>1</th>\n",
       "      <td>2</td>\n",
       "      <td>2</td>\n",
       "      <td>0</td>\n",
       "      <td>1</td>\n",
       "      <td>1</td>\n",
       "      <td>0</td>\n",
       "      <td>108100</td>\n",
       "      <td>3</td>\n",
       "      <td>18</td>\n",
       "      <td>2632.462</td>\n",
       "    </tr>\n",
       "    <tr>\n",
       "      <th>2</th>\n",
       "      <td>3</td>\n",
       "      <td>2</td>\n",
       "      <td>1</td>\n",
       "      <td>1</td>\n",
       "      <td>1</td>\n",
       "      <td>1</td>\n",
       "      <td>97300</td>\n",
       "      <td>1</td>\n",
       "      <td>12</td>\n",
       "      <td>3047.563</td>\n",
       "    </tr>\n",
       "    <tr>\n",
       "      <th>3</th>\n",
       "      <td>4</td>\n",
       "      <td>3</td>\n",
       "      <td>1</td>\n",
       "      <td>1</td>\n",
       "      <td>1</td>\n",
       "      <td>1</td>\n",
       "      <td>26800</td>\n",
       "      <td>0</td>\n",
       "      <td>12</td>\n",
       "      <td>434.606</td>\n",
       "    </tr>\n",
       "    <tr>\n",
       "      <th>4</th>\n",
       "      <td>5</td>\n",
       "      <td>1</td>\n",
       "      <td>1</td>\n",
       "      <td>0</td>\n",
       "      <td>0</td>\n",
       "      <td>1</td>\n",
       "      <td>11200</td>\n",
       "      <td>0</td>\n",
       "      <td>6</td>\n",
       "      <td>105.624</td>\n",
       "    </tr>\n",
       "  </tbody>\n",
       "</table>\n",
       "</div>"
      ],
      "text/plain": [
       "   Person  Age  Gender  Own Home  Married  Close  Salary  Children  Catalogs  \\\n",
       "0       1    1       0         0        0      1   16400         1        12   \n",
       "1       2    2       0         1        1      0  108100         3        18   \n",
       "2       3    2       1         1        1      1   97300         1        12   \n",
       "3       4    3       1         1        1      1   26800         0        12   \n",
       "4       5    1       1         0        0      1   11200         0         6   \n",
       "\n",
       "   Amount Spent  \n",
       "0       217.691  \n",
       "1      2632.462  \n",
       "2      3047.563  \n",
       "3       434.606  \n",
       "4       105.624  "
      ]
     },
     "execution_count": 2,
     "metadata": {},
     "output_type": "execute_result"
    }
   ],
   "source": [
    "df = pd.read_excel(\"Assignment 02 - SooperMall Catalog Marketing.xlsx\", sheet_name='Data')\n",
    "df.head(5)"
   ]
  },
  {
   "cell_type": "code",
   "execution_count": 3,
   "id": "76c6a4ff",
   "metadata": {},
   "outputs": [
    {
     "data": {
      "text/html": [
       "<div>\n",
       "<style scoped>\n",
       "    .dataframe tbody tr th:only-of-type {\n",
       "        vertical-align: middle;\n",
       "    }\n",
       "\n",
       "    .dataframe tbody tr th {\n",
       "        vertical-align: top;\n",
       "    }\n",
       "\n",
       "    .dataframe thead tr th {\n",
       "        text-align: left;\n",
       "    }\n",
       "\n",
       "    .dataframe thead tr:last-of-type th {\n",
       "        text-align: right;\n",
       "    }\n",
       "</style>\n",
       "<table border=\"1\" class=\"dataframe\">\n",
       "  <thead>\n",
       "    <tr>\n",
       "      <th></th>\n",
       "      <th colspan=\"5\" halign=\"left\">Amount Spent</th>\n",
       "    </tr>\n",
       "    <tr>\n",
       "      <th></th>\n",
       "      <th>min</th>\n",
       "      <th>max</th>\n",
       "      <th>sum</th>\n",
       "      <th>mean</th>\n",
       "      <th>count</th>\n",
       "    </tr>\n",
       "    <tr>\n",
       "      <th>Age</th>\n",
       "      <th></th>\n",
       "      <th></th>\n",
       "      <th></th>\n",
       "      <th></th>\n",
       "      <th></th>\n",
       "    </tr>\n",
       "  </thead>\n",
       "  <tbody>\n",
       "    <tr>\n",
       "      <th>1</th>\n",
       "      <td>37.807</td>\n",
       "      <td>3688.445</td>\n",
       "      <td>160325.145</td>\n",
       "      <td>558.624199</td>\n",
       "      <td>287</td>\n",
       "    </tr>\n",
       "    <tr>\n",
       "      <th>2</th>\n",
       "      <td>156.772</td>\n",
       "      <td>5877.734</td>\n",
       "      <td>762856.131</td>\n",
       "      <td>1501.685297</td>\n",
       "      <td>508</td>\n",
       "    </tr>\n",
       "    <tr>\n",
       "      <th>3</th>\n",
       "      <td>64.839</td>\n",
       "      <td>6217.343</td>\n",
       "      <td>293586.587</td>\n",
       "      <td>1432.129693</td>\n",
       "      <td>205</td>\n",
       "    </tr>\n",
       "  </tbody>\n",
       "</table>\n",
       "</div>"
      ],
      "text/plain": [
       "    Amount Spent                                         \n",
       "             min       max         sum         mean count\n",
       "Age                                                      \n",
       "1         37.807  3688.445  160325.145   558.624199   287\n",
       "2        156.772  5877.734  762856.131  1501.685297   508\n",
       "3         64.839  6217.343  293586.587  1432.129693   205"
      ]
     },
     "execution_count": 3,
     "metadata": {},
     "output_type": "execute_result"
    }
   ],
   "source": [
    "df.groupby('Age').agg({'Amount Spent' : ['min', 'max', 'sum', 'mean', 'count']})"
   ]
  },
  {
   "cell_type": "code",
   "execution_count": 4,
   "id": "7e9f404b",
   "metadata": {},
   "outputs": [],
   "source": [
    "#sns.scatterplot(x=df[\"Salary\"], y=df[\"Amount Spent\"], hue=df[\"Children\"])\n",
    "#plt.show()"
   ]
  },
  {
   "cell_type": "code",
   "execution_count": 5,
   "id": "658a8954",
   "metadata": {},
   "outputs": [],
   "source": [
    "#sns.scatterplot(x=df[\"Catalogs\"], y=df[\"Amount Spent\"], hue=df[\"Catalogs\"])\n",
    "#plt.show()"
   ]
  },
  {
   "cell_type": "code",
   "execution_count": 6,
   "id": "2f7cdb84",
   "metadata": {},
   "outputs": [],
   "source": [
    "#sns.scatterplot(x=df[\"Children\"], y=df[\"Amount Spent\"])\n",
    "#plt.show()"
   ]
  },
  {
   "cell_type": "code",
   "execution_count": 7,
   "id": "2a0a5bd9",
   "metadata": {},
   "outputs": [
    {
     "data": {
      "text/html": [
       "<div>\n",
       "<style scoped>\n",
       "    .dataframe tbody tr th:only-of-type {\n",
       "        vertical-align: middle;\n",
       "    }\n",
       "\n",
       "    .dataframe tbody tr th {\n",
       "        vertical-align: top;\n",
       "    }\n",
       "\n",
       "    .dataframe thead th {\n",
       "        text-align: right;\n",
       "    }\n",
       "</style>\n",
       "<table border=\"1\" class=\"dataframe\">\n",
       "  <thead>\n",
       "    <tr style=\"text-align: right;\">\n",
       "      <th></th>\n",
       "      <th>Amount Spent</th>\n",
       "      <th>Salary</th>\n",
       "      <th>Children</th>\n",
       "      <th>Catalogs</th>\n",
       "    </tr>\n",
       "  </thead>\n",
       "  <tbody>\n",
       "    <tr>\n",
       "      <th>Amount Spent</th>\n",
       "      <td>1.000000</td>\n",
       "      <td>0.699598</td>\n",
       "      <td>-0.222302</td>\n",
       "      <td>0.472644</td>\n",
       "    </tr>\n",
       "    <tr>\n",
       "      <th>Salary</th>\n",
       "      <td>0.699598</td>\n",
       "      <td>1.000000</td>\n",
       "      <td>0.049663</td>\n",
       "      <td>0.183551</td>\n",
       "    </tr>\n",
       "    <tr>\n",
       "      <th>Children</th>\n",
       "      <td>-0.222302</td>\n",
       "      <td>0.049663</td>\n",
       "      <td>1.000000</td>\n",
       "      <td>-0.113455</td>\n",
       "    </tr>\n",
       "    <tr>\n",
       "      <th>Catalogs</th>\n",
       "      <td>0.472644</td>\n",
       "      <td>0.183551</td>\n",
       "      <td>-0.113455</td>\n",
       "      <td>1.000000</td>\n",
       "    </tr>\n",
       "  </tbody>\n",
       "</table>\n",
       "</div>"
      ],
      "text/plain": [
       "              Amount Spent    Salary  Children  Catalogs\n",
       "Amount Spent      1.000000  0.699598 -0.222302  0.472644\n",
       "Salary            0.699598  1.000000  0.049663  0.183551\n",
       "Children         -0.222302  0.049663  1.000000 -0.113455\n",
       "Catalogs          0.472644  0.183551 -0.113455  1.000000"
      ]
     },
     "execution_count": 7,
     "metadata": {},
     "output_type": "execute_result"
    }
   ],
   "source": [
    "df[[\"Amount Spent\", \"Salary\", \"Children\", \"Catalogs\"]].corr()"
   ]
  },
  {
   "cell_type": "code",
   "execution_count": 8,
   "id": "b23e4a6c",
   "metadata": {},
   "outputs": [],
   "source": [
    "# create box plot for other variables, to understand data\n",
    "#cat_var_list = [\"Age\", \"Gender\", \"Own Home\", \"Married\", \"Close\"]\n",
    "#fig, axes = plt.subplots(len(cat_var_list), 1, figsize=(12,20), sharex=False, sharey=True)\n",
    "\n",
    "#sns.set_theme(style=\"whitegrid\")\n",
    "\n",
    "#for i, ax in enumerate(axes.ravel()):\n",
    "#    y_var = 'Amount Spent'\n",
    "#    x_var = cat_var_list[i]\n",
    "#    sns.violinplot(x=x_var, y=y_var, data=df, ax=ax)\n",
    "#plt.show()"
   ]
  },
  {
   "cell_type": "code",
   "execution_count": 9,
   "id": "86ded319",
   "metadata": {},
   "outputs": [
    {
     "data": {
      "text/html": [
       "<div>\n",
       "<style scoped>\n",
       "    .dataframe tbody tr th:only-of-type {\n",
       "        vertical-align: middle;\n",
       "    }\n",
       "\n",
       "    .dataframe tbody tr th {\n",
       "        vertical-align: top;\n",
       "    }\n",
       "\n",
       "    .dataframe thead th {\n",
       "        text-align: right;\n",
       "    }\n",
       "</style>\n",
       "<table border=\"1\" class=\"dataframe\">\n",
       "  <thead>\n",
       "    <tr style=\"text-align: right;\">\n",
       "      <th></th>\n",
       "      <th>Gender</th>\n",
       "      <th>Own Home</th>\n",
       "      <th>Married</th>\n",
       "      <th>Close</th>\n",
       "      <th>Salary</th>\n",
       "      <th>Children</th>\n",
       "      <th>Catalogs</th>\n",
       "      <th>Amount Spent</th>\n",
       "      <th>Age_gp_1</th>\n",
       "      <th>Age_gp_2</th>\n",
       "      <th>Age_gp_3</th>\n",
       "    </tr>\n",
       "  </thead>\n",
       "  <tbody>\n",
       "    <tr>\n",
       "      <th>0</th>\n",
       "      <td>0</td>\n",
       "      <td>0</td>\n",
       "      <td>0</td>\n",
       "      <td>1</td>\n",
       "      <td>16400</td>\n",
       "      <td>1</td>\n",
       "      <td>12</td>\n",
       "      <td>217.691</td>\n",
       "      <td>1</td>\n",
       "      <td>0</td>\n",
       "      <td>0</td>\n",
       "    </tr>\n",
       "    <tr>\n",
       "      <th>1</th>\n",
       "      <td>0</td>\n",
       "      <td>1</td>\n",
       "      <td>1</td>\n",
       "      <td>0</td>\n",
       "      <td>108100</td>\n",
       "      <td>3</td>\n",
       "      <td>18</td>\n",
       "      <td>2632.462</td>\n",
       "      <td>0</td>\n",
       "      <td>1</td>\n",
       "      <td>0</td>\n",
       "    </tr>\n",
       "    <tr>\n",
       "      <th>2</th>\n",
       "      <td>1</td>\n",
       "      <td>1</td>\n",
       "      <td>1</td>\n",
       "      <td>1</td>\n",
       "      <td>97300</td>\n",
       "      <td>1</td>\n",
       "      <td>12</td>\n",
       "      <td>3047.563</td>\n",
       "      <td>0</td>\n",
       "      <td>1</td>\n",
       "      <td>0</td>\n",
       "    </tr>\n",
       "    <tr>\n",
       "      <th>3</th>\n",
       "      <td>1</td>\n",
       "      <td>1</td>\n",
       "      <td>1</td>\n",
       "      <td>1</td>\n",
       "      <td>26800</td>\n",
       "      <td>0</td>\n",
       "      <td>12</td>\n",
       "      <td>434.606</td>\n",
       "      <td>0</td>\n",
       "      <td>0</td>\n",
       "      <td>1</td>\n",
       "    </tr>\n",
       "    <tr>\n",
       "      <th>4</th>\n",
       "      <td>1</td>\n",
       "      <td>0</td>\n",
       "      <td>0</td>\n",
       "      <td>1</td>\n",
       "      <td>11200</td>\n",
       "      <td>0</td>\n",
       "      <td>6</td>\n",
       "      <td>105.624</td>\n",
       "      <td>1</td>\n",
       "      <td>0</td>\n",
       "      <td>0</td>\n",
       "    </tr>\n",
       "  </tbody>\n",
       "</table>\n",
       "</div>"
      ],
      "text/plain": [
       "   Gender  Own Home  Married  Close  Salary  Children  Catalogs  Amount Spent  \\\n",
       "0       0         0        0      1   16400         1        12       217.691   \n",
       "1       0         1        1      0  108100         3        18      2632.462   \n",
       "2       1         1        1      1   97300         1        12      3047.563   \n",
       "3       1         1        1      1   26800         0        12       434.606   \n",
       "4       1         0        0      1   11200         0         6       105.624   \n",
       "\n",
       "   Age_gp_1  Age_gp_2  Age_gp_3  \n",
       "0         1         0         0  \n",
       "1         0         1         0  \n",
       "2         0         1         0  \n",
       "3         0         0         1  \n",
       "4         1         0         0  "
      ]
     },
     "execution_count": 9,
     "metadata": {},
     "output_type": "execute_result"
    }
   ],
   "source": [
    "# add dummy variables in data for categorical variables\n",
    "df_dummy = pd.get_dummies(df.drop('Person', axis=1), prefix=\"Age_gp\", \n",
    "                           columns=[\"Age\"], \n",
    "                           drop_first=False)\n",
    "df_dummy.head()"
   ]
  },
  {
   "cell_type": "code",
   "execution_count": 10,
   "id": "de3d1baa",
   "metadata": {},
   "outputs": [],
   "source": [
    "def fit_lin_reg_with_intercept(X, Y):\n",
    "    X = sm.add_constant(X) # adding a constan\n",
    "    reg_model = sm.OLS(Y,X).fit()\n",
    "    return reg_model"
   ]
  },
  {
   "cell_type": "code",
   "execution_count": 11,
   "id": "f063b36a",
   "metadata": {},
   "outputs": [
    {
     "name": "stdout",
     "output_type": "stream",
     "text": [
      "                            OLS Regression Results                            \n",
      "==============================================================================\n",
      "Dep. Variable:           Amount Spent   R-squared:                       0.717\n",
      "Model:                            OLS   Adj. R-squared:                  0.714\n",
      "Method:                 Least Squares   F-statistic:                     278.5\n",
      "Date:                Sun, 15 May 2022   Prob (F-statistic):          4.26e-264\n",
      "Time:                        18:36:44   Log-Likelihood:                -7655.6\n",
      "No. Observations:                1000   AIC:                         1.533e+04\n",
      "Df Residuals:                     990   BIC:                         1.538e+04\n",
      "Df Model:                           9                                         \n",
      "Covariance Type:            nonrobust                                         \n",
      "==============================================================================\n",
      "                 coef    std err          t      P>|t|      [0.025      0.975]\n",
      "------------------------------------------------------------------------------\n",
      "const        -29.8421     60.836     -0.491      0.624    -149.225      89.541\n",
      "Gender       -41.5490     34.663     -1.199      0.231    -109.571      26.473\n",
      "Own Home      47.5096     38.632      1.230      0.219     -28.300     123.319\n",
      "Married      -63.9201     46.858     -1.364      0.173    -155.872      28.032\n",
      "Close       -507.8843     36.213    -14.025      0.000    -578.947    -436.822\n",
      "Salary         0.0222      0.001     22.604      0.000       0.020       0.024\n",
      "Children    -201.3627     17.244    -11.677      0.000    -235.201    -167.524\n",
      "Catalogs      43.1413      2.548     16.929      0.000      38.140      48.142\n",
      "Age_gp_2     -93.3095     51.419     -1.815      0.070    -194.212       7.593\n",
      "Age_gp_3     -41.1596     56.568     -0.728      0.467    -152.166      69.847\n",
      "==============================================================================\n",
      "Omnibus:                      239.891   Durbin-Watson:                   1.966\n",
      "Prob(Omnibus):                  0.000   Jarque-Bera (JB):              832.064\n",
      "Skew:                           1.133   Prob(JB):                    2.09e-181\n",
      "Kurtosis:                       6.852   Cond. No.                     2.88e+05\n",
      "==============================================================================\n",
      "\n",
      "Notes:\n",
      "[1] Standard Errors assume that the covariance matrix of the errors is correctly specified.\n",
      "[2] The condition number is large, 2.88e+05. This might indicate that there are\n",
      "strong multicollinearity or other numerical problems.\n"
     ]
    }
   ],
   "source": [
    "x_var = [\"Gender\", \"Own Home\", \"Married\", \"Close\", \"Salary\", \"Children\", \"Catalogs\", \"Age_gp_2\", \"Age_gp_3\"]\n",
    "reg_model = fit_lin_reg_with_intercept(X=df_dummy[x_var], Y=df_dummy[[\"Amount Spent\"]])\n",
    "print(reg_model.summary())"
   ]
  },
  {
   "cell_type": "code",
   "execution_count": 12,
   "id": "2498c505",
   "metadata": {},
   "outputs": [
    {
     "data": {
      "text/plain": [
       "Gender       2.158427\n",
       "Own Home     2.916908\n",
       "Married      4.141457\n",
       "Close        2.702327\n",
       "Salary      14.421711\n",
       "Children     1.876298\n",
       "Catalogs     4.085030\n",
       "Age_gp_2     5.080854\n",
       "Age_gp_3     2.314850\n",
       "dtype: float64"
      ]
     },
     "execution_count": 12,
     "metadata": {},
     "output_type": "execute_result"
    }
   ],
   "source": [
    "# Check for multicollinearity\n",
    "from statsmodels.stats.outliers_influence import variance_inflation_factor\n",
    "\n",
    "X = df_dummy[x_var]\n",
    "pd.Series([variance_inflation_factor(X.values, i) \n",
    "               for i in range(X.shape[1])], index=X.columns)"
   ]
  },
  {
   "cell_type": "code",
   "execution_count": 13,
   "id": "6de1ae9b",
   "metadata": {},
   "outputs": [
    {
     "data": {
      "text/plain": [
       "Children    1.650412\n",
       "Close       2.597086\n",
       "Catalogs    3.722434\n",
       "Salary      3.976129\n",
       "dtype: float64"
      ]
     },
     "execution_count": 13,
     "metadata": {},
     "output_type": "execute_result"
    }
   ],
   "source": [
    "# 1. dropping salary, since it has very high VIF, model becomes stable\n",
    "# 2. Drop \"Own Home\", \"Married\", \"Close\", \"Children\", \"Age_gp_2\", \"Age_gp_3\", and add salary, vif becomes stable < 4\n",
    "# 3. Add  \"Own Home\", along with  Catalogs and Salary, drop Gender, since its insignificant in model\n",
    "#          VIF increases for Salary, but the variable \"Own Home\" is not significant\n",
    "# 4. Add \"Married\", along with \"Catalogs\", \"Salary\", drop \"Own Home\"\n",
    "#         VIF increases for Salary, and variable \"Married\" is not significant in model, hence dropping this variable\n",
    "# 5. Add \"Close\" along with \"Catalogs\", \"Salary\"\n",
    "#         No significant in VIF for Salary and the variable \"Close\" is also significant in model\n",
    "# 6. Add \"Children\" along with \"Close\", \"Catalogs\", \"Salary\"\n",
    "#         No significant increase in VIF for Salary, and also the variables \"Children\" is significant in model\n",
    "#         The coefficient sign for variable \"Children\" is negative, and this is in accordance with its correaltion with Amount \n",
    "#         Spent\n",
    "# 7. Add \"Age_gp_2\" along with \"Children\", \"Close\", \"Catalogs\", \"Salary\"\n",
    "#         Vif increases for Salary, and this is understandable since higher age means relatively higher salary as compared to \n",
    "#         younger people, \"Age_gp_2\" is not significant in model, hence dropping this variable\n",
    "# 8. Add \"Age_gp_3\" along with \"Children\", \"Close\", \"Catalogs\", \"Salary\"\n",
    "#         No signifiant Vif increases for Salary, \n",
    "#         \"Age_gp_3\" is not significant in model, hence dropping this variable\n",
    "# 9. Add \"Age_gp_1\" along with \"Children\", \"Close\", \"Catalogs\", \"Salary\"\n",
    "#         No signifiant Vif increases for Salary, \n",
    "#         \"Age_gp_1\" is not significant in model, hence dropping this variable\n",
    "# 10. Make model with [\"Children\", \"Close\", \"Catalogs\", \"Salary\"]\n",
    "#         R-sq = 71.5%\n",
    "#         Sign for varible \"Close\", is not making sense, hence dropping this\n",
    "# 11. Make model with [\"Children\", \"Catalogs\", \"Salary\"]\n",
    "#         R-sq = 65.8%, and still warning for Collinearity\n",
    "# 12. Make model with [\"Children\", \"Close\", \"Catalogs\", \"Salary\"] and log tranform Y, to minimize heteroschedasticity\n",
    "#         R-sq = 65.8%, and still warning for Collinearity\n",
    "\n",
    "from statsmodels.stats.outliers_influence import variance_inflation_factor\n",
    "\n",
    "x_var = [\"Children\", \"Close\", \"Catalogs\", \"Salary\"]  \n",
    "X = df_dummy[x_var]\n",
    "pd.Series([variance_inflation_factor(X.values, i) \n",
    "               for i in range(X.shape[1])], index=X.columns)"
   ]
  },
  {
   "cell_type": "code",
   "execution_count": 14,
   "id": "ef3b112c",
   "metadata": {},
   "outputs": [
    {
     "name": "stdout",
     "output_type": "stream",
     "text": [
      "                            OLS Regression Results                            \n",
      "==============================================================================\n",
      "Dep. Variable:           Amount Spent   R-squared:                       0.780\n",
      "Model:                            OLS   Adj. R-squared:                  0.779\n",
      "Method:                 Least Squares   F-statistic:                     882.7\n",
      "Date:                Sun, 15 May 2022   Prob (F-statistic):               0.00\n",
      "Time:                        18:36:44   Log-Likelihood:                -528.11\n",
      "No. Observations:                1000   AIC:                             1066.\n",
      "Df Residuals:                     995   BIC:                             1091.\n",
      "Df Model:                           4                                         \n",
      "Covariance Type:            nonrobust                                         \n",
      "==============================================================================\n",
      "                 coef    std err          t      P>|t|      [0.025      0.975]\n",
      "------------------------------------------------------------------------------\n",
      "const          5.5779      0.046    121.945      0.000       5.488       5.668\n",
      "Children      -0.2453      0.012    -19.626      0.000      -0.270      -0.221\n",
      "Close         -0.3948      0.029    -13.627      0.000      -0.452      -0.338\n",
      "Catalogs       0.0411      0.002     20.203      0.000       0.037       0.045\n",
      "Salary      1.961e-05   4.34e-07     45.136      0.000    1.88e-05    2.05e-05\n",
      "==============================================================================\n",
      "Omnibus:                        6.748   Durbin-Watson:                   1.912\n",
      "Prob(Omnibus):                  0.034   Jarque-Bera (JB):                8.767\n",
      "Skew:                           0.044   Prob(JB):                       0.0125\n",
      "Kurtosis:                       3.450   Cond. No.                     2.41e+05\n",
      "==============================================================================\n",
      "\n",
      "Notes:\n",
      "[1] Standard Errors assume that the covariance matrix of the errors is correctly specified.\n",
      "[2] The condition number is large, 2.41e+05. This might indicate that there are\n",
      "strong multicollinearity or other numerical problems.\n"
     ]
    }
   ],
   "source": [
    "#x_var = [\"Children\", \"Catalogs\", \"Salary\"]\n",
    "reg_model = fit_lin_reg_with_intercept(X=df_dummy[x_var], Y=np.log(df_dummy[[\"Amount Spent\"]]))\n",
    "print(reg_model.summary())"
   ]
  },
  {
   "cell_type": "code",
   "execution_count": 15,
   "id": "cf59086c",
   "metadata": {},
   "outputs": [
    {
     "data": {
      "image/png": "[encoded data removed]",
      "text/plain": [
       "<Figure size 432x288 with 1 Axes>"
      ]
     },
     "metadata": {
      "needs_background": "light"
     },
     "output_type": "display_data"
    }
   ],
   "source": [
    "residuals = reg_model.resid \n",
    "sm.qqplot(residuals, fit=True, line=\"q\")\n",
    "plt.show()\n",
    "# QQ plot suggests that residual distirubution is ok"
   ]
  },
  {
   "cell_type": "code",
   "execution_count": 16,
   "id": "fab74176",
   "metadata": {},
   "outputs": [
    {
     "data": {
      "image/png": "[encoded data removed]",
      "text/plain": [
       "<Figure size 432x288 with 1 Axes>"
      ]
     },
     "metadata": {
      "needs_background": "light"
     },
     "output_type": "display_data"
    }
   ],
   "source": [
    "fig = sns.scatterplot(x=np.log(df_dummy[\"Amount Spent\"]), y=residuals)\n",
    "fig.set_title(\"Residual vs Cost of Shipping\")\n",
    "plt.show()"
   ]
  },
  {
   "cell_type": "markdown",
   "id": "003fd05a",
   "metadata": {},
   "source": [
    "# Answers\n",
    "    1) Fit a regression model with amount spent as target, and identify the relevant explanatory variables.\n",
    "    Final regression model is :\n",
    "    log(Amount Spent) = 5.5779 - 0.2453 * Children - 0.3948 * Close + 0.0411 * Catalogs + 1.961e-05 * Salary\n",
    "    2) Which age groups spends the most on purchases? \n",
    "    On average, Age group 2 spends the most on purchase(average = 1,502), closely followed by Age group 3(average spend = 1,432) and least purchase is done by Age Group = 1(average spend = 559)\n",
    "    3) How much additional spend is an extra catalog expected to generate?\n",
    "    An extra catalog can increase the spend by a factor of 1.042, since we have taken log of target while modelling.\n",
    "    4) What is the impact of no of children on amount spent. Does this make sense? Explain. \n",
    "    The coefficient for Children is -0.2453. This means that on average higher the number of children, the amount spend at  mall decreases. This makes sense:\n",
    "        - People would like to save more, and consequently less spending on malls\n",
    "        - People could also like more family time, which means less time at mall, and consequently less spending"
   ]
  },
  {
   "cell_type": "code",
   "execution_count": 17,
   "id": "1eba9529",
   "metadata": {},
   "outputs": [
    {
     "data": {
      "text/plain": [
       "1.0419562959654682"
      ]
     },
     "execution_count": 17,
     "metadata": {},
     "output_type": "execute_result"
    }
   ],
   "source": [
    "np.exp(0.0411)"
   ]
  },
  {
   "cell_type": "code",
   "execution_count": 18,
   "id": "9042af40",
   "metadata": {},
   "outputs": [
    {
     "data": {
      "text/plain": [
       "2.718281828459045"
      ]
     },
     "execution_count": 18,
     "metadata": {},
     "output_type": "execute_result"
    }
   ],
   "source": [
    "np.exp(1)"
   ]
  },
  {
   "cell_type": "code",
   "execution_count": null,
   "id": "1aee8518",
   "metadata": {},
   "outputs": [],
   "source": []
  }
 ],
 "metadata": {
  "kernelspec": {
   "display_name": "Python 3 (ipykernel)",
   "language": "python",
   "name": "python3"
  },
  "language_info": {
   "codemirror_mode": {
    "name": "ipython",
    "version": 3
   },
   "file_extension": ".py",
   "mimetype": "text/x-python",
   "name": "python",
   "nbconvert_exporter": "python",
   "pygments_lexer": "ipython3",
   "version": "3.8.10"
  }
 },
 "nbformat": 4,
 "nbformat_minor": 5
}
