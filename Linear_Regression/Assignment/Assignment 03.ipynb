{
 "cells": [
  {
   "cell_type": "markdown",
   "id": "cd3fdad0",
   "metadata": {},
   "source": [
    "# Assignment 03\n",
    "The datasets contains IPL player's auction prices (base price and sold price) and relevant details of each player. \n",
    "\n",
    "    1) Fit a linear regression model to predict the sold-price of the player. \n",
    "    2) Use variable reduction techniques covered so far to identify significant variables.\n",
    "    3) What is the RMSE of the model?\n",
    "    4) What are the top 5 variables that impact the price of the player. \n",
    "\n",
    "Make appropriate assumptions as necessary for solving the assignment. \n",
    "Note that this data may not match actual player data . \n"
   ]
  },
  {
   "cell_type": "markdown",
   "id": "42759932",
   "metadata": {},
   "source": [
    "# Answers\n",
    "1. Linear regression model, after removing variables based on p-value and VIF, is as below:\n",
    "    \n",
    "    4.887e+04 + 5528.6978 * SIXERS + 1.3959 * Base_Price + 1.302e+05 * INDIA + 1.302e+05 * Country_IND  \n",
    "\n",
    "The R-square of the model is 50.6%, which is on lower side and does not mean that we have a great fit. Perhaps we should model sperately fro Batsman and Bowler, and keeping allrounders with Batsman. This should improve the model, since model fitting is increasing biased towards batsman, owing to higher number of batsman in the data and higher price for batsman."
   ]
  },
  {
   "cell_type": "markdown",
   "id": "987c6ef6",
   "metadata": {},
   "source": [
    "2. Following variable reduction techniques being used, with final variables\n",
    "    - Forward selection using mlxtend\n",
    "            - 'SIXERS', 'Base_Price', 'INDIA'\n",
    "    - Backward selection using mlxtend\n",
    "            - 'SIXERS', 'Base_Price', 'Country_IND'\n",
    "    - Ridge(only top 5)\n",
    "            - 'CAPTAINCY_EXP', 'INDIA', 'Country_IND', 'BAT_RUN_S', 'OTHERS'\n",
    "    - Lasso(only top 5)\n",
    "            - 'Base_Price', 'SIXERS', 'INDIA', 'CAPTAINCY_EXP', 'BAT_RUN_S'\n",
    "    - Elastic-Net(only top 5)\n",
    "            - 'Base_Price', 'SIXERS', 'INDIA', 'CAPTAINCY_EXP', 'BAT_RUN_S'"
   ]
  },
  {
   "cell_type": "markdown",
   "id": "dda96dbb",
   "metadata": {},
   "source": [
    "3. RMSE of various models as below:<br>\n",
    "\n",
    "| Modelling Technique                       | RMSE     |\n",
    "--------------------------------------------|----------|\n",
    "| Linear Regression                         | 2,84,900 |\n",
    "| Forward selecion with Linear Regression   | 2,84,900 |\n",
    "| Backward selection with Linear Regression | 2,84,900 |\n",
    "| Ridge Regression                          | 2,92,862 |\n",
    "| Lasso Regression                          | 2,81,617 |\n",
    "| Elastic Net Regression                    | 2,95,638 |\n",
    "\n",
    "4. Mentioned in 2"
   ]
  },
  {
   "cell_type": "code",
   "execution_count": 1,
   "id": "b9f6abcf",
   "metadata": {},
   "outputs": [],
   "source": [
    "import numpy as np \n",
    "import pandas as pd\n",
    "import statsmodels.api as sm\n",
    "import matplotlib.pyplot as plt\n",
    "import seaborn as sns\n",
    "import re\n",
    "from sklearn.metrics import mean_squared_error\n",
    "\n",
    "pd.set_option('display.max_columns', None)\n",
    "pd.set_option('display.max_rows', None)"
   ]
  },
  {
   "cell_type": "code",
   "execution_count": 2,
   "id": "801550e6",
   "metadata": {},
   "outputs": [
    {
     "data": {
      "text/html": [
       "<div>\n",
       "<style scoped>\n",
       "    .dataframe tbody tr th:only-of-type {\n",
       "        vertical-align: middle;\n",
       "    }\n",
       "\n",
       "    .dataframe tbody tr th {\n",
       "        vertical-align: top;\n",
       "    }\n",
       "\n",
       "    .dataframe thead th {\n",
       "        text-align: right;\n",
       "    }\n",
       "</style>\n",
       "<table border=\"1\" class=\"dataframe\">\n",
       "  <thead>\n",
       "    <tr style=\"text-align: right;\">\n",
       "      <th></th>\n",
       "      <th>PLAYER NAME</th>\n",
       "      <th>Country</th>\n",
       "      <th>Team</th>\n",
       "      <th>PLAYING ROLE</th>\n",
       "      <th>BAT</th>\n",
       "      <th>BOW</th>\n",
       "      <th>ALL</th>\n",
       "      <th>BAT-StrikeRate</th>\n",
       "      <th>BOW-Economy</th>\n",
       "      <th>BOW*SR-BL</th>\n",
       "      <th>BAT*RUN-S</th>\n",
       "      <th>BOW*WK-I</th>\n",
       "      <th>BAT*T-RUNS</th>\n",
       "      <th>BAT*ODI-RUNS</th>\n",
       "      <th>BOW*WK-O</th>\n",
       "      <th>Total-RUNS</th>\n",
       "      <th>Total-WKTS</th>\n",
       "      <th>ODI-RUNS</th>\n",
       "      <th>ODI-SR-B</th>\n",
       "      <th>ODI-WKTS</th>\n",
       "      <th>ODI-SR-BL</th>\n",
       "      <th>CAPTAINCY EXP</th>\n",
       "      <th>INDIA</th>\n",
       "      <th>AUSTRALIA</th>\n",
       "      <th>OTHERS</th>\n",
       "      <th>Highest Score</th>\n",
       "      <th>AVERAGE RUNS</th>\n",
       "      <th>SR -B</th>\n",
       "      <th>SIXERS</th>\n",
       "      <th>AVE-BL</th>\n",
       "      <th>ECON</th>\n",
       "      <th>SR -BL</th>\n",
       "      <th>Year</th>\n",
       "      <th>Year_Dummy</th>\n",
       "      <th>Base_Price</th>\n",
       "      <th>SoldPrice</th>\n",
       "    </tr>\n",
       "  </thead>\n",
       "  <tbody>\n",
       "    <tr>\n",
       "      <th>0</th>\n",
       "      <td>Abdulla, YA</td>\n",
       "      <td>SA</td>\n",
       "      <td>KXIP</td>\n",
       "      <td>Allrounder</td>\n",
       "      <td>0.0</td>\n",
       "      <td>0.0</td>\n",
       "      <td>1.0</td>\n",
       "      <td>-</td>\n",
       "      <td>-</td>\n",
       "      <td>-</td>\n",
       "      <td>0.0</td>\n",
       "      <td>0.0</td>\n",
       "      <td>0.0</td>\n",
       "      <td>0.0</td>\n",
       "      <td>0.0</td>\n",
       "      <td>0.0</td>\n",
       "      <td>0.0</td>\n",
       "      <td>0.0</td>\n",
       "      <td>0.0</td>\n",
       "      <td>0.0</td>\n",
       "      <td>0.0</td>\n",
       "      <td>0.0</td>\n",
       "      <td>0.0</td>\n",
       "      <td>0.0</td>\n",
       "      <td>1.0</td>\n",
       "      <td>0.0</td>\n",
       "      <td>-</td>\n",
       "      <td>-</td>\n",
       "      <td>-</td>\n",
       "      <td>20.47</td>\n",
       "      <td>8.90</td>\n",
       "      <td>13.93</td>\n",
       "      <td>2009.0</td>\n",
       "      <td>0.0</td>\n",
       "      <td>50000.0</td>\n",
       "      <td>50000.0</td>\n",
       "    </tr>\n",
       "  </tbody>\n",
       "</table>\n",
       "</div>"
      ],
      "text/plain": [
       "   PLAYER NAME Country  Team PLAYING ROLE  BAT  BOW  ALL  BAT-StrikeRate   \\\n",
       "0  Abdulla, YA      SA  KXIP   Allrounder  0.0  0.0  1.0             -      \n",
       "\n",
       "   BOW-Economy   BOW*SR-BL   BAT*RUN-S  BOW*WK-I  BAT*T-RUNS  BAT*ODI-RUNS  \\\n",
       "0          -           -           0.0       0.0         0.0           0.0   \n",
       "\n",
       "   BOW*WK-O  Total-RUNS  Total-WKTS  ODI-RUNS  ODI-SR-B  ODI-WKTS  ODI-SR-BL  \\\n",
       "0       0.0         0.0         0.0       0.0       0.0       0.0        0.0   \n",
       "\n",
       "   CAPTAINCY EXP  INDIA  AUSTRALIA  OTHERS  Highest Score   AVERAGE RUNS   \\\n",
       "0            0.0    0.0        0.0     1.0             0.0           -      \n",
       "\n",
       "   SR -B   SIXERS   AVE-BL    ECON   SR -BL     Year  Year_Dummy  Base_Price  \\\n",
       "0    -        -      20.47    8.90    13.93   2009.0         0.0     50000.0   \n",
       "\n",
       "   SoldPrice  \n",
       "0    50000.0  "
      ]
     },
     "execution_count": 2,
     "metadata": {},
     "output_type": "execute_result"
    }
   ],
   "source": [
    "# Importing the datasets\n",
    "df = pd.read_csv('Assignment 03-IPL_Case_data.csv')\n",
    "\n",
    "df = df.loc[df['Country'].notna()]\n",
    "df.head(1)"
   ]
  },
  {
   "cell_type": "code",
   "execution_count": 3,
   "id": "eb9e9f99",
   "metadata": {},
   "outputs": [],
   "source": [
    "#df.info()"
   ]
  },
  {
   "cell_type": "code",
   "execution_count": 4,
   "id": "28716100",
   "metadata": {},
   "outputs": [
    {
     "data": {
      "text/plain": [
       "Index(['PLAYER_NAME', 'Country', 'Team', 'PLAYING_ROLE', 'BAT', 'BOW', 'ALL',\n",
       "       'BAT_StrikeRate', 'BOW_Economy', 'BOW_SR_BL', 'BAT_RUN_S', 'BOW_WK_I',\n",
       "       'BAT_T_RUNS', 'BAT_ODI_RUNS', 'BOW_WK_O', 'Total_RUNS', 'Total_WKTS',\n",
       "       'ODI_RUNS', 'ODI_SR_B', 'ODI_WKTS', 'ODI_SR_BL', 'CAPTAINCY_EXP',\n",
       "       'INDIA', 'AUSTRALIA', 'OTHERS', 'Highest_Score', 'AVERAGE_RUNS', 'SR_B',\n",
       "       'SIXERS', 'AVE_BL', 'ECON', 'SR_BL', 'Year', 'Year_Dummy', 'Base_Price',\n",
       "       'SoldPrice'],\n",
       "      dtype='object')"
      ]
     },
     "execution_count": 4,
     "metadata": {},
     "output_type": "execute_result"
    }
   ],
   "source": [
    "# re.sub('[^0-9a-zA-Z]+', '_', \n",
    "new_col_names = [re.sub('[^0-9a-zA-Z]+', '_', s.strip()) for s in df.columns]\n",
    "df.columns = new_col_names\n",
    "df.columns"
   ]
  },
  {
   "cell_type": "code",
   "execution_count": 5,
   "id": "9b1c0f49",
   "metadata": {
    "scrolled": true
   },
   "outputs": [
    {
     "data": {
      "text/plain": [
       "Batsman       51\n",
       "Bowler        44\n",
       "Allrounder    35\n",
       "Name: PLAYING_ROLE, dtype: int64"
      ]
     },
     "execution_count": 5,
     "metadata": {},
     "output_type": "execute_result"
    }
   ],
   "source": [
    "#df.info()\n",
    "df['PLAYING_ROLE'].value_counts()\n",
    "#df['BOW'].value_counts()"
   ]
  },
  {
   "cell_type": "code",
   "execution_count": 6,
   "id": "7d0d28a1",
   "metadata": {},
   "outputs": [
    {
     "data": {
      "image/png": "[encoded data removed]",
      "text/plain": [
       "<Figure size 432x288 with 1 Axes>"
      ]
     },
     "metadata": {
      "needs_background": "light"
     },
     "output_type": "display_data"
    }
   ],
   "source": [
    "sns.boxplot(x='PLAYING_ROLE', y='SoldPrice', data=df)\n",
    "plt.show()"
   ]
  },
  {
   "cell_type": "code",
   "execution_count": 7,
   "id": "51f6fe17",
   "metadata": {},
   "outputs": [
    {
     "data": {
      "text/plain": [
       "[<matplotlib.lines.Line2D at 0x2a224f976d0>]"
      ]
     },
     "execution_count": 7,
     "metadata": {},
     "output_type": "execute_result"
    },
    {
     "data": {
      "image/png": "[encoded data removed]",
      "text/plain": [
       "<Figure size 432x288 with 1 Axes>"
      ]
     },
     "metadata": {
      "needs_background": "light"
     },
     "output_type": "display_data"
    }
   ],
   "source": [
    "plt.plot(df['SoldPrice'])"
   ]
  },
  {
   "cell_type": "code",
   "execution_count": 8,
   "id": "0c077f7e",
   "metadata": {},
   "outputs": [
    {
     "data": {
      "text/plain": [
       "Batsman       7\n",
       "Allrounder    2\n",
       "Name: PLAYING_ROLE, dtype: int64"
      ]
     },
     "execution_count": 8,
     "metadata": {},
     "output_type": "execute_result"
    }
   ],
   "source": [
    "# some batsman have very high outliers\n",
    "# from the above plot, any rows with Sold Price > 125 * 10^6, should be treated as outliers\n",
    "df.loc[df['SoldPrice'] >= 1.25 * 10**6].shape # removes 9 observation from data\n",
    "df.loc[df['SoldPrice'] >= 1.25 * 10**6]['PLAYING_ROLE'].value_counts() # with seven batsman and 2 bowlers\n",
    "#df = df.loc[df['SoldPrice'] <= 1.25 * 10**6]\n",
    "#df.shape"
   ]
  },
  {
   "cell_type": "markdown",
   "id": "638c723f",
   "metadata": {},
   "source": [
    "## 1. Fit a linear regression model to predict the sold-price of the player."
   ]
  },
  {
   "cell_type": "code",
   "execution_count": 9,
   "id": "cb22f639",
   "metadata": {},
   "outputs": [],
   "source": [
    "#df.head(1)\n",
    "# df.describe()"
   ]
  },
  {
   "cell_type": "code",
   "execution_count": 10,
   "id": "d218546e",
   "metadata": {},
   "outputs": [],
   "source": [
    "cat_vars = ['Country', 'Team', 'PLAYING_ROLE']\n",
    "dummy_vars = ['BAT', 'BOW', 'ALL', 'CAPTAINCY_EXP',  'INDIA', 'AUSTRALIA', 'OTHERS']\n",
    "num_vars = [ 'BAT_StrikeRate', 'BOW_Economy', 'BOW_SR_BL', 'BAT_RUN_S', 'BOW_WK_I',\n",
    "             'BAT_T_RUNS', 'BAT_ODI_RUNS', 'BOW_WK_O', 'Total_RUNS', 'Total_WKTS',\n",
    "             'ODI_RUNS', 'ODI_SR_B', 'ODI_WKTS', 'ODI_SR_BL', 'Highest_Score', 'AVERAGE_RUNS', 'SR_B',\n",
    "             'SIXERS', 'AVE_BL', 'ECON', 'SR_BL', 'Base_Price'\n",
    "           ]\n",
    "y_var = 'SoldPrice'"
   ]
  },
  {
   "cell_type": "code",
   "execution_count": 11,
   "id": "5847d41f",
   "metadata": {},
   "outputs": [
    {
     "data": {
      "text/html": [
       "<div>\n",
       "<style scoped>\n",
       "    .dataframe tbody tr th:only-of-type {\n",
       "        vertical-align: middle;\n",
       "    }\n",
       "\n",
       "    .dataframe tbody tr th {\n",
       "        vertical-align: top;\n",
       "    }\n",
       "\n",
       "    .dataframe thead th {\n",
       "        text-align: right;\n",
       "    }\n",
       "</style>\n",
       "<table border=\"1\" class=\"dataframe\">\n",
       "  <thead>\n",
       "    <tr style=\"text-align: right;\">\n",
       "      <th>Year</th>\n",
       "      <th>2008.0</th>\n",
       "      <th>2009.0</th>\n",
       "      <th>2010.0</th>\n",
       "      <th>2011.0</th>\n",
       "    </tr>\n",
       "    <tr>\n",
       "      <th>Year_Dummy</th>\n",
       "      <th></th>\n",
       "      <th></th>\n",
       "      <th></th>\n",
       "      <th></th>\n",
       "    </tr>\n",
       "  </thead>\n",
       "  <tbody>\n",
       "    <tr>\n",
       "      <th>0.0</th>\n",
       "      <td>75</td>\n",
       "      <td>10</td>\n",
       "      <td>3</td>\n",
       "      <td>0</td>\n",
       "    </tr>\n",
       "    <tr>\n",
       "      <th>1.0</th>\n",
       "      <td>0</td>\n",
       "      <td>0</td>\n",
       "      <td>0</td>\n",
       "      <td>42</td>\n",
       "    </tr>\n",
       "  </tbody>\n",
       "</table>\n",
       "</div>"
      ],
      "text/plain": [
       "Year        2008.0  2009.0  2010.0  2011.0\n",
       "Year_Dummy                                \n",
       "0.0             75      10       3       0\n",
       "1.0              0       0       0      42"
      ]
     },
     "execution_count": 11,
     "metadata": {},
     "output_type": "execute_result"
    }
   ],
   "source": [
    "# year and year_dummy not making sense, hence drop these variables from model fitting process\n",
    "pd.crosstab(df['Year_Dummy'], df['Year'])"
   ]
  },
  {
   "cell_type": "code",
   "execution_count": 12,
   "id": "ae06b63a",
   "metadata": {},
   "outputs": [],
   "source": [
    "df_dummy = pd.get_dummies(df, \n",
    "                          columns=cat_vars, \n",
    "                          drop_first=True\n",
    "                         )"
   ]
  },
  {
   "cell_type": "code",
   "execution_count": 13,
   "id": "9add88ab",
   "metadata": {},
   "outputs": [],
   "source": [
    "dummay_vars_2 = ['Country_BAN', 'Country_ENG', 'Country_IND', 'Country_NZ',\n",
    "                 'Country_PAK', 'Country_SA', 'Country_SL', 'Country_WI', 'Country_ZIM',\n",
    "                 'Team_CSK+', 'Team_DC', 'Team_DC+', 'Team_DD', 'Team_DD+', 'Team_KKR',\n",
    "                 'Team_KKR+', 'Team_KXI+', 'Team_KXIP', 'Team_KXIP+', 'Team_MI',\n",
    "                 'Team_MI+', 'Team_RCB', 'Team_RCB+', 'Team_RR', 'Team_RR+',\n",
    "                 'PLAYING_ROLE_Batsman', 'PLAYING_ROLE_Bowler'\n",
    "                ]"
   ]
  },
  {
   "cell_type": "code",
   "execution_count": 14,
   "id": "66ede7db",
   "metadata": {},
   "outputs": [],
   "source": [
    "# convert to numeric and make null as zero\n",
    "vrb_list = ['BAT_StrikeRate', 'BOW_Economy', 'BOW_SR_BL', 'AVERAGE_RUNS', 'SR_B', \n",
    "            'SIXERS', 'AVE_BL', 'ECON', 'SR_BL']\n",
    "for vrb in vrb_list:\n",
    "    df_dummy[vrb] = pd.to_numeric(df_dummy[vrb], errors='coerce').fillna(0)"
   ]
  },
  {
   "cell_type": "code",
   "execution_count": 15,
   "id": "a03aeec9",
   "metadata": {},
   "outputs": [
    {
     "name": "stdout",
     "output_type": "stream",
     "text": [
      "Variable SR_BL removed with VIF 90.42207714714452\n",
      "Variable BAT_T_RUNS removed with VIF 47.0143015422008\n",
      "Variable ODI_RUNS removed with VIF 23.636473786734285\n",
      "Variable AVERAGE_RUNS removed with VIF 23.54775117754775\n",
      "Variable SR_B removed with VIF 14.160961615709862\n",
      "Variable Highest_Score removed with VIF 12.002317065811035\n",
      "Variable BOW_Economy removed with VIF 10.750629825102658\n",
      "Variable ODI_SR_B removed with VIF 8.781601268035146\n",
      "Variable AVE_BL removed with VIF 7.730528094178624\n",
      "Variable ODI_WKTS removed with VIF 7.365987365403608\n",
      "Variable BAT_ODI_RUNS removed with VIF 6.687286989078427\n"
     ]
    }
   ],
   "source": [
    "# Vif analysis to understand variables fit for modelling\n",
    "from statsmodels.stats.outliers_influence import variance_inflation_factor\n",
    "num_var = ['BAT_StrikeRate', 'BOW_Economy', 'BOW_SR_BL', 'BAT_RUN_S', 'BOW_WK_I',\n",
    "         'BAT_T_RUNS', 'BAT_ODI_RUNS', 'BOW_WK_O', 'Total_RUNS', 'Total_WKTS',\n",
    "         'ODI_RUNS', 'ODI_SR_B', 'ODI_WKTS', 'ODI_SR_BL', 'Highest_Score', 'AVERAGE_RUNS', 'SR_B',\n",
    "         'SIXERS', 'AVE_BL', 'ECON', 'SR_BL', 'Base_Price'\n",
    "        ]\n",
    "cut_off = 5\n",
    "max_VIF = 100\n",
    "# remove variable with highest VIF and repeat till all variables, have VIF less than cut-off\n",
    "while max_VIF > cut_off:\n",
    "    X = df_dummy[num_var]\n",
    "    vif_series = pd.Series([variance_inflation_factor(X.values, i) \n",
    "                           for i in range(X.shape[1])], index=X.columns)\n",
    "    max_VIF = vif_series.sort_values(ascending=False)[0]\n",
    "    if max_VIF > cut_off:\n",
    "        rem_var = vif_series.sort_values(ascending=False).index[0]\n",
    "        num_var.remove(rem_var)\n",
    "        print(f\"Variable {rem_var} removed with VIF {max_VIF}\")"
   ]
  },
  {
   "cell_type": "code",
   "execution_count": 16,
   "id": "23e77c76",
   "metadata": {},
   "outputs": [
    {
     "data": {
      "text/plain": [
       "['BAT_StrikeRate',\n",
       " 'BOW_SR_BL',\n",
       " 'BAT_RUN_S',\n",
       " 'BOW_WK_I',\n",
       " 'BOW_WK_O',\n",
       " 'Total_RUNS',\n",
       " 'Total_WKTS',\n",
       " 'ODI_SR_BL',\n",
       " 'SIXERS',\n",
       " 'ECON',\n",
       " 'Base_Price']"
      ]
     },
     "execution_count": 16,
     "metadata": {},
     "output_type": "execute_result"
    }
   ],
   "source": [
    "num_var"
   ]
  },
  {
   "cell_type": "code",
   "execution_count": 17,
   "id": "62ea7483",
   "metadata": {},
   "outputs": [],
   "source": [
    "def fit_lin_reg_with_intercept(X, Y):\n",
    "    X = sm.add_constant(X) # adding a constant\n",
    "    reg_model = sm.OLS(Y,X).fit()\n",
    "    return reg_model"
   ]
  },
  {
   "cell_type": "code",
   "execution_count": 18,
   "id": "604f57e3",
   "metadata": {},
   "outputs": [],
   "source": [
    "def remove_variables_with_highest_p_value(df, x_vars, y_var, p_value_cut_off = 0.05):\n",
    "    p_value_max = 1\n",
    "    while p_value_max > p_value_cut_off:\n",
    "        reg_model  = fit_lin_reg_with_intercept(df[x_vars], df[y_var])\n",
    "        p_values = reg_model.pvalues\n",
    "        size = p_values.size\n",
    "        p_values = p_values[1:size] # remove intercept \n",
    "        p_value_max = p_values.sort_values(ascending=False)[0]\n",
    "        if p_value_max > p_value_cut_off:\n",
    "            rem_var = p_values.sort_values(ascending=False).index[0]\n",
    "            x_vars.remove(rem_var)\n",
    "            print(f\"Variable {rem_var} removed with p-value {p_value_max}\")\n",
    "    \n",
    "    return x_vars"
   ]
  },
  {
   "cell_type": "code",
   "execution_count": 19,
   "id": "637607a8",
   "metadata": {},
   "outputs": [],
   "source": [
    "x_vars = num_var + dummy_vars + dummay_vars_2\n",
    "y_var = 'SoldPrice'"
   ]
  },
  {
   "cell_type": "code",
   "execution_count": 20,
   "id": "55ad9d25",
   "metadata": {},
   "outputs": [
    {
     "name": "stdout",
     "output_type": "stream",
     "text": [
      "Variable ODI_SR_BL removed with p-value 0.9983848611739636\n",
      "Variable AUSTRALIA removed with p-value 0.9337367747504021\n",
      "Variable Country_ZIM removed with p-value 0.928771585656146\n",
      "Variable Country_PAK removed with p-value 0.9816002461588875\n",
      "Variable BAT_StrikeRate removed with p-value 0.8841486069203912\n",
      "Variable Team_KKR+ removed with p-value 0.8847384041211804\n",
      "Variable Team_DC+ removed with p-value 0.8951884819434713\n",
      "Variable Team_KKR removed with p-value 0.8000971903699368\n",
      "Variable Total_WKTS removed with p-value 0.8100677194195599\n",
      "Variable Country_SL removed with p-value 0.739376068828234\n",
      "Variable Team_DD+ removed with p-value 0.7042250698344237\n",
      "Variable Country_BAN removed with p-value 0.685576442010502\n",
      "Variable PLAYING_ROLE_Bowler removed with p-value 0.7140139526789009\n",
      "Variable BOW removed with p-value 0.7140139525511702\n",
      "Variable ALL removed with p-value 0.921237173866591\n",
      "Variable Team_MI+ removed with p-value 0.63679432588598\n",
      "Variable Team_CSK+ removed with p-value 0.5798606921664997\n",
      "Variable ECON removed with p-value 0.5626739744164262\n",
      "Variable Team_KXIP removed with p-value 0.6411825931213708\n",
      "Variable Country_ENG removed with p-value 0.5475278694372052\n",
      "Variable Country_WI removed with p-value 0.5016953156701647\n",
      "Variable Team_RR removed with p-value 0.42489620501441405\n",
      "Variable Team_RCB removed with p-value 0.3843603051052098\n",
      "Variable Team_KXIP+ removed with p-value 0.3908909365408455\n",
      "Variable BOW_WK_O removed with p-value 0.3429733897283368\n",
      "Variable BAT_RUN_S removed with p-value 0.3353433221252501\n",
      "Variable BOW_WK_I removed with p-value 0.2551129252299765\n",
      "Variable Team_DC removed with p-value 0.3005302655422788\n",
      "Variable OTHERS removed with p-value 0.3082759314110597\n",
      "Variable Country_NZ removed with p-value 0.4116808165298532\n",
      "Variable Team_RCB+ removed with p-value 0.2614792897492259\n",
      "Variable Country_SA removed with p-value 0.29970186764193035\n",
      "Variable Team_RR+ removed with p-value 0.2612290367565951\n",
      "Variable Team_DD removed with p-value 0.19459101521035663\n",
      "Variable PLAYING_ROLE_Batsman removed with p-value 0.15857883949012186\n",
      "Variable BAT removed with p-value 0.15857883949012302\n",
      "Variable BOW_SR_BL removed with p-value 0.2838706364406946\n",
      "Variable Team_KXI+ removed with p-value 0.11663930834701629\n",
      "Variable Total_RUNS removed with p-value 0.10693489342073553\n",
      "Variable CAPTAINCY_EXP removed with p-value 0.401837653337655\n",
      "Variable Team_MI removed with p-value 0.05925142804827055\n"
     ]
    }
   ],
   "source": [
    "vars_to_model = remove_variables_with_highest_p_value(df_dummy, x_vars, y_var)"
   ]
  },
  {
   "cell_type": "code",
   "execution_count": 21,
   "id": "832c3b46",
   "metadata": {},
   "outputs": [
    {
     "name": "stdout",
     "output_type": "stream",
     "text": [
      "                            OLS Regression Results                            \n",
      "==============================================================================\n",
      "Dep. Variable:              SoldPrice   R-squared:                       0.506\n",
      "Model:                            OLS   Adj. R-squared:                  0.494\n",
      "Method:                 Least Squares   F-statistic:                     42.97\n",
      "Date:                Sun, 29 May 2022   Prob (F-statistic):           3.38e-19\n",
      "Time:                        22:40:42   Log-Likelihood:                -1817.2\n",
      "No. Observations:                 130   AIC:                             3642.\n",
      "Df Residuals:                     126   BIC:                             3654.\n",
      "Df Model:                           3                                         \n",
      "Covariance Type:            nonrobust                                         \n",
      "===============================================================================\n",
      "                  coef    std err          t      P>|t|      [0.025      0.975]\n",
      "-------------------------------------------------------------------------------\n",
      "const        4.887e+04   4.99e+04      0.980      0.329   -4.98e+04    1.48e+05\n",
      "SIXERS       5528.6978   1098.542      5.033      0.000    3354.716    7702.679\n",
      "Base_Price      1.3959      0.172      8.114      0.000       1.055       1.736\n",
      "INDIA        1.302e+05   2.66e+04      4.901      0.000    7.77e+04    1.83e+05\n",
      "Country_IND  1.302e+05   2.66e+04      4.901      0.000    7.77e+04    1.83e+05\n",
      "==============================================================================\n",
      "Omnibus:                       23.463   Durbin-Watson:                   1.844\n",
      "Prob(Omnibus):                  0.000   Jarque-Bera (JB):               31.005\n",
      "Skew:                           0.993   Prob(JB):                     1.85e-07\n",
      "Kurtosis:                       4.334   Cond. No.                     1.93e+21\n",
      "==============================================================================\n",
      "\n",
      "Notes:\n",
      "[1] Standard Errors assume that the covariance matrix of the errors is correctly specified.\n",
      "[2] The smallest eigenvalue is 2.1e-30. This might indicate that there are\n",
      "strong multicollinearity problems or that the design matrix is singular.\n"
     ]
    }
   ],
   "source": [
    "reg_model = fit_lin_reg_with_intercept(df_dummy[vars_to_model], df_dummy[y_var])\n",
    "print(reg_model.summary())"
   ]
  },
  {
   "cell_type": "code",
   "execution_count": 22,
   "id": "18636e9c",
   "metadata": {},
   "outputs": [
    {
     "data": {
      "image/png": "[encoded data removed]",
      "text/plain": [
       "<Figure size 432x288 with 1 Axes>"
      ]
     },
     "metadata": {
      "needs_background": "light"
     },
     "output_type": "display_data"
    }
   ],
   "source": [
    "residuals = reg_model.resid \n",
    "sm.qqplot(residuals, fit=True, line=\"q\")\n",
    "plt.show()"
   ]
  },
  {
   "cell_type": "code",
   "execution_count": 23,
   "id": "47b1c8ee",
   "metadata": {},
   "outputs": [
    {
     "data": {
      "image/png": "[encoded data removed]",
      "text/plain": [
       "<Figure size 432x288 with 1 Axes>"
      ]
     },
     "metadata": {
      "needs_background": "light"
     },
     "output_type": "display_data"
    }
   ],
   "source": [
    "# Residual plot \n",
    "#residuals = reg_model.resid \n",
    "fig = sns.scatterplot(x=df_dummy[y_var], y=residuals)\n",
    "fig.set_title(\"Residual vs Sold Price\")\n",
    "plt.show()"
   ]
  },
  {
   "cell_type": "code",
   "execution_count": 24,
   "id": "6fc2fc1a",
   "metadata": {},
   "outputs": [
    {
     "data": {
      "text/plain": [
       "284900.0018466439"
      ]
     },
     "execution_count": 24,
     "metadata": {},
     "output_type": "execute_result"
    }
   ],
   "source": [
    "# RMSE\n",
    "y_predicted = reg_model.fittedvalues\n",
    "rmse_lr = mean_squared_error(df_dummy[y_var], y_predicted, squared=False)\n",
    "rmse_lr"
   ]
  },
  {
   "cell_type": "markdown",
   "id": "f8f69cea",
   "metadata": {},
   "source": [
    "### 1\n",
    "Linear regression model, after removing variables based on p-value and VIF, is as below:\n",
    "    \n",
    "    4.887e+04 + 5528.6978 * SIXERS + 1.3959 * Base_Price + 1.302e+05 * INDIA + 1.302e+05 * Country_IND  \n",
    "\n",
    "The R-square of the model is 50.6%, which is on lower side and does not mean that we have a great fit. Perhaps we should model sperately fro Batsman and Bowler, and keeping allrounders with Batsman. This should improve the model, since model fitting is increasing biased towards batsman, owing to higher number of batsman in the data and higher price for batsman."
   ]
  },
  {
   "cell_type": "markdown",
   "id": "46af86c1",
   "metadata": {},
   "source": [
    "## Variable Reduction techniques"
   ]
  },
  {
   "cell_type": "markdown",
   "id": "077177b3",
   "metadata": {},
   "source": [
    "### Forward and Backward selection using mlxtend"
   ]
  },
  {
   "cell_type": "markdown",
   "id": "3b986d5b",
   "metadata": {},
   "source": [
    "#### Forward selection"
   ]
  },
  {
   "cell_type": "code",
   "execution_count": 25,
   "id": "6b30952b",
   "metadata": {},
   "outputs": [],
   "source": [
    "from mlxtend.feature_selection import SequentialFeatureSelector as sfs\n",
    "from sklearn.linear_model import Lasso, Ridge, ElasticNet\n",
    "from sklearn.model_selection import GridSearchCV\n",
    "from sklearn.model_selection import RepeatedKFold\n",
    "from sklearn.linear_model import LinearRegression\n",
    "lr = LinearRegression()"
   ]
  },
  {
   "cell_type": "code",
   "execution_count": 26,
   "id": "f70bbf10",
   "metadata": {},
   "outputs": [
    {
     "name": "stdout",
     "output_type": "stream",
     "text": [
      "Best subset: ('SIXERS', 'Base_Price', 'INDIA')\n"
     ]
    }
   ],
   "source": [
    "x_vars = num_var + dummy_vars + dummay_vars_2\n",
    "y_var = 'SoldPrice'\n",
    "sfs_forward = sfs(lr,\n",
    "                  k_features=3,\n",
    "                  forward=True,\n",
    "                  floating=False,\n",
    "                  scoring='neg_mean_squared_error',\n",
    "                  cv=10\n",
    "                 )\n",
    "\n",
    "sfs_forward = sfs_forward.fit(df_dummy[x_vars], df_dummy[y_var])\n",
    "print('Best subset:', sfs_forward.k_feature_names_)"
   ]
  },
  {
   "cell_type": "code",
   "execution_count": 27,
   "id": "a17f1134",
   "metadata": {},
   "outputs": [
    {
     "name": "stdout",
     "output_type": "stream",
     "text": [
      "                            OLS Regression Results                            \n",
      "==============================================================================\n",
      "Dep. Variable:              SoldPrice   R-squared:                       0.506\n",
      "Model:                            OLS   Adj. R-squared:                  0.494\n",
      "Method:                 Least Squares   F-statistic:                     42.97\n",
      "Date:                Sun, 29 May 2022   Prob (F-statistic):           3.38e-19\n",
      "Time:                        22:40:48   Log-Likelihood:                -1817.2\n",
      "No. Observations:                 130   AIC:                             3642.\n",
      "Df Residuals:                     126   BIC:                             3654.\n",
      "Df Model:                           3                                         \n",
      "Covariance Type:            nonrobust                                         \n",
      "==============================================================================\n",
      "                 coef    std err          t      P>|t|      [0.025      0.975]\n",
      "------------------------------------------------------------------------------\n",
      "const       4.887e+04   4.99e+04      0.980      0.329   -4.98e+04    1.48e+05\n",
      "SIXERS      5528.6978   1098.542      5.033      0.000    3354.716    7702.679\n",
      "Base_Price     1.3959      0.172      8.114      0.000       1.055       1.736\n",
      "INDIA       2.605e+05   5.32e+04      4.901      0.000    1.55e+05    3.66e+05\n",
      "==============================================================================\n",
      "Omnibus:                       23.463   Durbin-Watson:                   1.844\n",
      "Prob(Omnibus):                  0.000   Jarque-Bera (JB):               31.005\n",
      "Skew:                           0.993   Prob(JB):                     1.85e-07\n",
      "Kurtosis:                       4.334   Cond. No.                     6.11e+05\n",
      "==============================================================================\n",
      "\n",
      "Notes:\n",
      "[1] Standard Errors assume that the covariance matrix of the errors is correctly specified.\n",
      "[2] The condition number is large, 6.11e+05. This might indicate that there are\n",
      "strong multicollinearity or other numerical problems.\n"
     ]
    }
   ],
   "source": [
    "reg_model = fit_lin_reg_with_intercept(df_dummy[list(sfs_forward.k_feature_names_)], df_dummy[y_var])\n",
    "print(reg_model.summary())"
   ]
  },
  {
   "cell_type": "code",
   "execution_count": 28,
   "id": "0e6ba2ee",
   "metadata": {},
   "outputs": [
    {
     "data": {
      "text/plain": [
       "284900.001846644"
      ]
     },
     "execution_count": 28,
     "metadata": {},
     "output_type": "execute_result"
    }
   ],
   "source": [
    "y_predicted = reg_model.fittedvalues\n",
    "rmse_lr_fs = mean_squared_error(df_dummy[y_var], y_predicted, squared=False)\n",
    "rmse_lr_fs"
   ]
  },
  {
   "cell_type": "markdown",
   "id": "eda5a1a1",
   "metadata": {},
   "source": [
    "With forward selection, we have to settle with 3 variables, since with higher variables, we are getting insignificant variables"
   ]
  },
  {
   "cell_type": "markdown",
   "id": "c0a66e1e",
   "metadata": {},
   "source": [
    "#### Backward selection"
   ]
  },
  {
   "cell_type": "code",
   "execution_count": 29,
   "id": "d7058d7d",
   "metadata": {},
   "outputs": [
    {
     "name": "stdout",
     "output_type": "stream",
     "text": [
      "Best subset: ('SIXERS', 'Base_Price', 'Country_IND')\n"
     ]
    }
   ],
   "source": [
    "sfs_back = sfs(lr,\n",
    "            k_features=3,\n",
    "            forward=False,\n",
    "            floating=False,\n",
    "            scoring='neg_mean_squared_error',\n",
    "            cv=10)\n",
    "\n",
    "sfs_back = sfs_back.fit(df_dummy[x_vars], df_dummy[y_var])\n",
    "print('Best subset:', sfs_back.k_feature_names_)"
   ]
  },
  {
   "cell_type": "code",
   "execution_count": 30,
   "id": "aa93ffc7",
   "metadata": {},
   "outputs": [
    {
     "name": "stdout",
     "output_type": "stream",
     "text": [
      "                            OLS Regression Results                            \n",
      "==============================================================================\n",
      "Dep. Variable:              SoldPrice   R-squared:                       0.506\n",
      "Model:                            OLS   Adj. R-squared:                  0.494\n",
      "Method:                 Least Squares   F-statistic:                     42.97\n",
      "Date:                Sun, 29 May 2022   Prob (F-statistic):           3.38e-19\n",
      "Time:                        22:41:27   Log-Likelihood:                -1817.2\n",
      "No. Observations:                 130   AIC:                             3642.\n",
      "Df Residuals:                     126   BIC:                             3654.\n",
      "Df Model:                           3                                         \n",
      "Covariance Type:            nonrobust                                         \n",
      "===============================================================================\n",
      "                  coef    std err          t      P>|t|      [0.025      0.975]\n",
      "-------------------------------------------------------------------------------\n",
      "const        4.887e+04   4.99e+04      0.980      0.329   -4.98e+04    1.48e+05\n",
      "SIXERS       5528.6978   1098.542      5.033      0.000    3354.716    7702.679\n",
      "Base_Price      1.3959      0.172      8.114      0.000       1.055       1.736\n",
      "Country_IND  2.605e+05   5.32e+04      4.901      0.000    1.55e+05    3.66e+05\n",
      "==============================================================================\n",
      "Omnibus:                       23.463   Durbin-Watson:                   1.844\n",
      "Prob(Omnibus):                  0.000   Jarque-Bera (JB):               31.005\n",
      "Skew:                           0.993   Prob(JB):                     1.85e-07\n",
      "Kurtosis:                       4.334   Cond. No.                     6.11e+05\n",
      "==============================================================================\n",
      "\n",
      "Notes:\n",
      "[1] Standard Errors assume that the covariance matrix of the errors is correctly specified.\n",
      "[2] The condition number is large, 6.11e+05. This might indicate that there are\n",
      "strong multicollinearity or other numerical problems.\n"
     ]
    }
   ],
   "source": [
    "reg_model = fit_lin_reg_with_intercept(df_dummy[list(sfs_back.k_feature_names_)], df_dummy[y_var])\n",
    "print(reg_model.summary())"
   ]
  },
  {
   "cell_type": "code",
   "execution_count": 31,
   "id": "d5ed9f96",
   "metadata": {},
   "outputs": [
    {
     "data": {
      "text/plain": [
       "284900.001846644"
      ]
     },
     "execution_count": 31,
     "metadata": {},
     "output_type": "execute_result"
    }
   ],
   "source": [
    "y_predicted = reg_model.fittedvalues\n",
    "rmse_lr_bs = mean_squared_error(df_dummy[y_var], y_predicted, squared=False)\n",
    "rmse_lr_bs"
   ]
  },
  {
   "cell_type": "code",
   "execution_count": 32,
   "id": "d981eb6b",
   "metadata": {},
   "outputs": [],
   "source": [
    "# Standardize data, so as to compare coefficients, which are compareable\n",
    "df_x = df_dummy[x_vars].copy()\n",
    "target = df_dummy[y_var]\n",
    "df_x = (df_x - df_x.min()) / (df_x.max() - df_x.min())"
   ]
  },
  {
   "cell_type": "markdown",
   "id": "b3742535",
   "metadata": {},
   "source": [
    "### Ridge regression\n",
    "\n",
    "Steps to identify best alpha\n",
    "   - Vary alpha from 0.01 to 1"
   ]
  },
  {
   "cell_type": "code",
   "execution_count": 33,
   "id": "11c17424",
   "metadata": {},
   "outputs": [
    {
     "name": "stdout",
     "output_type": "stream",
     "text": [
      "MAE: -282842.178\n",
      "Config: {'alpha': 4}\n"
     ]
    }
   ],
   "source": [
    "alpha_range = np.arange(.01, 0.1, 0.01).tolist() + np.arange(.1, 1, 0.1).tolist() + np.arange(1, 100, 1).tolist() + \\\n",
    "              np.arange(100, 10000, 100).tolist()\n",
    "# define model\n",
    "model = Ridge()\n",
    "# define model evaluation method\n",
    "cv = RepeatedKFold(n_splits=10, n_repeats=3, random_state=1)\n",
    "# define grid\n",
    "grid = dict()\n",
    "grid['alpha'] = alpha_range\n",
    "# define search\n",
    "search = GridSearchCV(model, grid, scoring='neg_mean_absolute_error', cv=cv, n_jobs=-1)\n",
    "# perform the search\n",
    "results = search.fit(df_x, target)\n",
    "# summarize\n",
    "print('MAE: %.3f' % results.best_score_)\n",
    "print('Config: %s' % results.best_params_)"
   ]
  },
  {
   "cell_type": "code",
   "execution_count": 34,
   "id": "bf9ffec6",
   "metadata": {},
   "outputs": [
    {
     "data": {
      "text/plain": [
       "10       Base_Price\n",
       "8            SIXERS\n",
       "2         BAT_RUN_S\n",
       "14    CAPTAINCY_EXP\n",
       "19      Country_ENG\n",
       "Name: variable_name, dtype: object"
      ]
     },
     "execution_count": 34,
     "metadata": {},
     "output_type": "execute_result"
    }
   ],
   "source": [
    "ri_model = Ridge(alpha=results.best_params_['alpha'])\n",
    "ri_model.fit(df_x, target)\n",
    "#ri_model.coef_\n",
    "df_ridge_coeff = pd.DataFrame({'variable_name' : df_x.columns, 'coeff_value' : np.abs(ri_model.coef_)})\n",
    "vrb_top_5 = df_ridge_coeff.sort_values(by = 'coeff_value', ascending=False)['variable_name'][0:5]\n",
    "vrb_top_5\n",
    "#df_ridge_coeff.sort_values(by = 'coeff_value', ascending=False)"
   ]
  },
  {
   "cell_type": "code",
   "execution_count": 35,
   "id": "651e62e0",
   "metadata": {},
   "outputs": [
    {
     "data": {
      "text/plain": [
       "292862.5834338793"
      ]
     },
     "execution_count": 35,
     "metadata": {},
     "output_type": "execute_result"
    }
   ],
   "source": [
    "y_predicted = ri_model.predict(df_x)\n",
    "rmse_lr_enm = mean_squared_error(df_dummy[y_var], y_predicted, squared=False)\n",
    "rmse_lr_enm"
   ]
  },
  {
   "cell_type": "markdown",
   "id": "49939535",
   "metadata": {},
   "source": [
    "### Lasso regression"
   ]
  },
  {
   "cell_type": "code",
   "execution_count": 36,
   "id": "6c8724df",
   "metadata": {},
   "outputs": [
    {
     "name": "stdout",
     "output_type": "stream",
     "text": [
      "MAE: -248544.574\n",
      "Config: {'alpha': 5700}\n"
     ]
    }
   ],
   "source": [
    "alpha_range = np.arange(.01, 0.1, 0.01).tolist() + np.arange(.1, 1, 0.1).tolist() + np.arange(1, 100, 1).tolist() + \\\n",
    "              np.arange(100, 10000, 100).tolist()\n",
    "# define model\n",
    "model = Lasso()\n",
    "# define model evaluation method\n",
    "cv = RepeatedKFold(n_splits=10, n_repeats=3, random_state=1)\n",
    "# define grid\n",
    "grid = dict()\n",
    "grid['alpha'] = alpha_range\n",
    "# define search\n",
    "search = GridSearchCV(model, grid, scoring='neg_mean_absolute_error', cv=cv, n_jobs=-1)\n",
    "# perform the search\n",
    "results = search.fit(df_x, target)\n",
    "# summarize\n",
    "print('MAE: %.3f' % results.best_score_)\n",
    "print('Config: %s' % results.best_params_)"
   ]
  },
  {
   "cell_type": "code",
   "execution_count": 37,
   "id": "5131fdcf",
   "metadata": {},
   "outputs": [
    {
     "data": {
      "text/plain": [
       "10       Base_Price\n",
       "8            SIXERS\n",
       "15            INDIA\n",
       "14    CAPTAINCY_EXP\n",
       "2         BAT_RUN_S\n",
       "Name: variable_name, dtype: object"
      ]
     },
     "execution_count": 37,
     "metadata": {},
     "output_type": "execute_result"
    }
   ],
   "source": [
    "lasso_model = Lasso(alpha=results.best_params_['alpha'])\n",
    "lasso_model.fit(df_x, target)\n",
    "#ri_model.coef_\n",
    "df_lasso_coeff = pd.DataFrame({'variable_name' : df_x.columns, 'coeff_value' : np.abs(lasso_model.coef_)})\n",
    "vrb_top_5 = df_lasso_coeff.sort_values(by = 'coeff_value', ascending=False)['variable_name'][0:5]\n",
    "vrb_top_5"
   ]
  },
  {
   "cell_type": "code",
   "execution_count": 38,
   "id": "28129b78",
   "metadata": {},
   "outputs": [
    {
     "data": {
      "text/plain": [
       "281617.0843639907"
      ]
     },
     "execution_count": 38,
     "metadata": {},
     "output_type": "execute_result"
    }
   ],
   "source": [
    "y_predicted = lasso_model.predict(df_x)\n",
    "rmse_lr_enm = mean_squared_error(df_dummy[y_var], y_predicted, squared=False)\n",
    "rmse_lr_enm"
   ]
  },
  {
   "cell_type": "markdown",
   "id": "e47e5795",
   "metadata": {},
   "source": [
    "### Elastic Net"
   ]
  },
  {
   "cell_type": "code",
   "execution_count": 39,
   "id": "450f43b5",
   "metadata": {},
   "outputs": [
    {
     "name": "stdout",
     "output_type": "stream",
     "text": [
      "MAE: -282850.935\n",
      "Config: {'alpha': 0.06999999999999999, 'l1_ratio': 0.5}\n"
     ]
    }
   ],
   "source": [
    "alpha_range = np.arange(.01, 0.1, 0.01).tolist() + np.arange(.1, 1, 0.1).tolist() + np.arange(1, 100, 1).tolist() + \\\n",
    "              np.arange(100, 10000, 100).tolist()\n",
    "l1_ratio_range = np.arange(.01, 0.1, 0.01).tolist() + np.arange(.1, 1, 0.1).tolist() \n",
    "# define model\n",
    "model = ElasticNet()\n",
    "# define model evaluation method\n",
    "cv = RepeatedKFold(n_splits=10, n_repeats=3, random_state=1)\n",
    "# define grid\n",
    "grid = dict()\n",
    "grid['alpha'] = alpha_range\n",
    "grid['l1_ratio'] = l1_ratio_range\n",
    "# define search\n",
    "search = GridSearchCV(model, grid, scoring='neg_mean_absolute_error', cv=cv, n_jobs=-1)\n",
    "# perform the search\n",
    "results = search.fit(df_x, target)\n",
    "# summarize\n",
    "print('MAE: %.3f' % results.best_score_)\n",
    "print('Config: %s' % results.best_params_)"
   ]
  },
  {
   "cell_type": "code",
   "execution_count": 40,
   "id": "dacfbc59",
   "metadata": {},
   "outputs": [
    {
     "data": {
      "text/plain": [
       "10       Base_Price\n",
       "8            SIXERS\n",
       "15            INDIA\n",
       "14    CAPTAINCY_EXP\n",
       "2         BAT_RUN_S\n",
       "Name: variable_name, dtype: object"
      ]
     },
     "execution_count": 40,
     "metadata": {},
     "output_type": "execute_result"
    }
   ],
   "source": [
    "ElasticNet_model = ElasticNet(alpha=results.best_params_['alpha'], l1_ratio=results.best_params_['l1_ratio'])\n",
    "ElasticNet_model.fit(df_x, target)\n",
    "#ri_model.coef_\n",
    "df_elastic_net_coeff = pd.DataFrame({'variable_name' : df_x.columns, 'coeff_value' : np.abs(lasso_model.coef_)})\n",
    "df_elastic_net_coeff.sort_values(by = 'coeff_value', ascending=False)['variable_name'][0:5]"
   ]
  },
  {
   "cell_type": "code",
   "execution_count": 41,
   "id": "7d60d06d",
   "metadata": {},
   "outputs": [
    {
     "data": {
      "text/plain": [
       "295638.6737038106"
      ]
     },
     "execution_count": 41,
     "metadata": {},
     "output_type": "execute_result"
    }
   ],
   "source": [
    "y_predicted = ElasticNet_model.predict(df_x)\n",
    "rmse_lr_enm = mean_squared_error(df_dummy[y_var], y_predicted, squared=False)\n",
    "rmse_lr_enm"
   ]
  },
  {
   "cell_type": "code",
   "execution_count": null,
   "id": "2f849da4",
   "metadata": {},
   "outputs": [],
   "source": []
  },
  {
   "cell_type": "code",
   "execution_count": null,
   "id": "c2a664cc",
   "metadata": {},
   "outputs": [],
   "source": []
  }
 ],
 "metadata": {
  "kernelspec": {
   "display_name": "Python 3 (ipykernel)",
   "language": "python",
   "name": "python3"
  },
  "language_info": {
   "codemirror_mode": {
    "name": "ipython",
    "version": 3
   },
   "file_extension": ".py",
   "mimetype": "text/x-python",
   "name": "python",
   "nbconvert_exporter": "python",
   "pygments_lexer": "ipython3",
   "version": "3.8.10"
  }
 },
 "nbformat": 4,
 "nbformat_minor": 5
}
