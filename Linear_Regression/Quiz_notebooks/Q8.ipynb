{
 "cells": [
  {
   "cell_type": "code",
   "execution_count": 1,
   "id": "a7f084fb",
   "metadata": {},
   "outputs": [],
   "source": [
    "import numpy as np\n",
    "import pandas as pd \n",
    "\n",
    "import seaborn as sbn \n",
    "import matplotlib.pyplot as plt\n",
    "\n",
    "import statsmodels.api as sm\n",
    "from sklearn.linear_model import LinearRegression"
   ]
  },
  {
   "cell_type": "code",
   "execution_count": 2,
   "id": "debb8a9d",
   "metadata": {},
   "outputs": [
    {
     "data": {
      "text/html": [
       "<div>\n",
       "<style scoped>\n",
       "    .dataframe tbody tr th:only-of-type {\n",
       "        vertical-align: middle;\n",
       "    }\n",
       "\n",
       "    .dataframe tbody tr th {\n",
       "        vertical-align: top;\n",
       "    }\n",
       "\n",
       "    .dataframe thead th {\n",
       "        text-align: right;\n",
       "    }\n",
       "</style>\n",
       "<table border=\"1\" class=\"dataframe\">\n",
       "  <thead>\n",
       "    <tr style=\"text-align: right;\">\n",
       "      <th></th>\n",
       "      <th>Truck</th>\n",
       "      <th>Maintenance Expense</th>\n",
       "      <th>Miles Driven</th>\n",
       "      <th>Age of Truck</th>\n",
       "    </tr>\n",
       "  </thead>\n",
       "  <tbody>\n",
       "    <tr>\n",
       "      <th>0</th>\n",
       "      <td>1</td>\n",
       "      <td>908.56</td>\n",
       "      <td>10500</td>\n",
       "      <td>10</td>\n",
       "    </tr>\n",
       "    <tr>\n",
       "      <th>1</th>\n",
       "      <td>2</td>\n",
       "      <td>751.12</td>\n",
       "      <td>9700</td>\n",
       "      <td>7</td>\n",
       "    </tr>\n",
       "    <tr>\n",
       "      <th>2</th>\n",
       "      <td>3</td>\n",
       "      <td>793.55</td>\n",
       "      <td>9200</td>\n",
       "      <td>8</td>\n",
       "    </tr>\n",
       "    <tr>\n",
       "      <th>3</th>\n",
       "      <td>4</td>\n",
       "      <td>619.61</td>\n",
       "      <td>8300</td>\n",
       "      <td>9</td>\n",
       "    </tr>\n",
       "    <tr>\n",
       "      <th>4</th>\n",
       "      <td>5</td>\n",
       "      <td>380.11</td>\n",
       "      <td>6500</td>\n",
       "      <td>5</td>\n",
       "    </tr>\n",
       "  </tbody>\n",
       "</table>\n",
       "</div>"
      ],
      "text/plain": [
       "   Truck  Maintenance Expense  Miles Driven  Age of Truck\n",
       "0      1               908.56         10500            10\n",
       "1      2               751.12          9700             7\n",
       "2      3               793.55          9200             8\n",
       "3      4               619.61          8300             9\n",
       "4      5               380.11          6500             5"
      ]
     },
     "execution_count": 2,
     "metadata": {},
     "output_type": "execute_result"
    }
   ],
   "source": [
    "df = pd.read_excel(\"MLR_Q08_TruckMaintenance.xlsx\")\n",
    "df.head()"
   ]
  },
  {
   "cell_type": "code",
   "execution_count": 3,
   "id": "14d292b3",
   "metadata": {},
   "outputs": [
    {
     "data": {
      "text/html": [
       "<div>\n",
       "<style scoped>\n",
       "    .dataframe tbody tr th:only-of-type {\n",
       "        vertical-align: middle;\n",
       "    }\n",
       "\n",
       "    .dataframe tbody tr th {\n",
       "        vertical-align: top;\n",
       "    }\n",
       "\n",
       "    .dataframe thead th {\n",
       "        text-align: right;\n",
       "    }\n",
       "</style>\n",
       "<table border=\"1\" class=\"dataframe\">\n",
       "  <thead>\n",
       "    <tr style=\"text-align: right;\">\n",
       "      <th></th>\n",
       "      <th>Truck</th>\n",
       "      <th>Maintenance Expense</th>\n",
       "      <th>Miles Driven</th>\n",
       "      <th>Age of Truck</th>\n",
       "    </tr>\n",
       "  </thead>\n",
       "  <tbody>\n",
       "    <tr>\n",
       "      <th>count</th>\n",
       "      <td>23.00000</td>\n",
       "      <td>23.000000</td>\n",
       "      <td>23.000000</td>\n",
       "      <td>23.000000</td>\n",
       "    </tr>\n",
       "    <tr>\n",
       "      <th>mean</th>\n",
       "      <td>12.00000</td>\n",
       "      <td>519.349565</td>\n",
       "      <td>6321.739130</td>\n",
       "      <td>5.391304</td>\n",
       "    </tr>\n",
       "    <tr>\n",
       "      <th>std</th>\n",
       "      <td>6.78233</td>\n",
       "      <td>285.902217</td>\n",
       "      <td>3476.800583</td>\n",
       "      <td>3.257706</td>\n",
       "    </tr>\n",
       "    <tr>\n",
       "      <th>min</th>\n",
       "      <td>1.00000</td>\n",
       "      <td>142.530000</td>\n",
       "      <td>1100.000000</td>\n",
       "      <td>1.000000</td>\n",
       "    </tr>\n",
       "    <tr>\n",
       "      <th>25%</th>\n",
       "      <td>6.50000</td>\n",
       "      <td>233.390000</td>\n",
       "      <td>2850.000000</td>\n",
       "      <td>2.500000</td>\n",
       "    </tr>\n",
       "    <tr>\n",
       "      <th>50%</th>\n",
       "      <td>12.00000</td>\n",
       "      <td>436.040000</td>\n",
       "      <td>6600.000000</td>\n",
       "      <td>5.000000</td>\n",
       "    </tr>\n",
       "    <tr>\n",
       "      <th>75%</th>\n",
       "      <td>17.50000</td>\n",
       "      <td>801.680000</td>\n",
       "      <td>9750.000000</td>\n",
       "      <td>8.000000</td>\n",
       "    </tr>\n",
       "    <tr>\n",
       "      <th>max</th>\n",
       "      <td>23.00000</td>\n",
       "      <td>915.530000</td>\n",
       "      <td>10500.000000</td>\n",
       "      <td>11.000000</td>\n",
       "    </tr>\n",
       "  </tbody>\n",
       "</table>\n",
       "</div>"
      ],
      "text/plain": [
       "          Truck  Maintenance Expense  Miles Driven  Age of Truck\n",
       "count  23.00000            23.000000     23.000000     23.000000\n",
       "mean   12.00000           519.349565   6321.739130      5.391304\n",
       "std     6.78233           285.902217   3476.800583      3.257706\n",
       "min     1.00000           142.530000   1100.000000      1.000000\n",
       "25%     6.50000           233.390000   2850.000000      2.500000\n",
       "50%    12.00000           436.040000   6600.000000      5.000000\n",
       "75%    17.50000           801.680000   9750.000000      8.000000\n",
       "max    23.00000           915.530000  10500.000000     11.000000"
      ]
     },
     "execution_count": 3,
     "metadata": {},
     "output_type": "execute_result"
    }
   ],
   "source": [
    "df.describe()"
   ]
  },
  {
   "cell_type": "markdown",
   "id": "1d764076",
   "metadata": {},
   "source": [
    "## Without standardizing X variables"
   ]
  },
  {
   "cell_type": "code",
   "execution_count": 4,
   "id": "36ea7538",
   "metadata": {
    "scrolled": true
   },
   "outputs": [
    {
     "name": "stdout",
     "output_type": "stream",
     "text": [
      "                             OLS Regression Results                            \n",
      "===============================================================================\n",
      "Dep. Variable:     Maintenance Expense   R-squared:                       0.951\n",
      "Model:                             OLS   Adj. R-squared:                  0.946\n",
      "Method:                  Least Squares   F-statistic:                     195.0\n",
      "Date:                 Wed, 11 May 2022   Prob (F-statistic):           7.62e-14\n",
      "Time:                         19:07:30   Log-Likelihood:                -127.47\n",
      "No. Observations:                   23   AIC:                             260.9\n",
      "Df Residuals:                       20   BIC:                             264.3\n",
      "Df Model:                            2                                         \n",
      "Covariance Type:             nonrobust                                         \n",
      "================================================================================\n",
      "                   coef    std err          t      P>|t|      [0.025      0.975]\n",
      "--------------------------------------------------------------------------------\n",
      "const           11.4184     29.191      0.391      0.700     -49.473      72.310\n",
      "Miles Driven     0.0712      0.009      8.274      0.000       0.053       0.089\n",
      "Age of Truck    10.7086      9.186      1.166      0.257      -8.453      29.871\n",
      "==============================================================================\n",
      "Omnibus:                        1.263   Durbin-Watson:                   1.925\n",
      "Prob(Omnibus):                  0.532   Jarque-Bera (JB):                0.521\n",
      "Skew:                          -0.362   Prob(JB):                        0.771\n",
      "Kurtosis:                       3.142   Cond. No.                     1.52e+04\n",
      "==============================================================================\n",
      "\n",
      "Notes:\n",
      "[1] Standard Errors assume that the covariance matrix of the errors is correctly specified.\n",
      "[2] The condition number is large, 1.52e+04. This might indicate that there are\n",
      "strong multicollinearity or other numerical problems.\n"
     ]
    }
   ],
   "source": [
    "Y = df[[\"Maintenance Expense\"]]\n",
    "X = df[['Miles Driven', 'Age of Truck']]\n",
    "X = sm.add_constant(X) # adding a constan\n",
    "reg_model = sm.OLS(Y,X).fit()\n",
    "print(reg_model.summary())"
   ]
  },
  {
   "cell_type": "markdown",
   "id": "c3416cb4",
   "metadata": {},
   "source": [
    "## With standardizing"
   ]
  },
  {
   "cell_type": "code",
   "execution_count": 6,
   "id": "5ce04c25",
   "metadata": {
    "scrolled": true
   },
   "outputs": [
    {
     "name": "stdout",
     "output_type": "stream",
     "text": [
      "                             OLS Regression Results                            \n",
      "===============================================================================\n",
      "Dep. Variable:     Maintenance Expense   R-squared:                       0.951\n",
      "Model:                             OLS   Adj. R-squared:                  0.946\n",
      "Method:                  Least Squares   F-statistic:                     195.0\n",
      "Date:                 Wed, 11 May 2022   Prob (F-statistic):           7.62e-14\n",
      "Time:                         19:08:21   Log-Likelihood:                -127.47\n",
      "No. Observations:                   23   AIC:                             260.9\n",
      "Df Residuals:                       20   BIC:                             264.3\n",
      "Df Model:                            2                                         \n",
      "Covariance Type:             nonrobust                                         \n",
      "================================================================================\n",
      "                   coef    std err          t      P>|t|      [0.025      0.975]\n",
      "--------------------------------------------------------------------------------\n",
      "const          100.4626     25.315      3.969      0.001      47.657     153.268\n",
      "Miles Driven   669.4140     80.908      8.274      0.000     500.642     838.185\n",
      "Age of Truck   107.0859     91.861      1.166      0.257     -84.533     298.705\n",
      "==============================================================================\n",
      "Omnibus:                        1.263   Durbin-Watson:                   1.925\n",
      "Prob(Omnibus):                  0.532   Jarque-Bera (JB):                0.521\n",
      "Skew:                          -0.362   Prob(JB):                        0.771\n",
      "Kurtosis:                       3.142   Cond. No.                         10.8\n",
      "==============================================================================\n",
      "\n",
      "Notes:\n",
      "[1] Standard Errors assume that the covariance matrix of the errors is correctly specified.\n"
     ]
    }
   ],
   "source": [
    "Y = df[[\"Maintenance Expense\"]]\n",
    "X = df[['Miles Driven', 'Age of Truck']]\n",
    "\n",
    "from sklearn.preprocessing import MinMaxScaler\n",
    "\n",
    "X_std = (X - X.min()) / (X.max() - X.min())\n",
    "X_std = sm.add_constant(X_std) # adding a constant\n",
    "reg_model = sm.OLS(Y,X_std).fit()\n",
    "print(reg_model.summary())"
   ]
  },
  {
   "cell_type": "markdown",
   "id": "304a4d41",
   "metadata": {},
   "source": [
    "### Conclusions:\n",
    "  - The regresion equation is<br>\n",
    "     **Maintenance Expense = 11.4184 + 0.0712 * Miles Driven + 10.7086 * Age of Truck**\n",
    "  - Coefficient magnitude depends on the scale of variable, since the scale of Miles driven is typically in thousands and age of truck is mostly in single digits(max being 11), hence the coefficient for Miles is very small as compared to coefficient for Age. However once we standardize the X variables, then the magnitude for both the variables is comparable(Miles Driven = 669.4140, and Age = 107.0859)\n",
    "  - R squared for this model is 95.1%, which means that the model is able to explain 95.1% variation in Y variable, using the X variables for the training data."
   ]
  },
  {
   "cell_type": "code",
   "execution_count": null,
   "id": "cf473704",
   "metadata": {},
   "outputs": [],
   "source": []
  }
 ],
 "metadata": {
  "kernelspec": {
   "display_name": "Python 3 (ipykernel)",
   "language": "python",
   "name": "python3"
  },
  "language_info": {
   "codemirror_mode": {
    "name": "ipython",
    "version": 3
   },
   "file_extension": ".py",
   "mimetype": "text/x-python",
   "name": "python",
   "nbconvert_exporter": "python",
   "pygments_lexer": "ipython3",
   "version": "3.8.10"
  }
 },
 "nbformat": 4,
 "nbformat_minor": 5
}
