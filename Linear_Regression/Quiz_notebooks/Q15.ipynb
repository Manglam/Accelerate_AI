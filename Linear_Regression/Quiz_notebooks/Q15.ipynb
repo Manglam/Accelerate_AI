{
 "cells": [
  {
   "cell_type": "markdown",
   "id": "d4307c2c",
   "metadata": {},
   "source": [
    "# Q15\n",
    "\n",
    "MLR with Interaction effect\n",
    "\n",
    "Revise the Stock Price prediction model for utility companies, to include an interaction term between ROE and Annual dividend rate. \n",
    "Data File: MLR_Q15_StockPrices.csv\n",
    "Location: https://drive.google.com/drive/folders/1ILKastUTJWccxaxIpJpjqCJDpsMJ-oC8\n",
    "\n",
    "    1) Estimate the regression model coefficients\n",
    "    2) Interpret each of the coefficients\n",
    "    3) Does this new model fit the data better than was done in Problem 10.\n"
   ]
  },
  {
   "cell_type": "code",
   "execution_count": 1,
   "id": "83e5a2e8",
   "metadata": {},
   "outputs": [],
   "source": [
    "import numpy as np\n",
    "import pandas as pd \n",
    "\n",
    "import seaborn as sns \n",
    "import matplotlib.pyplot as plt\n",
    "\n",
    "import statsmodels.api as sm\n",
    "from sklearn.linear_model import LinearRegression"
   ]
  },
  {
   "cell_type": "code",
   "execution_count": 5,
   "id": "94dbe0ec",
   "metadata": {},
   "outputs": [
    {
     "data": {
      "text/html": [
       "<div>\n",
       "<style scoped>\n",
       "    .dataframe tbody tr th:only-of-type {\n",
       "        vertical-align: middle;\n",
       "    }\n",
       "\n",
       "    .dataframe tbody tr th {\n",
       "        vertical-align: top;\n",
       "    }\n",
       "\n",
       "    .dataframe thead th {\n",
       "        text-align: right;\n",
       "    }\n",
       "</style>\n",
       "<table border=\"1\" class=\"dataframe\">\n",
       "  <thead>\n",
       "    <tr style=\"text-align: right;\">\n",
       "      <th></th>\n",
       "      <th>Electric Utility</th>\n",
       "      <th>ROE</th>\n",
       "      <th>Dividend</th>\n",
       "      <th>Stock_Price</th>\n",
       "      <th>Interaction_ROE_Dividend</th>\n",
       "    </tr>\n",
       "  </thead>\n",
       "  <tbody>\n",
       "    <tr>\n",
       "      <th>0</th>\n",
       "      <td>1</td>\n",
       "      <td>13.7</td>\n",
       "      <td>2.36</td>\n",
       "      <td>23</td>\n",
       "      <td>32.332</td>\n",
       "    </tr>\n",
       "    <tr>\n",
       "      <th>1</th>\n",
       "      <td>2</td>\n",
       "      <td>12.8</td>\n",
       "      <td>3.12</td>\n",
       "      <td>34</td>\n",
       "      <td>39.936</td>\n",
       "    </tr>\n",
       "    <tr>\n",
       "      <th>2</th>\n",
       "      <td>3</td>\n",
       "      <td>6.9</td>\n",
       "      <td>2.48</td>\n",
       "      <td>20</td>\n",
       "      <td>17.112</td>\n",
       "    </tr>\n",
       "    <tr>\n",
       "      <th>3</th>\n",
       "      <td>4</td>\n",
       "      <td>12.7</td>\n",
       "      <td>2.36</td>\n",
       "      <td>24</td>\n",
       "      <td>29.972</td>\n",
       "    </tr>\n",
       "    <tr>\n",
       "      <th>4</th>\n",
       "      <td>5</td>\n",
       "      <td>15.3</td>\n",
       "      <td>1.92</td>\n",
       "      <td>20</td>\n",
       "      <td>29.376</td>\n",
       "    </tr>\n",
       "    <tr>\n",
       "      <th>5</th>\n",
       "      <td>6</td>\n",
       "      <td>13.3</td>\n",
       "      <td>1.60</td>\n",
       "      <td>13</td>\n",
       "      <td>21.280</td>\n",
       "    </tr>\n",
       "    <tr>\n",
       "      <th>6</th>\n",
       "      <td>7</td>\n",
       "      <td>14.6</td>\n",
       "      <td>3.08</td>\n",
       "      <td>33</td>\n",
       "      <td>44.968</td>\n",
       "    </tr>\n",
       "    <tr>\n",
       "      <th>7</th>\n",
       "      <td>8</td>\n",
       "      <td>15.8</td>\n",
       "      <td>1.52</td>\n",
       "      <td>15</td>\n",
       "      <td>24.016</td>\n",
       "    </tr>\n",
       "    <tr>\n",
       "      <th>8</th>\n",
       "      <td>9</td>\n",
       "      <td>12.0</td>\n",
       "      <td>2.72</td>\n",
       "      <td>26</td>\n",
       "      <td>32.640</td>\n",
       "    </tr>\n",
       "    <tr>\n",
       "      <th>9</th>\n",
       "      <td>10</td>\n",
       "      <td>15.3</td>\n",
       "      <td>2.56</td>\n",
       "      <td>25</td>\n",
       "      <td>39.168</td>\n",
       "    </tr>\n",
       "  </tbody>\n",
       "</table>\n",
       "</div>"
      ],
      "text/plain": [
       "   Electric Utility   ROE  Dividend  Stock_Price  Interaction_ROE_Dividend\n",
       "0                 1  13.7      2.36           23                    32.332\n",
       "1                 2  12.8      3.12           34                    39.936\n",
       "2                 3   6.9      2.48           20                    17.112\n",
       "3                 4  12.7      2.36           24                    29.972\n",
       "4                 5  15.3      1.92           20                    29.376\n",
       "5                 6  13.3      1.60           13                    21.280\n",
       "6                 7  14.6      3.08           33                    44.968\n",
       "7                 8  15.8      1.52           15                    24.016\n",
       "8                 9  12.0      2.72           26                    32.640\n",
       "9                10  15.3      2.56           25                    39.168"
      ]
     },
     "execution_count": 5,
     "metadata": {},
     "output_type": "execute_result"
    }
   ],
   "source": [
    "df = pd.read_csv(\"MLR_Q10_StockPrice.csv\")\\\n",
    "       .assign(Stock_Price = lambda df: df['Stock Price'].str.replace('$', '', regex=True).astype(int))\\\n",
    "       .drop('Stock Price', axis=1)\n",
    "df['Interaction_ROE_Dividend'] = df['ROE'] * df['Dividend']\n",
    "\n",
    "df.head(10)"
   ]
  },
  {
   "cell_type": "code",
   "execution_count": 7,
   "id": "1bd9b7bd",
   "metadata": {},
   "outputs": [
    {
     "data": {
      "text/html": [
       "<div>\n",
       "<style scoped>\n",
       "    .dataframe tbody tr th:only-of-type {\n",
       "        vertical-align: middle;\n",
       "    }\n",
       "\n",
       "    .dataframe tbody tr th {\n",
       "        vertical-align: top;\n",
       "    }\n",
       "\n",
       "    .dataframe thead th {\n",
       "        text-align: right;\n",
       "    }\n",
       "</style>\n",
       "<table border=\"1\" class=\"dataframe\">\n",
       "  <thead>\n",
       "    <tr style=\"text-align: right;\">\n",
       "      <th></th>\n",
       "      <th>Stock_Price</th>\n",
       "      <th>ROE</th>\n",
       "      <th>Dividend</th>\n",
       "      <th>Interaction_ROE_Dividend</th>\n",
       "    </tr>\n",
       "  </thead>\n",
       "  <tbody>\n",
       "    <tr>\n",
       "      <th>Stock_Price</th>\n",
       "      <td>1.000000</td>\n",
       "      <td>0.178222</td>\n",
       "      <td>0.944691</td>\n",
       "      <td>0.841249</td>\n",
       "    </tr>\n",
       "    <tr>\n",
       "      <th>ROE</th>\n",
       "      <td>0.178222</td>\n",
       "      <td>1.000000</td>\n",
       "      <td>-0.012117</td>\n",
       "      <td>0.625211</td>\n",
       "    </tr>\n",
       "    <tr>\n",
       "      <th>Dividend</th>\n",
       "      <td>0.944691</td>\n",
       "      <td>-0.012117</td>\n",
       "      <td>1.000000</td>\n",
       "      <td>0.770031</td>\n",
       "    </tr>\n",
       "    <tr>\n",
       "      <th>Interaction_ROE_Dividend</th>\n",
       "      <td>0.841249</td>\n",
       "      <td>0.625211</td>\n",
       "      <td>0.770031</td>\n",
       "      <td>1.000000</td>\n",
       "    </tr>\n",
       "  </tbody>\n",
       "</table>\n",
       "</div>"
      ],
      "text/plain": [
       "                          Stock_Price       ROE  Dividend  \\\n",
       "Stock_Price                  1.000000  0.178222  0.944691   \n",
       "ROE                          0.178222  1.000000 -0.012117   \n",
       "Dividend                     0.944691 -0.012117  1.000000   \n",
       "Interaction_ROE_Dividend     0.841249  0.625211  0.770031   \n",
       "\n",
       "                          Interaction_ROE_Dividend  \n",
       "Stock_Price                               0.841249  \n",
       "ROE                                       0.625211  \n",
       "Dividend                                  0.770031  \n",
       "Interaction_ROE_Dividend                  1.000000  "
      ]
     },
     "execution_count": 7,
     "metadata": {},
     "output_type": "execute_result"
    }
   ],
   "source": [
    "import matplotlib.pyplot as plt\n",
    "\n",
    "df[[\"Stock_Price\", \"ROE\", \"Dividend\", \"Interaction_ROE_Dividend\"]].corr()"
   ]
  },
  {
   "cell_type": "code",
   "execution_count": 9,
   "id": "79f5c58b",
   "metadata": {},
   "outputs": [
    {
     "data": {
      "text/plain": [
       "ROE                         25.534689\n",
       "Dividend                    38.179012\n",
       "Interaction_ROE_Dividend    60.698503\n",
       "dtype: float64"
      ]
     },
     "execution_count": 9,
     "metadata": {},
     "output_type": "execute_result"
    }
   ],
   "source": [
    "from statsmodels.stats.outliers_influence import variance_inflation_factor\n",
    "x_var = [\"ROE\", \"Dividend\", \"Interaction_ROE_Dividend\"]\n",
    "X = df[x_var]\n",
    "pd.Series([variance_inflation_factor(X.values, i) \n",
    "               for i in range(X.shape[1])], index=X.columns)"
   ]
  },
  {
   "cell_type": "code",
   "execution_count": 3,
   "id": "f0d66898",
   "metadata": {},
   "outputs": [],
   "source": [
    "def fit_lin_reg_with_intercept(X, Y):\n",
    "    X = sm.add_constant(X) # adding a constan\n",
    "    reg_model = sm.OLS(Y,X).fit()\n",
    "    return reg_model"
   ]
  },
  {
   "cell_type": "code",
   "execution_count": 6,
   "id": "9888107a",
   "metadata": {},
   "outputs": [
    {
     "name": "stdout",
     "output_type": "stream",
     "text": [
      "                            OLS Regression Results                            \n",
      "==============================================================================\n",
      "Dep. Variable:            Stock_Price   R-squared:                       0.938\n",
      "Model:                            OLS   Adj. R-squared:                  0.923\n",
      "Method:                 Least Squares   F-statistic:                     60.85\n",
      "Date:                Sat, 21 May 2022   Prob (F-statistic):           1.57e-07\n",
      "Time:                        08:05:31   Log-Likelihood:                -28.107\n",
      "No. Observations:                  16   AIC:                             64.21\n",
      "Df Residuals:                      12   BIC:                             67.31\n",
      "Df Model:                           3                                         \n",
      "Covariance Type:            nonrobust                                         \n",
      "============================================================================================\n",
      "                               coef    std err          t      P>|t|      [0.025      0.975]\n",
      "--------------------------------------------------------------------------------------------\n",
      "const                      -44.6818     25.240     -1.770      0.102     -99.674      10.311\n",
      "ROE                          2.8796      1.741      1.654      0.124      -0.914       6.673\n",
      "Dividend                    25.0622     10.029      2.499      0.028       3.211      46.913\n",
      "Interaction_ROE_Dividend    -0.9590      0.691     -1.388      0.190      -2.465       0.547\n",
      "==============================================================================\n",
      "Omnibus:                        1.790   Durbin-Watson:                   2.659\n",
      "Prob(Omnibus):                  0.409   Jarque-Bera (JB):                0.964\n",
      "Skew:                           0.165   Prob(JB):                        0.617\n",
      "Kurtosis:                       1.843   Cond. No.                     2.54e+03\n",
      "==============================================================================\n",
      "\n",
      "Notes:\n",
      "[1] Standard Errors assume that the covariance matrix of the errors is correctly specified.\n",
      "[2] The condition number is large, 2.54e+03. This might indicate that there are\n",
      "strong multicollinearity or other numerical problems.\n"
     ]
    },
    {
     "name": "stderr",
     "output_type": "stream",
     "text": [
      "C:\\Users\\kumarmanglam.thakur\\AppData\\Roaming\\Python\\Python38\\site-packages\\scipy\\stats\\_stats_py.py:1477: UserWarning: kurtosistest only valid for n>=20 ... continuing anyway, n=16\n",
      "  warnings.warn(\"kurtosistest only valid for n>=20 ... continuing \"\n"
     ]
    }
   ],
   "source": [
    "reg_model = fit_lin_reg_with_intercept(X=df[[\"ROE\", \"Dividend\", \"Interaction_ROE_Dividend\"]], Y=df[[\"Stock_Price\"]])\n",
    "print(reg_model.summary())"
   ]
  },
  {
   "cell_type": "code",
   "execution_count": 8,
   "id": "98172161",
   "metadata": {},
   "outputs": [
    {
     "data": {
      "image/png": "[encoded data removed]",
      "text/plain": [
       "<Figure size 432x288 with 1 Axes>"
      ]
     },
     "metadata": {
      "needs_background": "light"
     },
     "output_type": "display_data"
    }
   ],
   "source": [
    "residuals = reg_model.resid \n",
    "sm.qqplot(residuals, fit=True, line=\"q\")\n",
    "plt.show()"
   ]
  },
  {
   "cell_type": "markdown",
   "id": "3e7af932",
   "metadata": {},
   "source": [
    "### Answer\n",
    "    1) 1) Estimate the regression model coefficients\n",
    "    -44.6818 + 2.8796 * ROE + 25.0622 * Dividend - 0.9590 * Interaction_ROE_Dividend\n",
    "    2) Interpret each of the coefficients\n",
    "        There is high multicollinearity in data, hence p-values may not be correct. \n",
    "        The sign for the coefficient of interaction term is negative, even through its positively correalted with stock price\n",
    "        The coefficient for ROE and Dividend, have increased. This could be to compensate for the negative sign of interaction term.\n",
    "    3) Does this new model fit the data better than was done in Problem 10.\n",
    "    Model R square has improved from 92.8% to 93.8%"
   ]
  },
  {
   "cell_type": "code",
   "execution_count": null,
   "id": "079ccc73",
   "metadata": {},
   "outputs": [],
   "source": []
  }
 ],
 "metadata": {
  "kernelspec": {
   "display_name": "Python 3 (ipykernel)",
   "language": "python",
   "name": "python3"
  },
  "language_info": {
   "codemirror_mode": {
    "name": "ipython",
    "version": 3
   },
   "file_extension": ".py",
   "mimetype": "text/x-python",
   "name": "python",
   "nbconvert_exporter": "python",
   "pygments_lexer": "ipython3",
   "version": "3.8.10"
  }
 },
 "nbformat": 4,
 "nbformat_minor": 5
}
