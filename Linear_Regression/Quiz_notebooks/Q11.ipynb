{
 "cells": [
  {
   "cell_type": "markdown",
   "id": "4875421b",
   "metadata": {},
   "source": [
    "# Q11\n",
    "\n",
    "GoKart , a regional delivery service company provides different types of package delivery service. \n",
    "An analyst wants to estimate the cost of shipping a package as function of cargo type. \n",
    "\n",
    "Cost of 15 randomly chosen packages of approximately the same weight, shipped to almost similar distance, is provided in the file MLR_Q11_CourierService.csv \n",
    "File link: https://drive.google.com/drive/folders/1ILKastUTJWccxaxIpJpjqCJDpsMJ-oC8\n",
    "\n",
    "\n",
    "Based on regression model, answer below questions:\n",
    "\n",
    "    1) Estimate the appropriate multiple linear regression equation to predict the cost of shipping a package.\n",
    "    2) Provide interpretation for the regression coefficients. \n",
    "    3) Which cargo type is the costliest? Which one is least costly?\n",
    "    4) How well does the regression fit the sample data? How can the goodness of fitness be improved?\n",
    "    5) Predict the cost of shipping a package with semi-fragile cargo."
   ]
  },
  {
   "cell_type": "code",
   "execution_count": 1,
   "id": "2946fb32",
   "metadata": {},
   "outputs": [],
   "source": [
    "import numpy as np\n",
    "import pandas as pd \n",
    "\n",
    "import seaborn as sns \n",
    "import matplotlib.pyplot as plt\n",
    "\n",
    "import statsmodels.api as sm\n",
    "from sklearn.linear_model import LinearRegression"
   ]
  },
  {
   "cell_type": "code",
   "execution_count": 3,
   "id": "65c4848c",
   "metadata": {},
   "outputs": [
    {
     "data": {
      "text/html": [
       "<div>\n",
       "<style scoped>\n",
       "    .dataframe tbody tr th:only-of-type {\n",
       "        vertical-align: middle;\n",
       "    }\n",
       "\n",
       "    .dataframe tbody tr th {\n",
       "        vertical-align: top;\n",
       "    }\n",
       "\n",
       "    .dataframe thead th {\n",
       "        text-align: right;\n",
       "    }\n",
       "</style>\n",
       "<table border=\"1\" class=\"dataframe\">\n",
       "  <thead>\n",
       "    <tr style=\"text-align: right;\">\n",
       "      <th></th>\n",
       "      <th>Shipment</th>\n",
       "      <th>CargType</th>\n",
       "      <th>CosoShipment</th>\n",
       "    </tr>\n",
       "  </thead>\n",
       "  <tbody>\n",
       "    <tr>\n",
       "      <th>0</th>\n",
       "      <td>1</td>\n",
       "      <td>Semifragile</td>\n",
       "      <td>84.0</td>\n",
       "    </tr>\n",
       "    <tr>\n",
       "      <th>1</th>\n",
       "      <td>2</td>\n",
       "      <td>Durable</td>\n",
       "      <td>24.0</td>\n",
       "    </tr>\n",
       "  </tbody>\n",
       "</table>\n",
       "</div>"
      ],
      "text/plain": [
       "   Shipment     CargType  CosoShipment\n",
       "0         1  Semifragile          84.0\n",
       "1         2      Durable          24.0"
      ]
     },
     "execution_count": 3,
     "metadata": {},
     "output_type": "execute_result"
    }
   ],
   "source": [
    "df = pd.read_csv(\"MLR_Q11_CourierService.csv\")\n",
    "\n",
    "df.head(2)"
   ]
  },
  {
   "cell_type": "code",
   "execution_count": 7,
   "id": "19d83b2a",
   "metadata": {},
   "outputs": [
    {
     "data": {
      "text/plain": [
       "Semifragile    5\n",
       "Durable        5\n",
       "Fragile        5\n",
       "Name: CargType, dtype: int64"
      ]
     },
     "execution_count": 7,
     "metadata": {},
     "output_type": "execute_result"
    }
   ],
   "source": [
    "df['CargType'].value_counts()"
   ]
  },
  {
   "cell_type": "code",
   "execution_count": 6,
   "id": "0063b75f",
   "metadata": {},
   "outputs": [
    {
     "data": {
      "text/html": [
       "<div>\n",
       "<style scoped>\n",
       "    .dataframe tbody tr th:only-of-type {\n",
       "        vertical-align: middle;\n",
       "    }\n",
       "\n",
       "    .dataframe tbody tr th {\n",
       "        vertical-align: top;\n",
       "    }\n",
       "\n",
       "    .dataframe thead th {\n",
       "        text-align: right;\n",
       "    }\n",
       "</style>\n",
       "<table border=\"1\" class=\"dataframe\">\n",
       "  <thead>\n",
       "    <tr style=\"text-align: right;\">\n",
       "      <th></th>\n",
       "      <th>CosoShipment</th>\n",
       "      <th>gp_Durable</th>\n",
       "      <th>gp_Fragile</th>\n",
       "      <th>gp_Semifragile</th>\n",
       "    </tr>\n",
       "  </thead>\n",
       "  <tbody>\n",
       "    <tr>\n",
       "      <th>0</th>\n",
       "      <td>84.0</td>\n",
       "      <td>0</td>\n",
       "      <td>0</td>\n",
       "      <td>1</td>\n",
       "    </tr>\n",
       "    <tr>\n",
       "      <th>1</th>\n",
       "      <td>24.0</td>\n",
       "      <td>1</td>\n",
       "      <td>0</td>\n",
       "      <td>0</td>\n",
       "    </tr>\n",
       "    <tr>\n",
       "      <th>2</th>\n",
       "      <td>165.6</td>\n",
       "      <td>0</td>\n",
       "      <td>1</td>\n",
       "      <td>0</td>\n",
       "    </tr>\n",
       "    <tr>\n",
       "      <th>3</th>\n",
       "      <td>133.2</td>\n",
       "      <td>0</td>\n",
       "      <td>1</td>\n",
       "      <td>0</td>\n",
       "    </tr>\n",
       "    <tr>\n",
       "      <th>4</th>\n",
       "      <td>120.0</td>\n",
       "      <td>0</td>\n",
       "      <td>0</td>\n",
       "      <td>1</td>\n",
       "    </tr>\n",
       "  </tbody>\n",
       "</table>\n",
       "</div>"
      ],
      "text/plain": [
       "   CosoShipment  gp_Durable  gp_Fragile  gp_Semifragile\n",
       "0          84.0           0           0               1\n",
       "1          24.0           1           0               0\n",
       "2         165.6           0           1               0\n",
       "3         133.2           0           1               0\n",
       "4         120.0           0           0               1"
      ]
     },
     "execution_count": 6,
     "metadata": {},
     "output_type": "execute_result"
    }
   ],
   "source": [
    "# create dummy data for CargType\n",
    "df_dummy = pd.get_dummies(df.drop('Shipment', axis=1), prefix=\"gp\", \n",
    "                           columns=[\"CargType\"], \n",
    "                           drop_first=False)\n",
    "df_dummy.head()"
   ]
  },
  {
   "cell_type": "code",
   "execution_count": 8,
   "id": "a9a3522f",
   "metadata": {},
   "outputs": [],
   "source": [
    "def fit_lin_reg_with_intercept(X, Y):\n",
    "    X = sm.add_constant(X) # adding a constan\n",
    "    reg_model = sm.OLS(Y,X).fit()\n",
    "    return reg_model"
   ]
  },
  {
   "cell_type": "code",
   "execution_count": 11,
   "id": "1a514127",
   "metadata": {},
   "outputs": [
    {
     "name": "stdout",
     "output_type": "stream",
     "text": [
      "                            OLS Regression Results                            \n",
      "==============================================================================\n",
      "Dep. Variable:           CosoShipment   R-squared:                       0.774\n",
      "Model:                            OLS   Adj. R-squared:                  0.737\n",
      "Method:                 Least Squares   F-statistic:                     20.61\n",
      "Date:                Sun, 15 May 2022   Prob (F-statistic):           0.000132\n",
      "Time:                        08:10:55   Log-Likelihood:                -70.043\n",
      "No. Observations:                  15   AIC:                             146.1\n",
      "Df Residuals:                      12   BIC:                             148.2\n",
      "Df Model:                           2                                         \n",
      "Covariance Type:            nonrobust                                         \n",
      "==================================================================================\n",
      "                     coef    std err          t      P>|t|      [0.025      0.975]\n",
      "----------------------------------------------------------------------------------\n",
      "const            156.0000     12.903     12.090      0.000     127.886     184.114\n",
      "gp_Durable      -116.8800     18.248     -6.405      0.000    -156.639     -77.121\n",
      "gp_Semifragile   -51.6000     18.248     -2.828      0.015     -91.359     -11.841\n",
      "==============================================================================\n",
      "Omnibus:                        2.879   Durbin-Watson:                   1.629\n",
      "Prob(Omnibus):                  0.237   Jarque-Bera (JB):                2.128\n",
      "Skew:                           0.879   Prob(JB):                        0.345\n",
      "Kurtosis:                       2.442   Cond. No.                         3.73\n",
      "==============================================================================\n",
      "\n",
      "Notes:\n",
      "[1] Standard Errors assume that the covariance matrix of the errors is correctly specified.\n"
     ]
    },
    {
     "name": "stderr",
     "output_type": "stream",
     "text": [
      "C:\\Users\\kumarmanglam.thakur\\AppData\\Roaming\\Python\\Python38\\site-packages\\scipy\\stats\\_stats_py.py:1477: UserWarning: kurtosistest only valid for n>=20 ... continuing anyway, n=15\n",
      "  warnings.warn(\"kurtosistest only valid for n>=20 ... continuing \"\n"
     ]
    }
   ],
   "source": [
    "reg_model = fit_lin_reg_with_intercept(X=df_dummy[[\"gp_Durable\", \"gp_Semifragile\"]], Y=df_dummy[[\"CosoShipment\"]])\n",
    "print(reg_model.summary())"
   ]
  },
  {
   "cell_type": "code",
   "execution_count": 12,
   "id": "bec35b94",
   "metadata": {},
   "outputs": [
    {
     "data": {
      "image/png": "[encoded data removed]",
      "text/plain": [
       "<Figure size 432x288 with 1 Axes>"
      ]
     },
     "metadata": {
      "needs_background": "light"
     },
     "output_type": "display_data"
    }
   ],
   "source": [
    "residuals = reg_model.resid \n",
    "sm.qqplot(residuals, fit=True, line=\"q\")\n",
    "plt.show()"
   ]
  },
  {
   "cell_type": "code",
   "execution_count": 14,
   "id": "759f398d",
   "metadata": {},
   "outputs": [
    {
     "data": {
      "image/png": "[encoded data removed]",
      "text/plain": [
       "<Figure size 432x288 with 1 Axes>"
      ]
     },
     "metadata": {
      "needs_background": "light"
     },
     "output_type": "display_data"
    }
   ],
   "source": [
    "# Residual plot \n",
    "#residuals = reg_model.resid \n",
    "fig = sns.scatterplot(x=df_dummy[\"CosoShipment\"], y=residuals)\n",
    "fig.set_title(\"Residual vs Cost of Shipping\")\n",
    "plt.show()"
   ]
  },
  {
   "cell_type": "markdown",
   "id": "54eeb368",
   "metadata": {},
   "source": [
    "### Answer\n",
    "    1) Estimate the appropriate multiple linear regression equation to predict the cost of shipping a package.\n",
    "       Cost of Shipment = 156.0000 - 116.8800* gp_Durable - 51.6000 * gp_Semifragile\n",
    "    2) Provide interpretation for the regression coefficients. \n",
    "    In the regression, we have used Durable and Semi fragile categories. These two have negative coefficients, with durable having higher negative coefficient as compared to Semi fragile. This means that Fragile cargos are more expensive to ship(its part of intercept), followed by Semi Fragile and then Durable. \n",
    "    \n",
    "    3) Which cargo type is the costliest? Which one is least costly?\n",
    "    From the regression coefficients, we can say that Fragile is most expensive and Durable is least expensive.\n",
    "    4) How well does the regression fit the sample data? How can the goodness of fitness be improved?\n",
    "    We see R square value of 77.4%, which means that 77.4% variation in Cost of Shipping. This is descent goodness of fit. The fit can be further improved if we have more data or other variables e.g. size of the cargo, weight of the cargo, etc.\n",
    "    5) Predict the cost of shipping a package with semi-fragile cargo.\n",
    "    Using the regression equation, the cost is 156.0000 - 51.6000 = 104.4"
   ]
  },
  {
   "cell_type": "code",
   "execution_count": 15,
   "id": "caa5c365",
   "metadata": {},
   "outputs": [
    {
     "data": {
      "text/plain": [
       "104.4"
      ]
     },
     "execution_count": 15,
     "metadata": {},
     "output_type": "execute_result"
    }
   ],
   "source": [
    "156.0000 - 51.6000 "
   ]
  },
  {
   "cell_type": "code",
   "execution_count": null,
   "id": "58d4bf0c",
   "metadata": {},
   "outputs": [],
   "source": []
  }
 ],
 "metadata": {
  "kernelspec": {
   "display_name": "Python 3 (ipykernel)",
   "language": "python",
   "name": "python3"
  },
  "language_info": {
   "codemirror_mode": {
    "name": "ipython",
    "version": 3
   },
   "file_extension": ".py",
   "mimetype": "text/x-python",
   "name": "python",
   "nbconvert_exporter": "python",
   "pygments_lexer": "ipython3",
   "version": "3.8.10"
  }
 },
 "nbformat": 4,
 "nbformat_minor": 5
}
