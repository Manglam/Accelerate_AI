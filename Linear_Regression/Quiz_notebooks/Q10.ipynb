{
 "cells": [
  {
   "cell_type": "markdown",
   "id": "2eede992",
   "metadata": {},
   "source": [
    "# Q10\n",
    "\n",
    "Stock market analyst are continually looking for reliable predictors of stock price. Consider the problem of modelling the stock price of Utility companies. Two variable that are thought to influence the stock price(Y) are return of average equity (ROE) and annual dividend rate. \n",
    "\n",
    "Based on regression model, answer below questions:\n",
    "\n",
    "    1) Estimate the MLR equation from the given dataset\n",
    "    2) Interpret the Adjusted R-Squared value. \n",
    "    3) Interpret the standard error of estimate. Does it look like the prediction will be accurate?"
   ]
  },
  {
   "cell_type": "code",
   "execution_count": 1,
   "id": "6a09dce2",
   "metadata": {},
   "outputs": [],
   "source": [
    "import numpy as np\n",
    "import pandas as pd \n",
    "\n",
    "import seaborn as sns \n",
    "import matplotlib.pyplot as plt\n",
    "\n",
    "import statsmodels.api as sm\n",
    "from sklearn.linear_model import LinearRegression"
   ]
  },
  {
   "cell_type": "code",
   "execution_count": null,
   "id": "27abd00a",
   "metadata": {},
   "outputs": [],
   "source": [
    ".drop(\"Stock Price\")\n",
    "                             #lambda x: int(x.)\n",
    "                             #pd.to_datetime(df.index.strftime(\"%b-%Y\"), format=\"%b-%Y\")\n",
    "#apply()\n",
    "df.head()"
   ]
  },
  {
   "cell_type": "code",
   "execution_count": 37,
   "id": "a6465dd8",
   "metadata": {},
   "outputs": [
    {
     "data": {
      "text/html": [
       "<div>\n",
       "<style scoped>\n",
       "    .dataframe tbody tr th:only-of-type {\n",
       "        vertical-align: middle;\n",
       "    }\n",
       "\n",
       "    .dataframe tbody tr th {\n",
       "        vertical-align: top;\n",
       "    }\n",
       "\n",
       "    .dataframe thead th {\n",
       "        text-align: right;\n",
       "    }\n",
       "</style>\n",
       "<table border=\"1\" class=\"dataframe\">\n",
       "  <thead>\n",
       "    <tr style=\"text-align: right;\">\n",
       "      <th></th>\n",
       "      <th>Electric Utility</th>\n",
       "      <th>ROE</th>\n",
       "      <th>Dividend</th>\n",
       "      <th>Stock_Price</th>\n",
       "    </tr>\n",
       "  </thead>\n",
       "  <tbody>\n",
       "    <tr>\n",
       "      <th>0</th>\n",
       "      <td>1</td>\n",
       "      <td>13.7</td>\n",
       "      <td>2.36</td>\n",
       "      <td>23</td>\n",
       "    </tr>\n",
       "    <tr>\n",
       "      <th>1</th>\n",
       "      <td>2</td>\n",
       "      <td>12.8</td>\n",
       "      <td>3.12</td>\n",
       "      <td>34</td>\n",
       "    </tr>\n",
       "    <tr>\n",
       "      <th>2</th>\n",
       "      <td>3</td>\n",
       "      <td>6.9</td>\n",
       "      <td>2.48</td>\n",
       "      <td>20</td>\n",
       "    </tr>\n",
       "    <tr>\n",
       "      <th>3</th>\n",
       "      <td>4</td>\n",
       "      <td>12.7</td>\n",
       "      <td>2.36</td>\n",
       "      <td>24</td>\n",
       "    </tr>\n",
       "    <tr>\n",
       "      <th>4</th>\n",
       "      <td>5</td>\n",
       "      <td>15.3</td>\n",
       "      <td>1.92</td>\n",
       "      <td>20</td>\n",
       "    </tr>\n",
       "    <tr>\n",
       "      <th>5</th>\n",
       "      <td>6</td>\n",
       "      <td>13.3</td>\n",
       "      <td>1.60</td>\n",
       "      <td>13</td>\n",
       "    </tr>\n",
       "    <tr>\n",
       "      <th>6</th>\n",
       "      <td>7</td>\n",
       "      <td>14.6</td>\n",
       "      <td>3.08</td>\n",
       "      <td>33</td>\n",
       "    </tr>\n",
       "    <tr>\n",
       "      <th>7</th>\n",
       "      <td>8</td>\n",
       "      <td>15.8</td>\n",
       "      <td>1.52</td>\n",
       "      <td>15</td>\n",
       "    </tr>\n",
       "    <tr>\n",
       "      <th>8</th>\n",
       "      <td>9</td>\n",
       "      <td>12.0</td>\n",
       "      <td>2.72</td>\n",
       "      <td>26</td>\n",
       "    </tr>\n",
       "    <tr>\n",
       "      <th>9</th>\n",
       "      <td>10</td>\n",
       "      <td>15.3</td>\n",
       "      <td>2.56</td>\n",
       "      <td>25</td>\n",
       "    </tr>\n",
       "  </tbody>\n",
       "</table>\n",
       "</div>"
      ],
      "text/plain": [
       "   Electric Utility   ROE  Dividend  Stock_Price\n",
       "0                 1  13.7      2.36           23\n",
       "1                 2  12.8      3.12           34\n",
       "2                 3   6.9      2.48           20\n",
       "3                 4  12.7      2.36           24\n",
       "4                 5  15.3      1.92           20\n",
       "5                 6  13.3      1.60           13\n",
       "6                 7  14.6      3.08           33\n",
       "7                 8  15.8      1.52           15\n",
       "8                 9  12.0      2.72           26\n",
       "9                10  15.3      2.56           25"
      ]
     },
     "execution_count": 37,
     "metadata": {},
     "output_type": "execute_result"
    }
   ],
   "source": [
    "df = pd.read_csv(\"MLR_Q10_StockPrice.csv\")\\\n",
    "       .assign(Stock_Price = lambda df: df['Stock Price'].str.replace('$', '', regex=True).astype(int))\\\n",
    "       .drop('Stock Price', axis=1)\n",
    "\n",
    "df.head(10)"
   ]
  },
  {
   "cell_type": "code",
   "execution_count": 30,
   "id": "0bb39edb",
   "metadata": {},
   "outputs": [
    {
     "data": {
      "text/html": [
       "<div>\n",
       "<style scoped>\n",
       "    .dataframe tbody tr th:only-of-type {\n",
       "        vertical-align: middle;\n",
       "    }\n",
       "\n",
       "    .dataframe tbody tr th {\n",
       "        vertical-align: top;\n",
       "    }\n",
       "\n",
       "    .dataframe thead th {\n",
       "        text-align: right;\n",
       "    }\n",
       "</style>\n",
       "<table border=\"1\" class=\"dataframe\">\n",
       "  <thead>\n",
       "    <tr style=\"text-align: right;\">\n",
       "      <th></th>\n",
       "      <th>Stock_Price</th>\n",
       "      <th>ROE</th>\n",
       "      <th>Dividend</th>\n",
       "    </tr>\n",
       "  </thead>\n",
       "  <tbody>\n",
       "    <tr>\n",
       "      <th>Stock_Price</th>\n",
       "      <td>1.000000</td>\n",
       "      <td>0.178222</td>\n",
       "      <td>0.944691</td>\n",
       "    </tr>\n",
       "    <tr>\n",
       "      <th>ROE</th>\n",
       "      <td>0.178222</td>\n",
       "      <td>1.000000</td>\n",
       "      <td>-0.012117</td>\n",
       "    </tr>\n",
       "    <tr>\n",
       "      <th>Dividend</th>\n",
       "      <td>0.944691</td>\n",
       "      <td>-0.012117</td>\n",
       "      <td>1.000000</td>\n",
       "    </tr>\n",
       "  </tbody>\n",
       "</table>\n",
       "</div>"
      ],
      "text/plain": [
       "             Stock_Price       ROE  Dividend\n",
       "Stock_Price     1.000000  0.178222  0.944691\n",
       "ROE             0.178222  1.000000 -0.012117\n",
       "Dividend        0.944691 -0.012117  1.000000"
      ]
     },
     "execution_count": 30,
     "metadata": {},
     "output_type": "execute_result"
    }
   ],
   "source": [
    "import matplotlib.pyplot as plt\n",
    "\n",
    "df[[\"Stock_Price\", \"ROE\", \"Dividend\"]].corr()"
   ]
  },
  {
   "cell_type": "code",
   "execution_count": 32,
   "id": "b07f6cbf",
   "metadata": {},
   "outputs": [
    {
     "data": {
      "image/png": "[encoded data removed]",
      "text/plain": [
       "<Figure size 540x540 with 12 Axes>"
      ]
     },
     "metadata": {
      "needs_background": "light"
     },
     "output_type": "display_data"
    }
   ],
   "source": [
    "sns.pairplot(data = df[[\"Stock_Price\", \"ROE\", \"Dividend\"]], \n",
    "             diag_kind='kde')\n",
    "plt.show()"
   ]
  },
  {
   "cell_type": "code",
   "execution_count": 33,
   "id": "6cc3d843",
   "metadata": {},
   "outputs": [],
   "source": [
    "def fit_lin_reg_with_intercept(X, Y):\n",
    "    X = sm.add_constant(X) # adding a constan\n",
    "    reg_model = sm.OLS(Y,X).fit()\n",
    "    return reg_model"
   ]
  },
  {
   "cell_type": "code",
   "execution_count": 35,
   "id": "324e69e3",
   "metadata": {},
   "outputs": [
    {
     "name": "stdout",
     "output_type": "stream",
     "text": [
      "                            OLS Regression Results                            \n",
      "==============================================================================\n",
      "Dep. Variable:            Stock_Price   R-squared:                       0.928\n",
      "Model:                            OLS   Adj. R-squared:                  0.917\n",
      "Method:                 Least Squares   F-statistic:                     84.31\n",
      "Date:                Fri, 13 May 2022   Prob (F-statistic):           3.60e-08\n",
      "Time:                        21:13:11   Log-Likelihood:                -29.298\n",
      "No. Observations:                  16   AIC:                             64.60\n",
      "Df Residuals:                      13   BIC:                             66.91\n",
      "Df Model:                           2                                         \n",
      "Covariance Type:            nonrobust                                         \n",
      "==============================================================================\n",
      "                 coef    std err          t      P>|t|      [0.025      0.975]\n",
      "------------------------------------------------------------------------------\n",
      "const         -9.9537      3.405     -2.923      0.012     -17.311      -2.597\n",
      "ROE            0.4762      0.186      2.556      0.024       0.074       0.879\n",
      "Dividend      11.1943      0.877     12.761      0.000       9.299      13.089\n",
      "==============================================================================\n",
      "Omnibus:                        0.526   Durbin-Watson:                   2.595\n",
      "Prob(Omnibus):                  0.769   Jarque-Bera (JB):                0.571\n",
      "Skew:                           0.129   Prob(JB):                        0.752\n",
      "Kurtosis:                       2.111   Cond. No.                         118.\n",
      "==============================================================================\n",
      "\n",
      "Notes:\n",
      "[1] Standard Errors assume that the covariance matrix of the errors is correctly specified.\n"
     ]
    },
    {
     "name": "stderr",
     "output_type": "stream",
     "text": [
      "C:\\Users\\kumarmanglam.thakur\\AppData\\Roaming\\Python\\Python38\\site-packages\\scipy\\stats\\_stats_py.py:1477: UserWarning: kurtosistest only valid for n>=20 ... continuing anyway, n=16\n",
      "  warnings.warn(\"kurtosistest only valid for n>=20 ... continuing \"\n"
     ]
    }
   ],
   "source": [
    "reg_model = fit_lin_reg_with_intercept(X=df[[\"ROE\", \"Dividend\"]], Y=df[[\"Stock_Price\"]])\n",
    "print(reg_model.summary())"
   ]
  },
  {
   "cell_type": "code",
   "execution_count": 36,
   "id": "79088bee",
   "metadata": {},
   "outputs": [
    {
     "data": {
      "image/png": "[encoded data removed]",
      "text/plain": [
       "<Figure size 432x288 with 1 Axes>"
      ]
     },
     "metadata": {
      "needs_background": "light"
     },
     "output_type": "display_data"
    }
   ],
   "source": [
    "residuals = reg_model.resid \n",
    "sm.qqplot(residuals, fit=True, line=\"q\")\n",
    "plt.show()"
   ]
  },
  {
   "cell_type": "markdown",
   "id": "89ba8246",
   "metadata": {},
   "source": [
    "### Answer\n",
    "    1) Estimate the MLR equation from the given dataset\n",
    "       Stock Price = -9.9537 + 0.4762 * ROE + 11.1943* Dividend\n",
    "    2) Interpret the Adjusted R-Squared value. \n",
    "    Adjusted R square is the penalized R square value, for every added variable. In this case the adjusted R sqare is 91.7%, which means that even with 2 variables, variance explained after penanlizing for variables is 91.7%.\n",
    "    \n",
    "    3) Interpret the standard error of estimate. Does it look like the prediction will be accurate?\n",
    "    The standard error of intercept is very high, as a result its p-value is insginificant. The prediction will not be very accurate, due to this. "
   ]
  },
  {
   "cell_type": "code",
   "execution_count": null,
   "id": "86958035",
   "metadata": {},
   "outputs": [],
   "source": []
  }
 ],
 "metadata": {
  "kernelspec": {
   "display_name": "Python 3 (ipykernel)",
   "language": "python",
   "name": "python3"
  },
  "language_info": {
   "codemirror_mode": {
    "name": "ipython",
    "version": 3
   },
   "file_extension": ".py",
   "mimetype": "text/x-python",
   "name": "python",
   "nbconvert_exporter": "python",
   "pygments_lexer": "ipython3",
   "version": "3.8.10"
  }
 },
 "nbformat": 4,
 "nbformat_minor": 5
}
