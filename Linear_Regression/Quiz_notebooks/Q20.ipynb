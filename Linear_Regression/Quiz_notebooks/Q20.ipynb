{
 "cells": [
  {
   "cell_type": "markdown",
   "id": "4fcac78a",
   "metadata": {},
   "source": [
    "# Q20\n",
    "Tips Prediction : One waiter recorded information about each tip he received over a period of a few months working in one restaurant. In all he recorded 244 tips. \n",
    "The data is provided in file: MLR_Q20_TipsDataset.csv.\n",
    "Link: https://drive.google.com/drive/folders/1ILKastUTJWccxaxIpJpjqCJDpsMJ-oC8\n",
    "\n",
    "    1) Can you predict the tip amount, using the other variables? \n",
    "    2) Which variables come out to be important? What does this mean for the restaurant?\n",
    "    3) Are there signs of violation of any assumptions of linear regression?"
   ]
  },
  {
   "cell_type": "code",
   "execution_count": 1,
   "id": "e4646146",
   "metadata": {},
   "outputs": [],
   "source": [
    "import numpy as np\n",
    "import pandas as pd \n",
    "\n",
    "import seaborn as sns \n",
    "import matplotlib.pyplot as plt\n",
    "\n",
    "import statsmodels.api as sm\n",
    "from sklearn.linear_model import LinearRegression"
   ]
  },
  {
   "cell_type": "code",
   "execution_count": 2,
   "id": "e3fac77d",
   "metadata": {},
   "outputs": [
    {
     "data": {
      "text/html": [
       "<div>\n",
       "<style scoped>\n",
       "    .dataframe tbody tr th:only-of-type {\n",
       "        vertical-align: middle;\n",
       "    }\n",
       "\n",
       "    .dataframe tbody tr th {\n",
       "        vertical-align: top;\n",
       "    }\n",
       "\n",
       "    .dataframe thead th {\n",
       "        text-align: right;\n",
       "    }\n",
       "</style>\n",
       "<table border=\"1\" class=\"dataframe\">\n",
       "  <thead>\n",
       "    <tr style=\"text-align: right;\">\n",
       "      <th></th>\n",
       "      <th>total_bill</th>\n",
       "      <th>tip</th>\n",
       "      <th>sex</th>\n",
       "      <th>smoker</th>\n",
       "      <th>day</th>\n",
       "      <th>time</th>\n",
       "      <th>size</th>\n",
       "    </tr>\n",
       "  </thead>\n",
       "  <tbody>\n",
       "    <tr>\n",
       "      <th>0</th>\n",
       "      <td>16.99</td>\n",
       "      <td>1.01</td>\n",
       "      <td>Female</td>\n",
       "      <td>No</td>\n",
       "      <td>Sun</td>\n",
       "      <td>Dinner</td>\n",
       "      <td>2</td>\n",
       "    </tr>\n",
       "  </tbody>\n",
       "</table>\n",
       "</div>"
      ],
      "text/plain": [
       "   total_bill   tip     sex smoker  day    time  size\n",
       "0       16.99  1.01  Female     No  Sun  Dinner     2"
      ]
     },
     "execution_count": 2,
     "metadata": {},
     "output_type": "execute_result"
    }
   ],
   "source": [
    "df = pd.read_csv(\"MLR_Q20_TipsDataset.csv\")\n",
    "\n",
    "df.head(1)"
   ]
  },
  {
   "cell_type": "code",
   "execution_count": 3,
   "id": "66f70a6f",
   "metadata": {},
   "outputs": [
    {
     "data": {
      "text/html": [
       "<div>\n",
       "<style scoped>\n",
       "    .dataframe tbody tr th:only-of-type {\n",
       "        vertical-align: middle;\n",
       "    }\n",
       "\n",
       "    .dataframe tbody tr th {\n",
       "        vertical-align: top;\n",
       "    }\n",
       "\n",
       "    .dataframe thead th {\n",
       "        text-align: right;\n",
       "    }\n",
       "</style>\n",
       "<table border=\"1\" class=\"dataframe\">\n",
       "  <thead>\n",
       "    <tr style=\"text-align: right;\">\n",
       "      <th></th>\n",
       "      <th>tip</th>\n",
       "      <th>total_bill</th>\n",
       "      <th>size</th>\n",
       "    </tr>\n",
       "  </thead>\n",
       "  <tbody>\n",
       "    <tr>\n",
       "      <th>tip</th>\n",
       "      <td>1.000</td>\n",
       "      <td>0.676</td>\n",
       "      <td>0.489</td>\n",
       "    </tr>\n",
       "    <tr>\n",
       "      <th>total_bill</th>\n",
       "      <td>0.676</td>\n",
       "      <td>1.000</td>\n",
       "      <td>0.598</td>\n",
       "    </tr>\n",
       "    <tr>\n",
       "      <th>size</th>\n",
       "      <td>0.489</td>\n",
       "      <td>0.598</td>\n",
       "      <td>1.000</td>\n",
       "    </tr>\n",
       "  </tbody>\n",
       "</table>\n",
       "</div>"
      ],
      "text/plain": [
       "              tip  total_bill   size\n",
       "tip         1.000       0.676  0.489\n",
       "total_bill  0.676       1.000  0.598\n",
       "size        0.489       0.598  1.000"
      ]
     },
     "execution_count": 3,
     "metadata": {},
     "output_type": "execute_result"
    }
   ],
   "source": [
    "num_vars = ['tip', 'total_bill', 'size']\n",
    "df[num_vars].corr().apply(lambda x: pd.Series.round(x, 3))"
   ]
  },
  {
   "cell_type": "code",
   "execution_count": 4,
   "id": "da8b154f",
   "metadata": {},
   "outputs": [
    {
     "data": {
      "text/plain": [
       "Index(['total_bill', 'tip', 'size', 'sex_Male', 'smoker_Yes', 'day_Sat',\n",
       "       'day_Sun', 'day_Thur', 'time_Lunch'],\n",
       "      dtype='object')"
      ]
     },
     "execution_count": 4,
     "metadata": {},
     "output_type": "execute_result"
    }
   ],
   "source": [
    "cat_vars = ['sex', 'smoker', 'day', 'time']\n",
    "df_dummy = pd.get_dummies(df, prefix=cat_vars, \n",
    "                           columns=cat_vars, \n",
    "                           drop_first=True)\n",
    "df_dummy.columns"
   ]
  },
  {
   "cell_type": "code",
   "execution_count": 5,
   "id": "f76f1fc6",
   "metadata": {},
   "outputs": [
    {
     "data": {
      "text/plain": [
       "total_bill    8.684373\n",
       "size          8.684373\n",
       "dtype: float64"
      ]
     },
     "execution_count": 5,
     "metadata": {},
     "output_type": "execute_result"
    }
   ],
   "source": [
    "# check the vif values, before forward feature selection\n",
    "from statsmodels.stats.outliers_influence import variance_inflation_factor\n",
    "x_var = ['total_bill', 'size']\n",
    "X = df_dummy[x_var]\n",
    "pd.Series([variance_inflation_factor(X.values, i) \n",
    "               for i in range(X.shape[1])], index=X.columns)"
   ]
  },
  {
   "cell_type": "code",
   "execution_count": 6,
   "id": "e3d4eca7",
   "metadata": {},
   "outputs": [],
   "source": [
    "def fit_lin_reg_with_intercept(X, Y):\n",
    "    X = sm.add_constant(X) # adding a constan\n",
    "    reg_model = sm.OLS(Y,X).fit()\n",
    "    return reg_model"
   ]
  },
  {
   "cell_type": "code",
   "execution_count": 7,
   "id": "1fb6ee8d",
   "metadata": {},
   "outputs": [
    {
     "data": {
      "text/plain": [
       "Index(['total_bill', 'tip', 'size', 'sex_Male', 'smoker_Yes', 'day_Sat',\n",
       "       'day_Sun', 'day_Thur', 'time_Lunch'],\n",
       "      dtype='object')"
      ]
     },
     "execution_count": 7,
     "metadata": {},
     "output_type": "execute_result"
    }
   ],
   "source": [
    "df_dummy.columns"
   ]
  },
  {
   "cell_type": "code",
   "execution_count": 8,
   "id": "98ee3120",
   "metadata": {},
   "outputs": [
    {
     "name": "stdout",
     "output_type": "stream",
     "text": [
      "                            OLS Regression Results                            \n",
      "==============================================================================\n",
      "Dep. Variable:                    tip   R-squared:                       0.468\n",
      "Model:                            OLS   Adj. R-squared:                  0.463\n",
      "Method:                 Least Squares   F-statistic:                     105.9\n",
      "Date:                Fri, 27 May 2022   Prob (F-statistic):           9.67e-34\n",
      "Time:                        22:17:54   Log-Likelihood:                -347.99\n",
      "No. Observations:                 244   AIC:                             702.0\n",
      "Df Residuals:                     241   BIC:                             712.5\n",
      "Df Model:                           2                                         \n",
      "Covariance Type:            nonrobust                                         \n",
      "==============================================================================\n",
      "                 coef    std err          t      P>|t|      [0.025      0.975]\n",
      "------------------------------------------------------------------------------\n",
      "const          0.6689      0.194      3.455      0.001       0.288       1.050\n",
      "total_bill     0.0927      0.009     10.172      0.000       0.075       0.111\n",
      "size           0.1926      0.085      2.258      0.025       0.025       0.361\n",
      "==============================================================================\n",
      "Omnibus:                       24.753   Durbin-Watson:                   2.100\n",
      "Prob(Omnibus):                  0.000   Jarque-Bera (JB):               46.169\n",
      "Skew:                           0.545   Prob(JB):                     9.43e-11\n",
      "Kurtosis:                       4.831   Cond. No.                         67.6\n",
      "==============================================================================\n",
      "\n",
      "Notes:\n",
      "[1] Standard Errors assume that the covariance matrix of the errors is correctly specified.\n"
     ]
    }
   ],
   "source": [
    "# remove insignificant variables day_Sun, time_Lunch, sex_Male, day_Thur, smoker_Yes, day_Sat\n",
    "x_var = ['total_bill', 'size']\n",
    "y_var = 'tip'\n",
    "reg_model  = fit_lin_reg_with_intercept(df_dummy[x_var], df_dummy[y_var])\n",
    "print(reg_model.summary())"
   ]
  },
  {
   "cell_type": "code",
   "execution_count": 9,
   "id": "3072dda7",
   "metadata": {},
   "outputs": [
    {
     "data": {
      "image/png": "[encoded data removed]",
      "text/plain": [
       "<Figure size 432x288 with 1 Axes>"
      ]
     },
     "metadata": {
      "needs_background": "light"
     },
     "output_type": "display_data"
    }
   ],
   "source": [
    "residuals = reg_model.resid \n",
    "sm.qqplot(residuals, fit=True, line=\"q\")\n",
    "plt.show()"
   ]
  },
  {
   "cell_type": "code",
   "execution_count": 10,
   "id": "1a7998ff",
   "metadata": {},
   "outputs": [
    {
     "data": {
      "image/png": "[encoded data removed]",
      "text/plain": [
       "<Figure size 432x288 with 1 Axes>"
      ]
     },
     "metadata": {
      "needs_background": "light"
     },
     "output_type": "display_data"
    }
   ],
   "source": [
    "# Residual plot \n",
    "#residuals = reg_model.resid \n",
    "fig = sns.scatterplot(x=df_dummy[y_var], y=residuals)\n",
    "fig.set_title(\"Residual vs Tip Amount\")\n",
    "plt.show()"
   ]
  },
  {
   "cell_type": "markdown",
   "id": "d36153e9",
   "metadata": {},
   "source": [
    "# Answers\n",
    "    1) Can you predict the tip amount, using the other variables? \n",
    "        0.6689 + 0.0927 * total_bill  + 0.1926 * size\n",
    "    2) Which variables come out to be important? What does this mean for the restaurant?\n",
    "    Its total_bill and size. It might that when people spend more, then they prefer to tip more. \n",
    "    3) Are there signs of violation of any assumptions of linear regression?\n",
    "    From the qq plot and residula plot, we see that the residuals are not distributed normally. In fact, there is clear trend, where we see that the residual increases with increase in value of tip."
   ]
  },
  {
   "cell_type": "code",
   "execution_count": null,
   "id": "ba45d8e2",
   "metadata": {},
   "outputs": [],
   "source": []
  }
 ],
 "metadata": {
  "kernelspec": {
   "display_name": "Python 3 (ipykernel)",
   "language": "python",
   "name": "python3"
  },
  "language_info": {
   "codemirror_mode": {
    "name": "ipython",
    "version": 3
   },
   "file_extension": ".py",
   "mimetype": "text/x-python",
   "name": "python",
   "nbconvert_exporter": "python",
   "pygments_lexer": "ipython3",
   "version": "3.8.10"
  }
 },
 "nbformat": 4,
 "nbformat_minor": 5
}
