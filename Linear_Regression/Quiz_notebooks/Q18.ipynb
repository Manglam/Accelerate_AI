{
 "cells": [
  {
   "cell_type": "markdown",
   "id": "fe923110",
   "metadata": {},
   "source": [
    "# Q18\n",
    "\n",
    "An industry analyst is interested in building a predictive model to understand the impact of various factors and opening week revenue numbers in the overall collections of a movie (Total revenue). Box Office collection of Bollywood movies were recorded. The data is provided in file: MLR_Q18_MovieBoxOffice_data.csv.\n",
    "Link: https://drive.google.com/drive/folders/1ILKastUTJWccxaxIpJpjqCJDpsMJ-oC8\n",
    "\n",
    "Question:\n",
    "\n",
    "    1) Identify the variables that can be used to fit a linear regression model. \n",
    "    2) How is the total revenue impacted by genre of the movie? \n",
    "    3) Does the release month have any role to play in movie's success? \n",
    "    4) Use any variable reduction technique to fit a model using all relevant variables. \n",
    "    5) Do you find any outliers in the dataset? What could be the possible reason for those being outliers? "
   ]
  },
  {
   "cell_type": "code",
   "execution_count": 1,
   "id": "eeb44771",
   "metadata": {},
   "outputs": [],
   "source": [
    "import numpy as np\n",
    "import pandas as pd \n",
    "\n",
    "import seaborn as sns \n",
    "import matplotlib.pyplot as plt\n",
    "\n",
    "import statsmodels.api as sm\n",
    "from sklearn.linear_model import LinearRegression"
   ]
  },
  {
   "cell_type": "code",
   "execution_count": 2,
   "id": "2907428c",
   "metadata": {},
   "outputs": [],
   "source": [
    "df = pd.read_csv(\"MLR_Q18_MovieBoxOffice_data.csv\")\n",
    "\n",
    "#df.head(1)"
   ]
  },
  {
   "cell_type": "code",
   "execution_count": 3,
   "id": "7d49c25f",
   "metadata": {},
   "outputs": [],
   "source": [
    "# We must remove movie_name and Year, since these wont make sense in linear regression model\n",
    "# We should also remove movie_director, since it has too many levels as compared to overall data"
   ]
  },
  {
   "cell_type": "code",
   "execution_count": 4,
   "id": "7321e473",
   "metadata": {},
   "outputs": [
    {
     "data": {
      "text/html": [
       "<div>\n",
       "<style scoped>\n",
       "    .dataframe tbody tr th:only-of-type {\n",
       "        vertical-align: middle;\n",
       "    }\n",
       "\n",
       "    .dataframe tbody tr th {\n",
       "        vertical-align: top;\n",
       "    }\n",
       "\n",
       "    .dataframe thead th {\n",
       "        text-align: right;\n",
       "    }\n",
       "</style>\n",
       "<table border=\"1\" class=\"dataframe\">\n",
       "  <thead>\n",
       "    <tr style=\"text-align: right;\">\n",
       "      <th></th>\n",
       "      <th>revenue_total</th>\n",
       "      <th>revenue_opening_day</th>\n",
       "      <th>revenue_opening_weekend</th>\n",
       "      <th>revenue_firstweek</th>\n",
       "      <th>runtime</th>\n",
       "    </tr>\n",
       "  </thead>\n",
       "  <tbody>\n",
       "    <tr>\n",
       "      <th>revenue_total</th>\n",
       "      <td>1.000000</td>\n",
       "      <td>0.815177</td>\n",
       "      <td>0.883404</td>\n",
       "      <td>0.948234</td>\n",
       "      <td>0.437772</td>\n",
       "    </tr>\n",
       "    <tr>\n",
       "      <th>revenue_opening_day</th>\n",
       "      <td>0.815177</td>\n",
       "      <td>1.000000</td>\n",
       "      <td>0.972230</td>\n",
       "      <td>0.933651</td>\n",
       "      <td>0.514162</td>\n",
       "    </tr>\n",
       "    <tr>\n",
       "      <th>revenue_opening_weekend</th>\n",
       "      <td>0.883404</td>\n",
       "      <td>0.972230</td>\n",
       "      <td>1.000000</td>\n",
       "      <td>0.973736</td>\n",
       "      <td>0.501872</td>\n",
       "    </tr>\n",
       "    <tr>\n",
       "      <th>revenue_firstweek</th>\n",
       "      <td>0.948234</td>\n",
       "      <td>0.933651</td>\n",
       "      <td>0.973736</td>\n",
       "      <td>1.000000</td>\n",
       "      <td>0.493948</td>\n",
       "    </tr>\n",
       "    <tr>\n",
       "      <th>runtime</th>\n",
       "      <td>0.437772</td>\n",
       "      <td>0.514162</td>\n",
       "      <td>0.501872</td>\n",
       "      <td>0.493948</td>\n",
       "      <td>1.000000</td>\n",
       "    </tr>\n",
       "  </tbody>\n",
       "</table>\n",
       "</div>"
      ],
      "text/plain": [
       "                         revenue_total  revenue_opening_day  \\\n",
       "revenue_total                 1.000000             0.815177   \n",
       "revenue_opening_day           0.815177             1.000000   \n",
       "revenue_opening_weekend       0.883404             0.972230   \n",
       "revenue_firstweek             0.948234             0.933651   \n",
       "runtime                       0.437772             0.514162   \n",
       "\n",
       "                         revenue_opening_weekend  revenue_firstweek   runtime  \n",
       "revenue_total                           0.883404           0.948234  0.437772  \n",
       "revenue_opening_day                     0.972230           0.933651  0.514162  \n",
       "revenue_opening_weekend                 1.000000           0.973736  0.501872  \n",
       "revenue_firstweek                       0.973736           1.000000  0.493948  \n",
       "runtime                                 0.501872           0.493948  1.000000  "
      ]
     },
     "execution_count": 4,
     "metadata": {},
     "output_type": "execute_result"
    }
   ],
   "source": [
    "df[['revenue_total', 'revenue_opening_day', 'revenue_opening_weekend', 'revenue_firstweek', \n",
    "    \"runtime\"\n",
    "   ]].corr()\n",
    "# very high correlation of revenue_firstweek with revenue_opening_day(93%), revenue_opening_weekend(97%), \n",
    "# hence we will have to remove these variables, since analyst wants revenue_firstweek in model,\n",
    "# interpreted based on the problem statement"
   ]
  },
  {
   "cell_type": "code",
   "execution_count": 5,
   "id": "3b850acb",
   "metadata": {},
   "outputs": [],
   "source": [
    "cat_vars = [\"movie_genre\", \"release_month\"]\n",
    "df_dummy = pd.get_dummies(df.drop(['movie_name', 'movie_director', 'release_year'], axis=1), prefix=\"gp\", \n",
    "                           columns=cat_vars, \n",
    "                           drop_first=True)\n",
    "#df_dummy.head()\n",
    "#df_dummy.columns"
   ]
  },
  {
   "cell_type": "code",
   "execution_count": 6,
   "id": "6733f604",
   "metadata": {},
   "outputs": [
    {
     "data": {
      "text/plain": [
       "revenue_firstweek    3.028858\n",
       "gp_Biographical      1.760929\n",
       "gp_Comedy            2.354879\n",
       "gp_Crime             1.490167\n",
       "gp_Dance             1.142188\n",
       "gp_Drama             2.504715\n",
       "gp_Historical        1.296740\n",
       "gp_Horror            1.419047\n",
       "gp_Musical           1.160864\n",
       "gp_Period            1.088402\n",
       "gp_Romance           1.474151\n",
       "gp_Sci-fi            1.153154\n",
       "gp_Social            1.152798\n",
       "gp_Sports            1.152978\n",
       "gp_Spy               1.004405\n",
       "gp_Thriller          1.452523\n",
       "gp_Aug               1.563805\n",
       "gp_Dec               1.819822\n",
       "gp_Feb               2.381611\n",
       "gp_Jan               2.315917\n",
       "gp_Jul               1.399362\n",
       "gp_Jun               1.996338\n",
       "gp_Mar               1.817453\n",
       "gp_May               1.327469\n",
       "gp_Nov               1.702940\n",
       "gp_Oct               2.020214\n",
       "gp_Sep               2.077541\n",
       "dtype: float64"
      ]
     },
     "execution_count": 6,
     "metadata": {},
     "output_type": "execute_result"
    }
   ],
   "source": [
    "# check the vif values, before forward feature selection\n",
    "# 1\n",
    "#    Remove runtime, since its vif is highest 28.007742\n",
    "from statsmodels.stats.outliers_influence import variance_inflation_factor\n",
    "x_var = ['revenue_firstweek', 'gp_Biographical', 'gp_Comedy',\n",
    "         'gp_Crime', 'gp_Dance', 'gp_Drama', 'gp_Historical', 'gp_Horror',\n",
    "         'gp_Musical', 'gp_Period', 'gp_Romance', 'gp_Sci-fi', 'gp_Social',\n",
    "         'gp_Sports', 'gp_Spy', 'gp_Thriller', 'gp_Aug', 'gp_Dec', 'gp_Feb',\n",
    "         'gp_Jan', 'gp_Jul', 'gp_Jun', 'gp_Mar', 'gp_May', 'gp_Nov', 'gp_Oct',\n",
    "         'gp_Sep'\n",
    "        ]\n",
    "X = df_dummy[x_var]\n",
    "pd.Series([variance_inflation_factor(X.values, i) \n",
    "               for i in range(X.shape[1])], index=X.columns)"
   ]
  },
  {
   "cell_type": "code",
   "execution_count": 7,
   "id": "c3b9a246",
   "metadata": {},
   "outputs": [],
   "source": [
    "def fit_lin_reg_with_intercept(X, Y):\n",
    "    X = sm.add_constant(X) # adding a constan\n",
    "    reg_model = sm.OLS(Y,X).fit()\n",
    "    return reg_model"
   ]
  },
  {
   "cell_type": "code",
   "execution_count": 8,
   "id": "7276d09a",
   "metadata": {},
   "outputs": [],
   "source": [
    "# build 1st model, using all possible variables\n",
    "var_list = ['revenue_firstweek', 'gp_Biographical', 'gp_Comedy',\n",
    "         'gp_Crime', 'gp_Dance', 'gp_Drama', 'gp_Historical', 'gp_Horror',\n",
    "         'gp_Musical', 'gp_Period', 'gp_Romance', 'gp_Sci-fi', 'gp_Social',\n",
    "         'gp_Sports', 'gp_Spy', 'gp_Thriller', 'gp_Aug', 'gp_Dec', 'gp_Feb',\n",
    "         'gp_Jan', 'gp_Jul', 'gp_Jun', 'gp_Mar', 'gp_May', 'gp_Nov', 'gp_Oct',\n",
    "         'gp_Sep'\n",
    "        ]\n",
    "y = df_dummy['revenue_total']\n",
    "reg_model  = fit_lin_reg_with_intercept(df_dummy[var_list], y)\n",
    "p_values = reg_model.pvalues\n",
    "size = p_values.size\n",
    "p_values = p_values[1:size] # remove intercept \n",
    "p_values = pd.DataFrame({'variable_name' : p_values.index, 'p_value' : p_values.values})\n",
    "#print(reg_model.summary())"
   ]
  },
  {
   "cell_type": "code",
   "execution_count": 9,
   "id": "f15fb579",
   "metadata": {},
   "outputs": [
    {
     "name": "stdout",
     "output_type": "stream",
     "text": [
      "variable removed is : gp_Romance\n",
      "variable removed is : gp_Jun\n",
      "variable removed is : gp_Oct\n",
      "variable removed is : gp_Spy\n",
      "variable removed is : gp_Mar\n",
      "variable removed is : gp_Horror\n",
      "variable removed is : gp_Biographical\n",
      "variable removed is : gp_Musical\n",
      "variable removed is : gp_Social\n",
      "variable removed is : gp_Feb\n",
      "variable removed is : gp_Sep\n",
      "variable removed is : gp_Thriller\n",
      "variable removed is : gp_Drama\n",
      "variable removed is : gp_Jul\n",
      "variable removed is : gp_May\n",
      "variable removed is : gp_Sports\n",
      "variable removed is : gp_Aug\n",
      "variable removed is : gp_Dec\n",
      "variable removed is : gp_Sci-fi\n",
      "variable removed is : gp_Dance\n",
      "variable removed is : gp_Period\n",
      "variable removed is : gp_Nov\n",
      "variable removed is : gp_Crime\n"
     ]
    }
   ],
   "source": [
    "x_var_list = var_list\n",
    "# remove variables based on p-values and stop when only significant variables are present in data\n",
    "p_values.sort_values('p_value', ascending=False, inplace=True, ignore_index=True)\n",
    "\n",
    "y = df_dummy['revenue_total']\n",
    "while p_values['p_value'][0] > 0.05:\n",
    "    max_p_value = p_values['p_value'][0]\n",
    "    var_to_remove = p_values['variable_name'][0]\n",
    "    print(f\"variable removed is : {var_to_remove}\")\n",
    "    x_var_list.remove(var_to_remove) \n",
    "    \n",
    "    reg_model  = fit_lin_reg_with_intercept(df_dummy[x_var_list], y)\n",
    "    p_values = reg_model.pvalues\n",
    "    size = p_values.size\n",
    "    p_values = p_values[1:size] # remove intercept \n",
    "    p_values = pd.DataFrame({'variable_name' : p_values.index, 'p_value' : p_values.values})\n",
    "    p_values.sort_values('p_value', ascending=False, inplace=True, ignore_index=True)"
   ]
  },
  {
   "cell_type": "code",
   "execution_count": 10,
   "id": "619d3fb8",
   "metadata": {
    "scrolled": true
   },
   "outputs": [
    {
     "data": {
      "text/plain": [
       "['revenue_firstweek', 'gp_Comedy', 'gp_Historical', 'gp_Jan']"
      ]
     },
     "execution_count": 10,
     "metadata": {},
     "output_type": "execute_result"
    }
   ],
   "source": [
    "x_var_list"
   ]
  },
  {
   "cell_type": "code",
   "execution_count": 11,
   "id": "5084423e",
   "metadata": {},
   "outputs": [
    {
     "name": "stdout",
     "output_type": "stream",
     "text": [
      "                            OLS Regression Results                            \n",
      "==============================================================================\n",
      "Dep. Variable:          revenue_total   R-squared:                       0.912\n",
      "Model:                            OLS   Adj. R-squared:                  0.910\n",
      "Method:                 Least Squares   F-statistic:                     325.6\n",
      "Date:                Wed, 25 May 2022   Prob (F-statistic):           4.62e-65\n",
      "Time:                        22:31:25   Log-Likelihood:                -593.11\n",
      "No. Observations:                 130   AIC:                             1196.\n",
      "Df Residuals:                     125   BIC:                             1211.\n",
      "Df Model:                           4                                         \n",
      "Covariance Type:            nonrobust                                         \n",
      "=====================================================================================\n",
      "                        coef    std err          t      P>|t|      [0.025      0.975]\n",
      "-------------------------------------------------------------------------------------\n",
      "const                -5.4260      3.282     -1.653      0.101     -11.922       1.070\n",
      "revenue_firstweek     1.4930      0.042     35.326      0.000       1.409       1.577\n",
      "gp_Comedy            10.1415      4.829      2.100      0.038       0.584      19.699\n",
      "gp_Historical        34.8470     12.441      2.801      0.006      10.224      59.470\n",
      "gp_Jan               15.9559      6.930      2.303      0.023       2.241      29.671\n",
      "==============================================================================\n",
      "Omnibus:                       60.635   Durbin-Watson:                   2.008\n",
      "Prob(Omnibus):                  0.000   Jarque-Bera (JB):              337.739\n",
      "Skew:                           1.500   Prob(JB):                     4.58e-74\n",
      "Kurtosis:                      10.304   Cond. No.                         418.\n",
      "==============================================================================\n",
      "\n",
      "Notes:\n",
      "[1] Standard Errors assume that the covariance matrix of the errors is correctly specified.\n"
     ]
    }
   ],
   "source": [
    "reg_model  = fit_lin_reg_with_intercept(df_dummy[x_var_list], y)\n",
    "print(reg_model.summary())"
   ]
  },
  {
   "cell_type": "code",
   "execution_count": 12,
   "id": "3ef30904",
   "metadata": {},
   "outputs": [
    {
     "data": {
      "text/html": [
       "<div>\n",
       "<style scoped>\n",
       "    .dataframe tbody tr th:only-of-type {\n",
       "        vertical-align: middle;\n",
       "    }\n",
       "\n",
       "    .dataframe tbody tr th {\n",
       "        vertical-align: top;\n",
       "    }\n",
       "\n",
       "    .dataframe thead th {\n",
       "        text-align: right;\n",
       "    }\n",
       "</style>\n",
       "<table border=\"1\" class=\"dataframe\">\n",
       "  <thead>\n",
       "    <tr style=\"text-align: right;\">\n",
       "      <th></th>\n",
       "      <th>dfb_const</th>\n",
       "      <th>dfb_revenue_firstweek</th>\n",
       "      <th>dfb_gp_Comedy</th>\n",
       "      <th>dfb_gp_Historical</th>\n",
       "      <th>dfb_gp_Jan</th>\n",
       "      <th>cooks_d</th>\n",
       "      <th>standard_resid</th>\n",
       "      <th>hat_diag</th>\n",
       "      <th>dffits_internal</th>\n",
       "      <th>student_resid</th>\n",
       "      <th>dffits</th>\n",
       "    </tr>\n",
       "  </thead>\n",
       "  <tbody>\n",
       "  </tbody>\n",
       "</table>\n",
       "</div>"
      ],
      "text/plain": [
       "Empty DataFrame\n",
       "Columns: [dfb_const, dfb_revenue_firstweek, dfb_gp_Comedy, dfb_gp_Historical, dfb_gp_Jan, cooks_d, standard_resid, hat_diag, dffits_internal, student_resid, dffits]\n",
       "Index: []"
      ]
     },
     "execution_count": 12,
     "metadata": {},
     "output_type": "execute_result"
    }
   ],
   "source": [
    "# Outliers - calculate cook's distance and dffits \n",
    "infl = reg_model.get_influence()\n",
    "sm_fr = infl.summary_frame()\n",
    "sm_fr.sort_values(by = ['cooks_d'], ascending=False, inplace=True, ignore_index=True)\n",
    "sm_fr[sm_fr['cooks_d'] > 1]"
   ]
  },
  {
   "cell_type": "code",
   "execution_count": 13,
   "id": "ec4ef238",
   "metadata": {},
   "outputs": [
    {
     "data": {
      "text/plain": [
       "1.919944787545428"
      ]
     },
     "execution_count": 13,
     "metadata": {},
     "output_type": "execute_result"
    }
   ],
   "source": [
    "sm_fr.dffits.max()"
   ]
  },
  {
   "cell_type": "code",
   "execution_count": 14,
   "id": "09362a90",
   "metadata": {},
   "outputs": [
    {
     "data": {
      "text/html": [
       "<div>\n",
       "<style scoped>\n",
       "    .dataframe tbody tr th:only-of-type {\n",
       "        vertical-align: middle;\n",
       "    }\n",
       "\n",
       "    .dataframe tbody tr th {\n",
       "        vertical-align: top;\n",
       "    }\n",
       "\n",
       "    .dataframe thead th {\n",
       "        text-align: right;\n",
       "    }\n",
       "</style>\n",
       "<table border=\"1\" class=\"dataframe\">\n",
       "  <thead>\n",
       "    <tr style=\"text-align: right;\">\n",
       "      <th></th>\n",
       "      <th>dfb_const</th>\n",
       "      <th>dfb_revenue_firstweek</th>\n",
       "      <th>dfb_gp_Comedy</th>\n",
       "      <th>dfb_gp_Historical</th>\n",
       "      <th>dfb_gp_Jan</th>\n",
       "      <th>cooks_d</th>\n",
       "      <th>standard_resid</th>\n",
       "      <th>hat_diag</th>\n",
       "      <th>dffits_internal</th>\n",
       "      <th>student_resid</th>\n",
       "      <th>dffits</th>\n",
       "    </tr>\n",
       "  </thead>\n",
       "  <tbody>\n",
       "    <tr>\n",
       "      <th>0</th>\n",
       "      <td>-0.280145</td>\n",
       "      <td>0.262276</td>\n",
       "      <td>0.058879</td>\n",
       "      <td>1.410716</td>\n",
       "      <td>0.487492</td>\n",
       "      <td>0.556181</td>\n",
       "      <td>2.687742</td>\n",
       "      <td>0.277955</td>\n",
       "      <td>1.667605</td>\n",
       "      <td>2.757846</td>\n",
       "      <td>1.711100</td>\n",
       "    </tr>\n",
       "    <tr>\n",
       "      <th>1</th>\n",
       "      <td>-0.144219</td>\n",
       "      <td>0.377514</td>\n",
       "      <td>-0.137473</td>\n",
       "      <td>-0.552769</td>\n",
       "      <td>1.763363</td>\n",
       "      <td>0.554780</td>\n",
       "      <td>5.629261</td>\n",
       "      <td>0.080490</td>\n",
       "      <td>1.665503</td>\n",
       "      <td>6.489254</td>\n",
       "      <td>1.919945</td>\n",
       "    </tr>\n",
       "    <tr>\n",
       "      <th>5</th>\n",
       "      <td>-0.035499</td>\n",
       "      <td>0.592067</td>\n",
       "      <td>-0.220475</td>\n",
       "      <td>-0.118377</td>\n",
       "      <td>-0.102959</td>\n",
       "      <td>0.095130</td>\n",
       "      <td>3.574665</td>\n",
       "      <td>0.035888</td>\n",
       "      <td>0.689675</td>\n",
       "      <td>3.757575</td>\n",
       "      <td>0.724965</td>\n",
       "    </tr>\n",
       "    <tr>\n",
       "      <th>6</th>\n",
       "      <td>-0.175328</td>\n",
       "      <td>0.574916</td>\n",
       "      <td>-0.120808</td>\n",
       "      <td>-0.093546</td>\n",
       "      <td>-0.043390</td>\n",
       "      <td>0.074686</td>\n",
       "      <td>1.962799</td>\n",
       "      <td>0.088365</td>\n",
       "      <td>0.611091</td>\n",
       "      <td>1.985773</td>\n",
       "      <td>0.618244</td>\n",
       "    </tr>\n",
       "    <tr>\n",
       "      <th>8</th>\n",
       "      <td>-0.152938</td>\n",
       "      <td>0.490322</td>\n",
       "      <td>-0.100775</td>\n",
       "      <td>-0.079264</td>\n",
       "      <td>-0.035637</td>\n",
       "      <td>0.054517</td>\n",
       "      <td>1.641255</td>\n",
       "      <td>0.091894</td>\n",
       "      <td>0.522096</td>\n",
       "      <td>1.652580</td>\n",
       "      <td>0.525699</td>\n",
       "    </tr>\n",
       "  </tbody>\n",
       "</table>\n",
       "</div>"
      ],
      "text/plain": [
       "   dfb_const  dfb_revenue_firstweek  dfb_gp_Comedy  dfb_gp_Historical  \\\n",
       "0  -0.280145               0.262276       0.058879           1.410716   \n",
       "1  -0.144219               0.377514      -0.137473          -0.552769   \n",
       "5  -0.035499               0.592067      -0.220475          -0.118377   \n",
       "6  -0.175328               0.574916      -0.120808          -0.093546   \n",
       "8  -0.152938               0.490322      -0.100775          -0.079264   \n",
       "\n",
       "   dfb_gp_Jan   cooks_d  standard_resid  hat_diag  dffits_internal  \\\n",
       "0    0.487492  0.556181        2.687742  0.277955         1.667605   \n",
       "1    1.763363  0.554780        5.629261  0.080490         1.665503   \n",
       "5   -0.102959  0.095130        3.574665  0.035888         0.689675   \n",
       "6   -0.043390  0.074686        1.962799  0.088365         0.611091   \n",
       "8   -0.035637  0.054517        1.641255  0.091894         0.522096   \n",
       "\n",
       "   student_resid    dffits  \n",
       "0       2.757846  1.711100  \n",
       "1       6.489254  1.919945  \n",
       "5       3.757575  0.724965  \n",
       "6       1.985773  0.618244  \n",
       "8       1.652580  0.525699  "
      ]
     },
     "execution_count": 14,
     "metadata": {},
     "output_type": "execute_result"
    }
   ],
   "source": [
    "(n, p) = df_dummy[x_var_list].shape\n",
    "import math\n",
    "d_cut_off = 2 * math.sqrt(p/n)\n",
    "sm_fr[sm_fr['dffits'] > d_cut_off]"
   ]
  },
  {
   "cell_type": "code",
   "execution_count": 15,
   "id": "788cebfc",
   "metadata": {},
   "outputs": [
    {
     "data": {
      "text/html": [
       "<div>\n",
       "<style scoped>\n",
       "    .dataframe tbody tr th:only-of-type {\n",
       "        vertical-align: middle;\n",
       "    }\n",
       "\n",
       "    .dataframe tbody tr th {\n",
       "        vertical-align: top;\n",
       "    }\n",
       "\n",
       "    .dataframe thead th {\n",
       "        text-align: right;\n",
       "    }\n",
       "</style>\n",
       "<table border=\"1\" class=\"dataframe\">\n",
       "  <thead>\n",
       "    <tr style=\"text-align: right;\">\n",
       "      <th></th>\n",
       "      <th>revenue_firstweek</th>\n",
       "      <th>gp_Comedy</th>\n",
       "      <th>gp_Historical</th>\n",
       "      <th>gp_Jan</th>\n",
       "      <th>revenue_total</th>\n",
       "    </tr>\n",
       "  </thead>\n",
       "  <tbody>\n",
       "    <tr>\n",
       "      <th>0</th>\n",
       "      <td>9.36</td>\n",
       "      <td>0</td>\n",
       "      <td>0</td>\n",
       "      <td>0</td>\n",
       "      <td>9.36</td>\n",
       "    </tr>\n",
       "    <tr>\n",
       "      <th>1</th>\n",
       "      <td>90.67</td>\n",
       "      <td>0</td>\n",
       "      <td>0</td>\n",
       "      <td>0</td>\n",
       "      <td>93.37</td>\n",
       "    </tr>\n",
       "    <tr>\n",
       "      <th>5</th>\n",
       "      <td>32.60</td>\n",
       "      <td>0</td>\n",
       "      <td>0</td>\n",
       "      <td>0</td>\n",
       "      <td>34.99</td>\n",
       "    </tr>\n",
       "    <tr>\n",
       "      <th>6</th>\n",
       "      <td>39.65</td>\n",
       "      <td>0</td>\n",
       "      <td>0</td>\n",
       "      <td>0</td>\n",
       "      <td>58.04</td>\n",
       "    </tr>\n",
       "    <tr>\n",
       "      <th>8</th>\n",
       "      <td>20.21</td>\n",
       "      <td>1</td>\n",
       "      <td>0</td>\n",
       "      <td>1</td>\n",
       "      <td>27.91</td>\n",
       "    </tr>\n",
       "  </tbody>\n",
       "</table>\n",
       "</div>"
      ],
      "text/plain": [
       "   revenue_firstweek  gp_Comedy  gp_Historical  gp_Jan  revenue_total\n",
       "0               9.36          0              0       0           9.36\n",
       "1              90.67          0              0       0          93.37\n",
       "5              32.60          0              0       0          34.99\n",
       "6              39.65          0              0       0          58.04\n",
       "8              20.21          1              0       1          27.91"
      ]
     },
     "execution_count": 15,
     "metadata": {},
     "output_type": "execute_result"
    }
   ],
   "source": [
    "index_oulier = sm_fr[sm_fr['dffits'] > d_cut_off].index\n",
    "df_dummy.iloc[index_oulier][x_var_list + ['revenue_total']]"
   ]
  },
  {
   "cell_type": "code",
   "execution_count": 16,
   "id": "79ad249d",
   "metadata": {},
   "outputs": [],
   "source": [
    "df_plot = df_dummy[['revenue_firstweek', 'revenue_total']].copy()\n",
    "df_plot['outlier'] = \"Normal\"\n",
    "df_plot.loc[index_oulier, ['outlier']] = \"Outlier\""
   ]
  },
  {
   "cell_type": "code",
   "execution_count": 17,
   "id": "c12efa68",
   "metadata": {},
   "outputs": [],
   "source": [
    "#df_plot.head(5)"
   ]
  },
  {
   "cell_type": "code",
   "execution_count": 18,
   "id": "5f81c513",
   "metadata": {},
   "outputs": [
    {
     "data": {
      "text/plain": [
       "<AxesSubplot:xlabel='revenue_firstweek', ylabel='revenue_total'>"
      ]
     },
     "execution_count": 18,
     "metadata": {},
     "output_type": "execute_result"
    },
    {
     "data": {
      "image/png": "[encoded data removed]",
      "text/plain": [
       "<Figure size 960x1200 with 1 Axes>"
      ]
     },
     "metadata": {
      "needs_background": "light"
     },
     "output_type": "display_data"
    }
   ],
   "source": [
    "fig, ax1 = plt.subplots(1,1, figsize=(8,10), sharey=True, dpi=120)\n",
    "sns.scatterplot(x=\"revenue_firstweek\", y=\"revenue_total\", hue=\"outlier\", data=df_plot, ax=ax1)"
   ]
  },
  {
   "cell_type": "code",
   "execution_count": 19,
   "id": "7a668e5d",
   "metadata": {},
   "outputs": [
    {
     "name": "stdout",
     "output_type": "stream",
     "text": [
      "Best subset: ('revenue_firstweek', 'gp_Comedy', 'gp_Jan')\n"
     ]
    }
   ],
   "source": [
    "from mlxtend.feature_selection import SequentialFeatureSelector as sfs\n",
    "from mlxtend.plotting import plot_sequential_feature_selection as plot_sfs\n",
    "\n",
    "from sklearn.linear_model import LinearRegression\n",
    "\n",
    "# Using step selection from \n",
    "lr = LinearRegression()\n",
    "X = df_dummy[var_list]\n",
    "y = df['revenue_total']\n",
    "sfs_forward = sfs(lr,\n",
    "            k_features=(1, X.shape[1]),\n",
    "            forward=True,\n",
    "            floating=False,\n",
    "            scoring='neg_mean_squared_error',\n",
    "            cv=10)\n",
    "\n",
    "sfs = sfs_forward.fit(X, y)\n",
    "print('Best subset:', sfs.k_feature_names_)"
   ]
  },
  {
   "cell_type": "markdown",
   "id": "3da6c05c",
   "metadata": {},
   "source": [
    "# Answers\n",
    "\n",
    "    1) Identify the variables that can be used to fit a linear regression model. \n",
    "        Based on correlation with revenue_firstweek, we should remove revenue_opening_day(93% correlation), revenue_opening_weekend(97% correlation)\n",
    "        movie_name and Year, since these will not make sense in model\n",
    "        movie_director : too many levels when compared to data set rows\n",
    "        Because of high VIF, we have to remove run_time\n",
    "        Taking everything into account, and after removing variables, based on high p-value, we finish with 'revenue_firstweek', 'gp_Comedy', 'gp_Historical', 'gp_Jan' \n",
    "    2) How is the total revenue impacted by genre of the movie? \n",
    "    For comedy movie,we see an increase in total revenue by 10 units, keeping evrything else same\n",
    "    For historical movies, we see an increase in total revenue by 34.8470 units, keeping everything else same\n",
    "    3) Does the release month have any role to play in movie's success? \n",
    "    For January month, we see increase in revenue by 34.8470\n",
    "    4) Use any variable reduction technique to fit a model using all relevant variables. \n",
    "    Using SequentialFeatureSelector from mlxtend.feature_selection, with formward selection, we finish with 'revenue_firstweek', 'gp_Comedy', 'gp_Jan'\n",
    "    5) Do you find any outliers in the dataset? What could be the possible reason for those being outliers? \n",
    "    From the analysis of outliers using dffits methods, we see that outliers near the mean regression line. This seems odd."
   ]
  },
  {
   "cell_type": "code",
   "execution_count": null,
   "id": "5f9f0b9a",
   "metadata": {},
   "outputs": [],
   "source": []
  }
 ],
 "metadata": {
  "kernelspec": {
   "display_name": "Python 3 (ipykernel)",
   "language": "python",
   "name": "python3"
  },
  "language_info": {
   "codemirror_mode": {
    "name": "ipython",
    "version": 3
   },
   "file_extension": ".py",
   "mimetype": "text/x-python",
   "name": "python",
   "nbconvert_exporter": "python",
   "pygments_lexer": "ipython3",
   "version": "3.8.10"
  }
 },
 "nbformat": 4,
 "nbformat_minor": 5
}
