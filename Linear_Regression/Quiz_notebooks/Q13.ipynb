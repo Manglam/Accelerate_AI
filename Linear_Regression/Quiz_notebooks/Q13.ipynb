{
 "cells": [
  {
   "cell_type": "markdown",
   "id": "a71ac69f",
   "metadata": {},
   "source": [
    "# Q13\n",
    "An HR analyst in Unitech Pvt Ltd, wants to predict the annual salaries of given employees using the potential explanatory variables in the file MLR_Q13_EmpSalary.csv. File link: https://drive.google.com/drive/folders/1ILKastUTJWccxaxIpJpjqCJDpsMJ-oC8\n",
    "\n",
    "    1) Estimate the appropriate multiple linear regression equation to predict the salary of an Unitech employee using all explanatory variables.\n",
    "    2) Do we need to exclude certain columns? Why?\n",
    "    3) Which department employees are paid the highest? By how much?\n",
    "    4) Do you see any discrimination in salaries earned by male and female employees? \n",
    "    5) What would be the estimated salary of a Sr. Data Scientist (joining engineering) with 10 years of work experience. This woman has 18 years of total education, and will be supervising 4 junior employees. "
   ]
  },
  {
   "cell_type": "code",
   "execution_count": 2,
   "id": "aa8d3aca",
   "metadata": {},
   "outputs": [],
   "source": [
    "import numpy as np\n",
    "import pandas as pd \n",
    "\n",
    "import seaborn as sns \n",
    "import matplotlib.pyplot as plt\n",
    "\n",
    "import statsmodels.api as sm\n",
    "from sklearn.linear_model import LinearRegression"
   ]
  },
  {
   "cell_type": "code",
   "execution_count": 3,
   "id": "a2565aa6",
   "metadata": {},
   "outputs": [
    {
     "data": {
      "text/html": [
       "<div>\n",
       "<style scoped>\n",
       "    .dataframe tbody tr th:only-of-type {\n",
       "        vertical-align: middle;\n",
       "    }\n",
       "\n",
       "    .dataframe tbody tr th {\n",
       "        vertical-align: top;\n",
       "    }\n",
       "\n",
       "    .dataframe thead th {\n",
       "        text-align: right;\n",
       "    }\n",
       "</style>\n",
       "<table border=\"1\" class=\"dataframe\">\n",
       "  <thead>\n",
       "    <tr style=\"text-align: right;\">\n",
       "      <th></th>\n",
       "      <th>Employee</th>\n",
       "      <th>Salary</th>\n",
       "      <th>PreviousExp</th>\n",
       "      <th>YearsEmployed</th>\n",
       "      <th>YearsEducation</th>\n",
       "      <th>DirectRepotees</th>\n",
       "      <th>Female</th>\n",
       "      <th>Male</th>\n",
       "      <th>Engineering</th>\n",
       "      <th>Sales</th>\n",
       "      <th>Other</th>\n",
       "    </tr>\n",
       "  </thead>\n",
       "  <tbody>\n",
       "    <tr>\n",
       "      <th>0</th>\n",
       "      <td>1</td>\n",
       "      <td>65487</td>\n",
       "      <td>0</td>\n",
       "      <td>27</td>\n",
       "      <td>22</td>\n",
       "      <td>44</td>\n",
       "      <td>0</td>\n",
       "      <td>1</td>\n",
       "      <td>1</td>\n",
       "      <td>0</td>\n",
       "      <td>0</td>\n",
       "    </tr>\n",
       "    <tr>\n",
       "      <th>1</th>\n",
       "      <td>2</td>\n",
       "      <td>46184</td>\n",
       "      <td>3</td>\n",
       "      <td>20</td>\n",
       "      <td>14</td>\n",
       "      <td>1</td>\n",
       "      <td>1</td>\n",
       "      <td>0</td>\n",
       "      <td>1</td>\n",
       "      <td>0</td>\n",
       "      <td>0</td>\n",
       "    </tr>\n",
       "  </tbody>\n",
       "</table>\n",
       "</div>"
      ],
      "text/plain": [
       "   Employee  Salary  PreviousExp  YearsEmployed  YearsEducation  \\\n",
       "0         1   65487            0             27              22   \n",
       "1         2   46184            3             20              14   \n",
       "\n",
       "   DirectRepotees  Female  Male  Engineering  Sales  Other  \n",
       "0              44       0     1            1      0      0  \n",
       "1               1       1     0            1      0      0  "
      ]
     },
     "execution_count": 3,
     "metadata": {},
     "output_type": "execute_result"
    }
   ],
   "source": [
    "df = pd.read_csv(\"MLR_Q13_EmpSalary.csv\")\\\n",
    "       .assign(Salary = lambda df: df['Salary'].str.replace('\\\\$|,', '', regex=True).astype(int))\n",
    "\n",
    "df.head(2)"
   ]
  },
  {
   "cell_type": "code",
   "execution_count": 4,
   "id": "662a875e",
   "metadata": {},
   "outputs": [],
   "source": [
    "#sns.pairplot(data = df[[\"Salary\", \"PreviousExp\", \"YearsEmployed\", \"YearsEducation\", \n",
    "#                        \"DirectRepotees\", \"Female\", \"Male\", \"Engineering\", \"Sales\", \"Other\"\n",
    "#                       ]], \n",
    "#             diag_kind='kde')\n",
    "#plt.show()"
   ]
  },
  {
   "cell_type": "code",
   "execution_count": null,
   "id": "428d81aa",
   "metadata": {},
   "outputs": [],
   "source": []
  },
  {
   "cell_type": "code",
   "execution_count": 5,
   "id": "dc273dcf",
   "metadata": {},
   "outputs": [],
   "source": [
    "def fit_lin_reg_with_intercept(X, Y):\n",
    "    X = sm.add_constant(X) # adding a constan\n",
    "    reg_model = sm.OLS(Y,X).fit()\n",
    "    return reg_model"
   ]
  },
  {
   "cell_type": "code",
   "execution_count": 6,
   "id": "9a8f72f7",
   "metadata": {},
   "outputs": [
    {
     "name": "stdout",
     "output_type": "stream",
     "text": [
      "                            OLS Regression Results                            \n",
      "==============================================================================\n",
      "Dep. Variable:                 Salary   R-squared:                       0.846\n",
      "Model:                            OLS   Adj. R-squared:                  0.817\n",
      "Method:                 Least Squares   F-statistic:                     29.78\n",
      "Date:                Thu, 19 May 2022   Prob (F-statistic):           1.48e-13\n",
      "Time:                        07:15:02   Log-Likelihood:                -449.82\n",
      "No. Observations:                  46   AIC:                             915.6\n",
      "Df Residuals:                      38   BIC:                             930.3\n",
      "Df Model:                           7                                         \n",
      "Covariance Type:            nonrobust                                         \n",
      "==================================================================================\n",
      "                     coef    std err          t      P>|t|      [0.025      0.975]\n",
      "----------------------------------------------------------------------------------\n",
      "const           4051.4713   2505.392      1.617      0.114   -1020.430    9123.372\n",
      "PreviousExp      -61.4031    200.339     -0.306      0.761    -466.967     344.161\n",
      "YearsEmployed    664.6281    117.548      5.654      0.000     426.664     902.592\n",
      "YearsEducation  1599.1368    339.386      4.712      0.000     912.086    2286.187\n",
      "DirectRepotees   130.0708     82.554      1.576      0.123     -37.050     297.192\n",
      "Female          2966.9590   1543.458      1.922      0.062    -157.608    6091.526\n",
      "Male            1084.5123   1349.674      0.804      0.427   -1647.761    3816.785\n",
      "Engineering     4471.0615   1245.954      3.588      0.001    1948.760    6993.363\n",
      "Sales          -3613.2788   1472.652     -2.454      0.019   -6594.507    -632.050\n",
      "Other           3193.6885   1285.909      2.484      0.018     590.501    5796.876\n",
      "==============================================================================\n",
      "Omnibus:                        0.067   Durbin-Watson:                   2.720\n",
      "Prob(Omnibus):                  0.967   Jarque-Bera (JB):                0.225\n",
      "Skew:                           0.073   Prob(JB):                        0.894\n",
      "Kurtosis:                       2.690   Cond. No.                     3.78e+17\n",
      "==============================================================================\n",
      "\n",
      "Notes:\n",
      "[1] Standard Errors assume that the covariance matrix of the errors is correctly specified.\n",
      "[2] The smallest eigenvalue is 1.46e-31. This might indicate that there are\n",
      "strong multicollinearity problems or that the design matrix is singular.\n"
     ]
    }
   ],
   "source": [
    "x_var = [\"PreviousExp\", \"YearsEmployed\", \"YearsEducation\", \"DirectRepotees\", \"Female\", \"Male\", \"Engineering\",\n",
    "         \"Sales\", \"Other\"\n",
    "        ]\n",
    "reg_model = fit_lin_reg_with_intercept(X=df[x_var], Y=df[[\"Salary\"]])\n",
    "print(reg_model.summary())"
   ]
  },
  {
   "cell_type": "code",
   "execution_count": 7,
   "id": "ca296fbe",
   "metadata": {},
   "outputs": [
    {
     "data": {
      "text/plain": [
       "YearsEmployed     4.128813\n",
       "YearsEducation    6.600779\n",
       "DirectRepotees    1.618599\n",
       "Female            2.214391\n",
       "Sales             1.485294\n",
       "Other             1.706149\n",
       "dtype: float64"
      ]
     },
     "execution_count": 7,
     "metadata": {},
     "output_type": "execute_result"
    }
   ],
   "source": [
    "from statsmodels.stats.outliers_influence import variance_inflation_factor\n",
    "# strong multicollinearity among Male,Female, Engineering, Sales and Other\n",
    "#   remove Male\n",
    "# strong multicollinearity among Female, Engineering, Sales and Other with Engineering showing highest VIF\n",
    "#   remove Engineering\n",
    "#   remove PreviousExp, because of high p-value\n",
    "\n",
    "\n",
    "x_var = [\"YearsEmployed\", \"YearsEducation\", \"DirectRepotees\", \"Female\",\n",
    "         \"Sales\", \"Other\"\n",
    "        ]\n",
    "X = df[x_var]\n",
    "pd.Series([variance_inflation_factor(X.values, i) \n",
    "               for i in range(X.shape[1])], index=X.columns)"
   ]
  },
  {
   "cell_type": "code",
   "execution_count": 8,
   "id": "c916022d",
   "metadata": {},
   "outputs": [
    {
     "name": "stdout",
     "output_type": "stream",
     "text": [
      "                            OLS Regression Results                            \n",
      "==============================================================================\n",
      "Dep. Variable:                 Salary   R-squared:                       0.845\n",
      "Model:                            OLS   Adj. R-squared:                  0.822\n",
      "Method:                 Least Squares   F-statistic:                     35.56\n",
      "Date:                Thu, 19 May 2022   Prob (F-statistic):           2.47e-14\n",
      "Time:                        07:15:02   Log-Likelihood:                -449.88\n",
      "No. Observations:                  46   AIC:                             913.8\n",
      "Df Residuals:                      39   BIC:                             926.6\n",
      "Df Model:                           6                                         \n",
      "Covariance Type:            nonrobust                                         \n",
      "==================================================================================\n",
      "                     coef    std err          t      P>|t|      [0.025      0.975]\n",
      "----------------------------------------------------------------------------------\n",
      "const           9352.2329   4473.683      2.090      0.043     303.354    1.84e+04\n",
      "YearsEmployed    667.1579    115.888      5.757      0.000     432.752     901.563\n",
      "YearsEducation  1601.9920    335.294      4.778      0.000     923.796    2280.188\n",
      "DirectRepotees   124.3685     79.490      1.565      0.126     -36.415     285.152\n",
      "Female          1790.9146   1412.147      1.268      0.212   -1065.422    4647.251\n",
      "Sales          -8171.3772   1806.954     -4.522      0.000   -1.18e+04   -4516.468\n",
      "Other          -1271.7246   1593.255     -0.798      0.430   -4494.387    1950.938\n",
      "==============================================================================\n",
      "Omnibus:                        0.069   Durbin-Watson:                   2.736\n",
      "Prob(Omnibus):                  0.966   Jarque-Bera (JB):                0.237\n",
      "Skew:                           0.069   Prob(JB):                        0.888\n",
      "Kurtosis:                       2.676   Cond. No.                         137.\n",
      "==============================================================================\n",
      "\n",
      "Notes:\n",
      "[1] Standard Errors assume that the covariance matrix of the errors is correctly specified.\n"
     ]
    }
   ],
   "source": [
    "reg_model = fit_lin_reg_with_intercept(X=df[x_var], Y=df[[\"Salary\"]])\n",
    "print(reg_model.summary())"
   ]
  },
  {
   "cell_type": "markdown",
   "id": "eaee0071",
   "metadata": {},
   "source": [
    "### Answer\n",
    "    1) Estimate the appropriate multiple linear regression equation to predict the salary of an Unitech employee using all explanatory variables.\n",
    "       9352.2329 +  67.1579 * YearsEmployed + 1601.9920 * YearsEducation + 124.3685 * DirectRepotees + 1790.9146 * Female - 8171.3772 * Sales - 1271.7246 * Other  \n",
    "    2) Do we need to exclude certain columns? Why?\n",
    "       We must remove variable 'Male' and `Engineering` to address multicolliearity, otherwise we will not be able to make a good linear regression model. We also need to remove PreviousExp, since its sign was coming as negative, which did not make sense\n",
    "    3) Which department employees are paid the highest? By how much?\n",
    "    Engineering department is making the most, if everything else remains same. As compared to Sales, they are making more than -8171.3772 and as compared to Other, they are making -1271.7246 more. For Sales, the p-Value of the coefficient is not significant at 95%, hence we may have to do some other analysis to confirm this.\n",
    "    4) Do you see any discrimination in salaries earned by male and female employees? \n",
    "    From the positive regression coefficient, we do see that Females salaries are more than Males, but the coefficient is not significant. Hence its not possible to conclude this based on regression. So based on this data, we cant say we have evidence that there is discrimination in Salaries amonng Males and Females.\n",
    "    5) What would be the estimated salary of a Sr. Data Scientist (joining engineering) with 10 years of work experience. This woman has 18 years of total education, and will be supervising 4 junior employees.\n",
    "    41,148.06"
   ]
  },
  {
   "cell_type": "code",
   "execution_count": 11,
   "id": "fc9a5642",
   "metadata": {},
   "outputs": [
    {
     "data": {
      "text/plain": [
       "41148.06"
      ]
     },
     "execution_count": 11,
     "metadata": {},
     "output_type": "execute_result"
    }
   ],
   "source": [
    "round(9352.2329 +  67.1579 * 10 + 1601.9920 * 18 + 124.3685 * 4 + 1790.9146 * 1, 2)"
   ]
  },
  {
   "cell_type": "code",
   "execution_count": null,
   "id": "7fc62f0f",
   "metadata": {},
   "outputs": [],
   "source": []
  }
 ],
 "metadata": {
  "kernelspec": {
   "display_name": "Python 3 (ipykernel)",
   "language": "python",
   "name": "python3"
  },
  "language_info": {
   "codemirror_mode": {
    "name": "ipython",
    "version": 3
   },
   "file_extension": ".py",
   "mimetype": "text/x-python",
   "name": "python",
   "nbconvert_exporter": "python",
   "pygments_lexer": "ipython3",
   "version": "3.8.10"
  }
 },
 "nbformat": 4,
 "nbformat_minor": 5
}
