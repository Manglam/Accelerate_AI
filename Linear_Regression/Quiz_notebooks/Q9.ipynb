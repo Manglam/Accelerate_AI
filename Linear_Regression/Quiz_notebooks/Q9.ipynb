{
 "cells": [
  {
   "cell_type": "markdown",
   "id": "1710c5bc",
   "metadata": {},
   "source": [
    "# Q9\n",
    "Benedrix, a machine tool company in interested in understand the impact of machine hours and production run, on its overhead cost. \n",
    "The data on a monthly basis for 3 years is provided in the dataset: MLR_Q09_FactoryOverhead\n",
    "Link: https://drive.google.com/drive/folders/1ILKastUTJWccxaxIpJpjqCJDpsMJ-oC8\n",
    "\n",
    "Fit the regression equations for the following:\n",
    "\n",
    "    Overhead = F (machine hours)\n",
    "    Overhead = F (production runs)\n",
    "    Overhead = F (machine hours, production runs) \n",
    "\n",
    "Answer below questions:\n",
    "\n",
    "    1)  Is production run strongly correlated with machine hours?\n",
    "    2)  Find the R-Squared in all 3 cases. \n",
    "    3)  How would you explain the additional lift in R-squared of the combined model vs each of the individual model? "
   ]
  },
  {
   "cell_type": "code",
   "execution_count": 17,
   "id": "ec6f16db",
   "metadata": {},
   "outputs": [],
   "source": [
    "import numpy as np\n",
    "import pandas as pd \n",
    "\n",
    "import seaborn as sns \n",
    "import matplotlib.pyplot as plt\n",
    "\n",
    "import statsmodels.api as sm\n",
    "from sklearn.linear_model import LinearRegression"
   ]
  },
  {
   "cell_type": "code",
   "execution_count": 4,
   "id": "728846d6",
   "metadata": {},
   "outputs": [
    {
     "data": {
      "text/html": [
       "<div>\n",
       "<style scoped>\n",
       "    .dataframe tbody tr th:only-of-type {\n",
       "        vertical-align: middle;\n",
       "    }\n",
       "\n",
       "    .dataframe tbody tr th {\n",
       "        vertical-align: top;\n",
       "    }\n",
       "\n",
       "    .dataframe thead th {\n",
       "        text-align: right;\n",
       "    }\n",
       "</style>\n",
       "<table border=\"1\" class=\"dataframe\">\n",
       "  <thead>\n",
       "    <tr style=\"text-align: right;\">\n",
       "      <th></th>\n",
       "      <th>Month</th>\n",
       "      <th>Machine Hours</th>\n",
       "      <th>Production Runs</th>\n",
       "      <th>Overhead Cost</th>\n",
       "    </tr>\n",
       "  </thead>\n",
       "  <tbody>\n",
       "    <tr>\n",
       "      <th>0</th>\n",
       "      <td>1</td>\n",
       "      <td>1539</td>\n",
       "      <td>31</td>\n",
       "      <td>99798</td>\n",
       "    </tr>\n",
       "    <tr>\n",
       "      <th>1</th>\n",
       "      <td>2</td>\n",
       "      <td>1284</td>\n",
       "      <td>29</td>\n",
       "      <td>87804</td>\n",
       "    </tr>\n",
       "    <tr>\n",
       "      <th>2</th>\n",
       "      <td>3</td>\n",
       "      <td>1490</td>\n",
       "      <td>27</td>\n",
       "      <td>93681</td>\n",
       "    </tr>\n",
       "    <tr>\n",
       "      <th>3</th>\n",
       "      <td>4</td>\n",
       "      <td>1355</td>\n",
       "      <td>22</td>\n",
       "      <td>82262</td>\n",
       "    </tr>\n",
       "    <tr>\n",
       "      <th>4</th>\n",
       "      <td>5</td>\n",
       "      <td>1500</td>\n",
       "      <td>35</td>\n",
       "      <td>106968</td>\n",
       "    </tr>\n",
       "  </tbody>\n",
       "</table>\n",
       "</div>"
      ],
      "text/plain": [
       "   Month  Machine Hours  Production Runs  Overhead Cost\n",
       "0      1           1539               31          99798\n",
       "1      2           1284               29          87804\n",
       "2      3           1490               27          93681\n",
       "3      4           1355               22          82262\n",
       "4      5           1500               35         106968"
      ]
     },
     "execution_count": 4,
     "metadata": {},
     "output_type": "execute_result"
    }
   ],
   "source": [
    "df = pd.read_csv(\"MLR_Q09_FactoryOverhead.csv\")\n",
    "df.head()"
   ]
  },
  {
   "cell_type": "markdown",
   "id": "b2548bc4",
   "metadata": {},
   "source": [
    "## Data Exploration"
   ]
  },
  {
   "cell_type": "code",
   "execution_count": 15,
   "id": "cec48724",
   "metadata": {},
   "outputs": [
    {
     "data": {
      "text/html": [
       "<div>\n",
       "<style scoped>\n",
       "    .dataframe tbody tr th:only-of-type {\n",
       "        vertical-align: middle;\n",
       "    }\n",
       "\n",
       "    .dataframe tbody tr th {\n",
       "        vertical-align: top;\n",
       "    }\n",
       "\n",
       "    .dataframe thead th {\n",
       "        text-align: right;\n",
       "    }\n",
       "</style>\n",
       "<table border=\"1\" class=\"dataframe\">\n",
       "  <thead>\n",
       "    <tr style=\"text-align: right;\">\n",
       "      <th></th>\n",
       "      <th>Machine Hours</th>\n",
       "      <th>Production Runs</th>\n",
       "      <th>Overhead Cost</th>\n",
       "    </tr>\n",
       "  </thead>\n",
       "  <tbody>\n",
       "    <tr>\n",
       "      <th>Machine Hours</th>\n",
       "      <td>1.000000</td>\n",
       "      <td>-0.229093</td>\n",
       "      <td>0.631885</td>\n",
       "    </tr>\n",
       "    <tr>\n",
       "      <th>Production Runs</th>\n",
       "      <td>-0.229093</td>\n",
       "      <td>1.000000</td>\n",
       "      <td>0.520544</td>\n",
       "    </tr>\n",
       "    <tr>\n",
       "      <th>Overhead Cost</th>\n",
       "      <td>0.631885</td>\n",
       "      <td>0.520544</td>\n",
       "      <td>1.000000</td>\n",
       "    </tr>\n",
       "  </tbody>\n",
       "</table>\n",
       "</div>"
      ],
      "text/plain": [
       "                 Machine Hours  Production Runs  Overhead Cost\n",
       "Machine Hours         1.000000        -0.229093       0.631885\n",
       "Production Runs      -0.229093         1.000000       0.520544\n",
       "Overhead Cost         0.631885         0.520544       1.000000"
      ]
     },
     "execution_count": 15,
     "metadata": {},
     "output_type": "execute_result"
    }
   ],
   "source": [
    "import matplotlib.pyplot as plt\n",
    "\n",
    "df[[\"Machine Hours\", \"Production Runs\", \"Overhead Cost\"]].corr()"
   ]
  },
  {
   "cell_type": "code",
   "execution_count": 19,
   "id": "ea1f0876",
   "metadata": {},
   "outputs": [
    {
     "data": {
      "image/png": "[encoded data removed]",
      "text/plain": [
       "<Figure size 540x540 with 12 Axes>"
      ]
     },
     "metadata": {
      "needs_background": "light"
     },
     "output_type": "display_data"
    }
   ],
   "source": [
    "sns.pairplot(data = df[[\"Machine Hours\", \"Production Runs\", \"Overhead Cost\"]], \n",
    "             diag_kind='kde')\n",
    "plt.show()"
   ]
  },
  {
   "cell_type": "code",
   "execution_count": 7,
   "id": "3d604a60",
   "metadata": {},
   "outputs": [],
   "source": [
    "def fit_lin_reg_with_intercept(X, Y):\n",
    "    X = sm.add_constant(X) # adding a constan\n",
    "    reg_model = sm.OLS(Y,X).fit()\n",
    "    return reg_model"
   ]
  },
  {
   "cell_type": "markdown",
   "id": "ddbb3b1c",
   "metadata": {},
   "source": [
    "# Fit the regression equation, as asked"
   ]
  },
  {
   "cell_type": "markdown",
   "id": "1996f460",
   "metadata": {},
   "source": [
    "## Overhead = F (machine hours)"
   ]
  },
  {
   "cell_type": "code",
   "execution_count": 9,
   "id": "f34b6592",
   "metadata": {},
   "outputs": [
    {
     "name": "stdout",
     "output_type": "stream",
     "text": [
      "                            OLS Regression Results                            \n",
      "==============================================================================\n",
      "Dep. Variable:          Overhead Cost   R-squared:                       0.399\n",
      "Model:                            OLS   Adj. R-squared:                  0.382\n",
      "Method:                 Least Squares   F-statistic:                     22.60\n",
      "Date:                Fri, 13 May 2022   Prob (F-statistic):           3.57e-05\n",
      "Time:                        06:43:39   Log-Likelihood:                -376.13\n",
      "No. Observations:                  36   AIC:                             756.3\n",
      "Df Residuals:                      34   BIC:                             759.4\n",
      "Df Model:                           1                                         \n",
      "Covariance Type:            nonrobust                                         \n",
      "=================================================================================\n",
      "                    coef    std err          t      P>|t|      [0.025      0.975]\n",
      "---------------------------------------------------------------------------------\n",
      "const          4.862e+04   1.07e+04      4.533      0.000    2.68e+04    7.04e+04\n",
      "Machine Hours    34.7022      7.300      4.754      0.000      19.867      49.537\n",
      "==============================================================================\n",
      "Omnibus:                        0.251   Durbin-Watson:                   2.451\n",
      "Prob(Omnibus):                  0.882   Jarque-Bera (JB):                0.140\n",
      "Skew:                           0.141   Prob(JB):                        0.933\n",
      "Kurtosis:                       2.886   Cond. No.                     1.10e+04\n",
      "==============================================================================\n",
      "\n",
      "Notes:\n",
      "[1] Standard Errors assume that the covariance matrix of the errors is correctly specified.\n",
      "[2] The condition number is large, 1.1e+04. This might indicate that there are\n",
      "strong multicollinearity or other numerical problems.\n"
     ]
    }
   ],
   "source": [
    "reg_model_1 = fit_lin_reg_with_intercept(X=df[[\"Machine Hours\"]], Y=df[[\"Overhead Cost\"]])\n",
    "print(reg_model_1.summary())"
   ]
  },
  {
   "cell_type": "markdown",
   "id": "e8179203",
   "metadata": {},
   "source": [
    "## Overhead = F (production runs)"
   ]
  },
  {
   "cell_type": "code",
   "execution_count": 11,
   "id": "6b9872a8",
   "metadata": {},
   "outputs": [
    {
     "name": "stdout",
     "output_type": "stream",
     "text": [
      "                            OLS Regression Results                            \n",
      "==============================================================================\n",
      "Dep. Variable:          Overhead Cost   R-squared:                       0.271\n",
      "Model:                            OLS   Adj. R-squared:                  0.250\n",
      "Method:                 Least Squares   F-statistic:                     12.64\n",
      "Date:                Fri, 13 May 2022   Prob (F-statistic):            0.00114\n",
      "Time:                        06:44:41   Log-Likelihood:                -379.62\n",
      "No. Observations:                  36   AIC:                             763.2\n",
      "Df Residuals:                      34   BIC:                             766.4\n",
      "Df Model:                           1                                         \n",
      "Covariance Type:            nonrobust                                         \n",
      "===================================================================================\n",
      "                      coef    std err          t      P>|t|      [0.025      0.975]\n",
      "-----------------------------------------------------------------------------------\n",
      "const            7.561e+04   6808.611     11.104      0.000    6.18e+04    8.94e+04\n",
      "Production Runs   655.0707    184.275      3.555      0.001     280.579    1029.562\n",
      "==============================================================================\n",
      "Omnibus:                        0.597   Durbin-Watson:                   2.090\n",
      "Prob(Omnibus):                  0.742   Jarque-Bera (JB):                0.683\n",
      "Skew:                          -0.264   Prob(JB):                        0.711\n",
      "Kurtosis:                       2.580   Cond. No.                         160.\n",
      "==============================================================================\n",
      "\n",
      "Notes:\n",
      "[1] Standard Errors assume that the covariance matrix of the errors is correctly specified.\n"
     ]
    }
   ],
   "source": [
    "reg_model_2 = fit_lin_reg_with_intercept(X=df[[\"Production Runs\"]], Y=df[[\"Overhead Cost\"]])\n",
    "print(reg_model_2.summary())"
   ]
  },
  {
   "cell_type": "markdown",
   "id": "92303827",
   "metadata": {},
   "source": [
    "## Overhead = F (machine hours, production runs) "
   ]
  },
  {
   "cell_type": "code",
   "execution_count": 13,
   "id": "22decbdd",
   "metadata": {},
   "outputs": [
    {
     "name": "stdout",
     "output_type": "stream",
     "text": [
      "                            OLS Regression Results                            \n",
      "==============================================================================\n",
      "Dep. Variable:          Overhead Cost   R-squared:                       0.866\n",
      "Model:                            OLS   Adj. R-squared:                  0.858\n",
      "Method:                 Least Squares   F-statistic:                     107.0\n",
      "Date:                Fri, 13 May 2022   Prob (F-statistic):           3.75e-15\n",
      "Time:                        06:45:20   Log-Likelihood:                -349.07\n",
      "No. Observations:                  36   AIC:                             704.1\n",
      "Df Residuals:                      33   BIC:                             708.9\n",
      "Df Model:                           2                                         \n",
      "Covariance Type:            nonrobust                                         \n",
      "===================================================================================\n",
      "                      coef    std err          t      P>|t|      [0.025      0.975]\n",
      "-----------------------------------------------------------------------------------\n",
      "const            3996.6782   6603.651      0.605      0.549   -9438.551    1.74e+04\n",
      "Machine Hours      43.5364      3.589     12.129      0.000      36.234      50.839\n",
      "Production Runs   883.6179     82.251     10.743      0.000     716.276    1050.960\n",
      "==============================================================================\n",
      "Omnibus:                        3.142   Durbin-Watson:                   1.313\n",
      "Prob(Omnibus):                  0.208   Jarque-Bera (JB):                2.259\n",
      "Skew:                          -0.609   Prob(JB):                        0.323\n",
      "Kurtosis:                       3.155   Cond. No.                     1.42e+04\n",
      "==============================================================================\n",
      "\n",
      "Notes:\n",
      "[1] Standard Errors assume that the covariance matrix of the errors is correctly specified.\n",
      "[2] The condition number is large, 1.42e+04. This might indicate that there are\n",
      "strong multicollinearity or other numerical problems.\n"
     ]
    }
   ],
   "source": [
    "reg_model_3 = fit_lin_reg_with_intercept(X=df[[\"Machine Hours\", \"Production Runs\"]], Y=df[[\"Overhead Cost\"]])\n",
    "print(reg_model_3.summary())"
   ]
  },
  {
   "cell_type": "markdown",
   "id": "861eaa62",
   "metadata": {},
   "source": [
    "## Answers"
   ]
  },
  {
   "cell_type": "markdown",
   "id": "6e1da259",
   "metadata": {},
   "source": [
    "    1)  Is production run strongly correlated with machine hours?\n",
    "    The correlation coefficient between the two is -0.21, wihch is very low correlation\n",
    "    2)  Find the R-Squared in all 3 cases. \n",
    "        - 1st model R-squared is 0.399\n",
    "        - 2nd model R-squared is 0.271\n",
    "        - 3rd model R-squared is 0.866\n",
    "    3)  How would you explain the additional lift in R-squared of the combined model vs each of the individual model? \n",
    "    Its because both independent variables are correlated with dependent variable, but they dont have much correlation among themselves. Due to this when we add the two variables, the model is improving"
   ]
  },
  {
   "cell_type": "code",
   "execution_count": null,
   "id": "066d61ba",
   "metadata": {},
   "outputs": [],
   "source": []
  }
 ],
 "metadata": {
  "kernelspec": {
   "display_name": "Python 3 (ipykernel)",
   "language": "python",
   "name": "python3"
  },
  "language_info": {
   "codemirror_mode": {
    "name": "ipython",
    "version": 3
   },
   "file_extension": ".py",
   "mimetype": "text/x-python",
   "name": "python",
   "nbconvert_exporter": "python",
   "pygments_lexer": "ipython3",
   "version": "3.8.10"
  }
 },
 "nbformat": 4,
 "nbformat_minor": 5
}
