{
 "cells": [
  {
   "cell_type": "code",
   "execution_count": 1,
   "id": "4adc3d7d",
   "metadata": {},
   "outputs": [],
   "source": [
    "import pandas as pd\n",
    "import numpy as np\n",
    "from matplotlib import pyplot as plt"
   ]
  },
  {
   "cell_type": "markdown",
   "id": "2fc67be3",
   "metadata": {},
   "source": [
    "# Read and clean the data set"
   ]
  },
  {
   "cell_type": "code",
   "execution_count": 2,
   "id": "ada82de7",
   "metadata": {},
   "outputs": [],
   "source": [
    "df = pd.read_csv(\"EcommercePurchases.csv\")\n",
    "df = df.assign(Purchase_Price = lambda df: pd.to_numeric(df['Purchase Price']))\\\n",
    "       .drop(['Purchase Price'], axis=1)\\\n",
    "       .rename(columns = {'AM or PM':'AM_or_PM', \"Browser Info\":'Browser_Info', \"Credit Card\": \"Credit_Card\", \n",
    "                          \"CC Exp Date\": \"CC_Exp_Date\", \"CC Security Code\": \"CC_Security_Code\",\n",
    "                          \"CC Provider\": \"CC_Provider\", \"IP Address\": \"IP_Address\"\n",
    "                         })\\\n",
    "       .assign(CC_Exp_Date=lambda df: pd.to_datetime(df['CC_Exp_Date'], format=\"%b-%y\"))\n",
    "\n",
    "# remove rows with purchase price less than or equal to zero\n",
    "df = df.loc[df['Purchase_Price'] >= 0]"
   ]
  },
  {
   "cell_type": "code",
   "execution_count": 3,
   "id": "b7b631ce",
   "metadata": {},
   "outputs": [
    {
     "data": {
      "text/html": [
       "<div>\n",
       "<style scoped>\n",
       "    .dataframe tbody tr th:only-of-type {\n",
       "        vertical-align: middle;\n",
       "    }\n",
       "\n",
       "    .dataframe tbody tr th {\n",
       "        vertical-align: top;\n",
       "    }\n",
       "\n",
       "    .dataframe thead th {\n",
       "        text-align: right;\n",
       "    }\n",
       "</style>\n",
       "<table border=\"1\" class=\"dataframe\">\n",
       "  <thead>\n",
       "    <tr style=\"text-align: right;\">\n",
       "      <th></th>\n",
       "      <th>Address</th>\n",
       "      <th>Lot</th>\n",
       "      <th>AM_or_PM</th>\n",
       "      <th>Browser_Info</th>\n",
       "      <th>Company</th>\n",
       "      <th>Credit_Card</th>\n",
       "      <th>CC_Exp_Date</th>\n",
       "      <th>CC_Security_Code</th>\n",
       "      <th>CC_Provider</th>\n",
       "      <th>Email</th>\n",
       "      <th>Job</th>\n",
       "      <th>IP_Address</th>\n",
       "      <th>Language</th>\n",
       "      <th>Purchase_Price</th>\n",
       "    </tr>\n",
       "  </thead>\n",
       "  <tbody>\n",
       "    <tr>\n",
       "      <th>0</th>\n",
       "      <td>16629 Pace Camp Apt. 448\\nAlexisborough, NE 77...</td>\n",
       "      <td>46 in</td>\n",
       "      <td>PM</td>\n",
       "      <td>Opera/9.56.(X11; Linux x86_64; sl-SI) Presto/2...</td>\n",
       "      <td>Martinez-Herman</td>\n",
       "      <td>6.011930e+15</td>\n",
       "      <td>2020-02-01</td>\n",
       "      <td>900</td>\n",
       "      <td>JCB 16 digit</td>\n",
       "      <td>pdunlap@yahoo.com</td>\n",
       "      <td>Scientist, product/process development</td>\n",
       "      <td>149.146.147.205</td>\n",
       "      <td>el</td>\n",
       "      <td>98.14</td>\n",
       "    </tr>\n",
       "    <tr>\n",
       "      <th>1</th>\n",
       "      <td>9374 Jasmine Spurs Suite 508\\nSouth John, TN 8...</td>\n",
       "      <td>28 rn</td>\n",
       "      <td>PM</td>\n",
       "      <td>Opera/8.93.(Windows 98; Win 9x 4.90; en-US) Pr...</td>\n",
       "      <td>Fletcher, Richards and Whitaker</td>\n",
       "      <td>3.337760e+15</td>\n",
       "      <td>2018-11-01</td>\n",
       "      <td>561</td>\n",
       "      <td>Mastercard</td>\n",
       "      <td>anthony41@reed.com</td>\n",
       "      <td>Drilling engineer</td>\n",
       "      <td>15.160.41.51</td>\n",
       "      <td>fr</td>\n",
       "      <td>70.73</td>\n",
       "    </tr>\n",
       "  </tbody>\n",
       "</table>\n",
       "</div>"
      ],
      "text/plain": [
       "                                             Address    Lot AM_or_PM  \\\n",
       "0  16629 Pace Camp Apt. 448\\nAlexisborough, NE 77...  46 in       PM   \n",
       "1  9374 Jasmine Spurs Suite 508\\nSouth John, TN 8...  28 rn       PM   \n",
       "\n",
       "                                        Browser_Info  \\\n",
       "0  Opera/9.56.(X11; Linux x86_64; sl-SI) Presto/2...   \n",
       "1  Opera/8.93.(Windows 98; Win 9x 4.90; en-US) Pr...   \n",
       "\n",
       "                           Company   Credit_Card CC_Exp_Date  \\\n",
       "0                  Martinez-Herman  6.011930e+15  2020-02-01   \n",
       "1  Fletcher, Richards and Whitaker  3.337760e+15  2018-11-01   \n",
       "\n",
       "   CC_Security_Code   CC_Provider               Email  \\\n",
       "0               900  JCB 16 digit   pdunlap@yahoo.com   \n",
       "1               561    Mastercard  anthony41@reed.com   \n",
       "\n",
       "                                      Job       IP_Address Language  \\\n",
       "0  Scientist, product/process development  149.146.147.205       el   \n",
       "1                       Drilling engineer     15.160.41.51       fr   \n",
       "\n",
       "   Purchase_Price  \n",
       "0           98.14  \n",
       "1           70.73  "
      ]
     },
     "execution_count": 3,
     "metadata": {},
     "output_type": "execute_result"
    }
   ],
   "source": [
    "df.iloc[0:2]"
   ]
  },
  {
   "cell_type": "markdown",
   "id": "f7b2cd1e",
   "metadata": {},
   "source": [
    "# Maximum and minimum Price"
   ]
  },
  {
   "cell_type": "code",
   "execution_count": 4,
   "id": "dc5c13b5",
   "metadata": {},
   "outputs": [
    {
     "name": "stdout",
     "output_type": "stream",
     "text": [
      "Maximum price is 99.99\n",
      "Minimum price is 0.0\n"
     ]
    }
   ],
   "source": [
    "max_price = df['Purchase_Price'].max()\n",
    "min_price = df['Purchase_Price'].min()\n",
    "\n",
    "print(f\"Maximum price is {max_price}\\nMinimum price is {min_price}\")"
   ]
  },
  {
   "cell_type": "markdown",
   "id": "2d7174e6",
   "metadata": {},
   "source": [
    "# How has the average price been trending?"
   ]
  },
  {
   "cell_type": "code",
   "execution_count": 5,
   "id": "56845649",
   "metadata": {},
   "outputs": [
    {
     "data": {
      "text/html": [
       "<div>\n",
       "<style scoped>\n",
       "    .dataframe tbody tr th:only-of-type {\n",
       "        vertical-align: middle;\n",
       "    }\n",
       "\n",
       "    .dataframe tbody tr th {\n",
       "        vertical-align: top;\n",
       "    }\n",
       "\n",
       "    .dataframe thead th {\n",
       "        text-align: right;\n",
       "    }\n",
       "</style>\n",
       "<table border=\"1\" class=\"dataframe\">\n",
       "  <thead>\n",
       "    <tr style=\"text-align: right;\">\n",
       "      <th></th>\n",
       "      <th>AM_or_PM</th>\n",
       "      <th>mean_purchase_price</th>\n",
       "    </tr>\n",
       "  </thead>\n",
       "  <tbody>\n",
       "    <tr>\n",
       "      <th>0</th>\n",
       "      <td>AM</td>\n",
       "      <td>50.186511</td>\n",
       "    </tr>\n",
       "    <tr>\n",
       "      <th>1</th>\n",
       "      <td>PM</td>\n",
       "      <td>50.503779</td>\n",
       "    </tr>\n",
       "  </tbody>\n",
       "</table>\n",
       "</div>"
      ],
      "text/plain": [
       "  AM_or_PM  mean_purchase_price\n",
       "0       AM            50.186511\n",
       "1       PM            50.503779"
      ]
     },
     "execution_count": 5,
     "metadata": {},
     "output_type": "execute_result"
    }
   ],
   "source": [
    "df.groupby('AM_or_PM', as_index=False)\\\n",
    "  .agg(mean_purchase_price=('Purchase_Price', 'mean'))"
   ]
  },
  {
   "cell_type": "markdown",
   "id": "99762841",
   "metadata": {},
   "source": [
    "# No of people who have 'en' as their language of choice"
   ]
  },
  {
   "cell_type": "code",
   "execution_count": 6,
   "id": "4c248761",
   "metadata": {},
   "outputs": [
    {
     "data": {
      "text/plain": [
       "1098"
      ]
     },
     "execution_count": 6,
     "metadata": {},
     "output_type": "execute_result"
    }
   ],
   "source": [
    "# Take the distinct emails, as number of people \n",
    "df[df['Language'] == 'en']\\\n",
    "  .drop_duplicates(subset='Email')\\\n",
    "  .shape[0]"
   ]
  },
  {
   "cell_type": "markdown",
   "id": "9d15c5f5",
   "metadata": {},
   "source": [
    "# Most popular Credit card provider"
   ]
  },
  {
   "cell_type": "code",
   "execution_count": 7,
   "id": "9adcbfca",
   "metadata": {},
   "outputs": [
    {
     "name": "stdout",
     "output_type": "stream",
     "text": [
      "Most popular credit card provider is JCB 16 digit\n"
     ]
    }
   ],
   "source": [
    "# do a groupby, sort descending and print 1st value\n",
    "most_popular_cc_provide = df['CC_Provider'].value_counts(ascending=False).index[0]\n",
    "print(f\"Most popular credit card provider is {most_popular_cc_provide}\")"
   ]
  },
  {
   "cell_type": "markdown",
   "id": "9e27308e",
   "metadata": {},
   "source": [
    "# No of people purchasing in AM vs PM"
   ]
  },
  {
   "cell_type": "code",
   "execution_count": 8,
   "id": "94aa6204",
   "metadata": {},
   "outputs": [
    {
     "name": "stdout",
     "output_type": "stream",
     "text": [
      "Number of people purchasing in AM 4917\n",
      "Number of people purchasing in PM 5061\n"
     ]
    }
   ],
   "source": [
    "num_people_am = df[df['AM_or_PM'] == 'AM'].drop_duplicates(subset='Email').shape[0]\n",
    "num_people_pm = df[df['AM_or_PM'] == 'PM'].drop_duplicates(subset='Email').shape[0]\n",
    "print(f\"Number of people purchasing in AM {num_people_am}\")\n",
    "print(f\"Number of people purchasing in PM {num_people_pm}\")"
   ]
  },
  {
   "cell_type": "markdown",
   "id": "4e532e0f",
   "metadata": {},
   "source": [
    "# No of American Express cards expiring in Year 2025"
   ]
  },
  {
   "cell_type": "code",
   "execution_count": 9,
   "id": "0d03197d",
   "metadata": {},
   "outputs": [
    {
     "name": "stdout",
     "output_type": "stream",
     "text": [
      "Number of American Express cards expiring in 2025 are : 70\n"
     ]
    }
   ],
   "source": [
    "card_expiring_2025 = (df[df['CC_Provider'] == \"American Express\"]['CC_Exp_Date'].dt.year == 2025).sum()\n",
    "print(f\"Number of American Express cards expiring in 2025 are : {card_expiring_2025}\")"
   ]
  },
  {
   "cell_type": "markdown",
   "id": "e2a0d57f",
   "metadata": {},
   "source": [
    "# Top 5 Job titles who purchased in 2020"
   ]
  },
  {
   "cell_type": "code",
   "execution_count": 10,
   "id": "95b0d29e",
   "metadata": {},
   "outputs": [
    {
     "name": "stdout",
     "output_type": "stream",
     "text": [
      "Designer, fashion/clothing    6\n",
      "Therapist, art                6\n",
      "Aid worker                    6\n",
      "Risk analyst                  6\n",
      "Forest/woodland manager       6\n",
      "Name: Job, dtype: int64\n"
     ]
    }
   ],
   "source": [
    "print(df[df['CC_Exp_Date'].dt.year == 2020]['Job'].value_counts()[0:5])"
   ]
  },
  {
   "cell_type": "markdown",
   "id": "4610c662",
   "metadata": {},
   "source": [
    "# Split of Mozilla to Opera browser"
   ]
  },
  {
   "cell_type": "code",
   "execution_count": 11,
   "id": "705cbfd9",
   "metadata": {},
   "outputs": [
    {
     "data": {
      "text/plain": [
       "Mozilla    7924\n",
       "Opera      2076\n",
       "Name: Browser_Info, dtype: int64"
      ]
     },
     "execution_count": 11,
     "metadata": {},
     "output_type": "execute_result"
    }
   ],
   "source": [
    "df['Browser_Info'].str.split(\"/\").str[0].value_counts()"
   ]
  },
  {
   "cell_type": "markdown",
   "id": "94843809",
   "metadata": {},
   "source": [
    "# Top 10 first level IPv4 address ( IPv4: ABC.DEF.GHI.KLM, Top Level = ABC)"
   ]
  },
  {
   "cell_type": "code",
   "execution_count": 12,
   "id": "1b98945e",
   "metadata": {},
   "outputs": [
    {
     "data": {
      "text/plain": [
       "197    57\n",
       "25     56\n",
       "89     56\n",
       "148    55\n",
       "102    53\n",
       "56     53\n",
       "108    52\n",
       "98     52\n",
       "40     51\n",
       "156    51\n",
       "Name: IP_Address, dtype: int64"
      ]
     },
     "execution_count": 12,
     "metadata": {},
     "output_type": "execute_result"
    }
   ],
   "source": [
    "df['IP_Address'].str.split(\".\").str[0].value_counts()[0:10]"
   ]
  },
  {
   "cell_type": "markdown",
   "id": "0bbc308a",
   "metadata": {},
   "source": [
    "# The top 5 email providers of clients (e.g. gmail, yahoo etc.)"
   ]
  },
  {
   "cell_type": "code",
   "execution_count": 13,
   "id": "6fbf0337",
   "metadata": {},
   "outputs": [
    {
     "data": {
      "text/plain": [
       "hotmail.com     1638\n",
       "yahoo.com       1616\n",
       "gmail.com       1605\n",
       "smith.com         42\n",
       "williams.com      37\n",
       "Name: Email, dtype: int64"
      ]
     },
     "execution_count": 13,
     "metadata": {},
     "output_type": "execute_result"
    }
   ],
   "source": [
    "df['Email'].str.split(\"@\").str[1].value_counts()[0:5]"
   ]
  },
  {
   "cell_type": "code",
   "execution_count": 14,
   "id": "c11b17f2",
   "metadata": {},
   "outputs": [
    {
     "data": {
      "text/html": [
       "<div>\n",
       "<style scoped>\n",
       "    .dataframe tbody tr th:only-of-type {\n",
       "        vertical-align: middle;\n",
       "    }\n",
       "\n",
       "    .dataframe tbody tr th {\n",
       "        vertical-align: top;\n",
       "    }\n",
       "\n",
       "    .dataframe thead th {\n",
       "        text-align: right;\n",
       "    }\n",
       "</style>\n",
       "<table border=\"1\" class=\"dataframe\">\n",
       "  <thead>\n",
       "    <tr style=\"text-align: right;\">\n",
       "      <th></th>\n",
       "      <th>Credit_Card</th>\n",
       "      <th>CC_Security_Code</th>\n",
       "      <th>Purchase_Price</th>\n",
       "    </tr>\n",
       "  </thead>\n",
       "  <tbody>\n",
       "    <tr>\n",
       "      <th>count</th>\n",
       "      <td>1.000000e+04</td>\n",
       "      <td>10000.000000</td>\n",
       "      <td>10000.000000</td>\n",
       "    </tr>\n",
       "    <tr>\n",
       "      <th>mean</th>\n",
       "      <td>2.341374e+15</td>\n",
       "      <td>907.217800</td>\n",
       "      <td>50.347302</td>\n",
       "    </tr>\n",
       "    <tr>\n",
       "      <th>std</th>\n",
       "      <td>2.256103e+15</td>\n",
       "      <td>1589.693035</td>\n",
       "      <td>29.015836</td>\n",
       "    </tr>\n",
       "    <tr>\n",
       "      <th>min</th>\n",
       "      <td>6.040186e+10</td>\n",
       "      <td>0.000000</td>\n",
       "      <td>0.000000</td>\n",
       "    </tr>\n",
       "    <tr>\n",
       "      <th>25%</th>\n",
       "      <td>3.056322e+13</td>\n",
       "      <td>280.000000</td>\n",
       "      <td>25.150000</td>\n",
       "    </tr>\n",
       "    <tr>\n",
       "      <th>50%</th>\n",
       "      <td>8.699940e+14</td>\n",
       "      <td>548.000000</td>\n",
       "      <td>50.505000</td>\n",
       "    </tr>\n",
       "    <tr>\n",
       "      <th>75%</th>\n",
       "      <td>4.492295e+15</td>\n",
       "      <td>816.000000</td>\n",
       "      <td>75.770000</td>\n",
       "    </tr>\n",
       "    <tr>\n",
       "      <th>max</th>\n",
       "      <td>6.012000e+15</td>\n",
       "      <td>9993.000000</td>\n",
       "      <td>99.990000</td>\n",
       "    </tr>\n",
       "  </tbody>\n",
       "</table>\n",
       "</div>"
      ],
      "text/plain": [
       "        Credit_Card  CC_Security_Code  Purchase_Price\n",
       "count  1.000000e+04      10000.000000    10000.000000\n",
       "mean   2.341374e+15        907.217800       50.347302\n",
       "std    2.256103e+15       1589.693035       29.015836\n",
       "min    6.040186e+10          0.000000        0.000000\n",
       "25%    3.056322e+13        280.000000       25.150000\n",
       "50%    8.699940e+14        548.000000       50.505000\n",
       "75%    4.492295e+15        816.000000       75.770000\n",
       "max    6.012000e+15       9993.000000       99.990000"
      ]
     },
     "execution_count": 14,
     "metadata": {},
     "output_type": "execute_result"
    }
   ],
   "source": [
    "df.describe()"
   ]
  },
  {
   "cell_type": "code",
   "execution_count": null,
   "id": "a02e3432",
   "metadata": {},
   "outputs": [],
   "source": []
  }
 ],
 "metadata": {
  "kernelspec": {
   "display_name": "Python 3 (ipykernel)",
   "language": "python",
   "name": "python3"
  },
  "language_info": {
   "codemirror_mode": {
    "name": "ipython",
    "version": 3
   },
   "file_extension": ".py",
   "mimetype": "text/x-python",
   "name": "python",
   "nbconvert_exporter": "python",
   "pygments_lexer": "ipython3",
   "version": "3.8.10"
  }
 },
 "nbformat": 4,
 "nbformat_minor": 5
}
