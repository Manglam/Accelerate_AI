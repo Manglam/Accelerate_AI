{
 "cells": [
  {
   "cell_type": "code",
   "execution_count": 1,
   "metadata": {
    "id": "jxFNf7y0xMvN"
   },
   "outputs": [],
   "source": [
    "import numpy as np\n",
    "np.random.seed(123)\n",
    "random_int = np.random.randint(1, high=100, size=(20, 5))\n",
    "#random_int"
   ]
  },
  {
   "cell_type": "markdown",
   "metadata": {
    "id": "4xf7ZuWO5kkz"
   },
   "source": [
    "## Qn 1) What is the average value of the first 5 rows ( 2 decimal place) ?"
   ]
  },
  {
   "cell_type": "code",
   "execution_count": 2,
   "metadata": {
    "colab": {
     "base_uri": "https://localhost:8080/"
    },
    "id": "WmCy3tFVxY5o",
    "outputId": "3c3ee6e5-bb62-49e5-8bd4-b1a1ddfa2c68"
   },
   "outputs": [
    {
     "data": {
      "text/plain": [
       "array([72.2, 77.6, 55.4, 75.6, 49.2])"
      ]
     },
     "execution_count": 2,
     "metadata": {},
     "output_type": "execute_result"
    }
   ],
   "source": [
    "random_int.mean(axis=1).round(2)[:5]"
   ]
  },
  {
   "cell_type": "markdown",
   "metadata": {
    "id": "0FBLvfDu5rST"
   },
   "source": [
    "## Qn 2) What is the average value of the second element in each of the list (2 decimal places)? "
   ]
  },
  {
   "cell_type": "code",
   "execution_count": 3,
   "metadata": {
    "colab": {
     "base_uri": "https://localhost:8080/"
    },
    "id": "9bTTzddTxesF",
    "outputId": "724ef516-8fba-49e0-aec7-09972aee2c01"
   },
   "outputs": [
    {
     "data": {
      "text/plain": [
       "58.3"
      ]
     },
     "execution_count": 3,
     "metadata": {},
     "output_type": "execute_result"
    }
   ],
   "source": [
    "random_int.mean(axis=0).round(2)[1]"
   ]
  },
  {
   "cell_type": "code",
   "execution_count": 4,
   "metadata": {
    "id": "ZUjq5sA9zyEd"
   },
   "outputs": [],
   "source": [
    "import pandas as pd    \n",
    "data = pd.read_html(\"https://gist.githubusercontent.com/seankross/a412dfbd88b3db70b74b/\")\n",
    "mtcars_df = data[0]"
   ]
  },
  {
   "cell_type": "markdown",
   "metadata": {
    "id": "qBfs7VU152iI"
   },
   "source": [
    "## Qn 3) Get the name of the car(s) with highest power to displacement ratio"
   ]
  },
  {
   "cell_type": "code",
   "execution_count": 5,
   "metadata": {
    "colab": {
     "base_uri": "https://localhost:8080/"
    },
    "id": "VdY5QMp71qeN",
    "outputId": "ae0fd7a6-58a6-4e09-b559-9dc6fdbaebef"
   },
   "outputs": [
    {
     "data": {
      "text/plain": [
       "29           Ferrari Dino\n",
       "27           Lotus Europa\n",
       "30          Maserati Bora\n",
       "19         Toyota Corolla\n",
       "31             Volvo 142E\n",
       "2              Datsun 710\n",
       "17               Fiat 128\n",
       "25              Fiat X1-9\n",
       "20          Toyota Corona\n",
       "26          Porsche 914-2\n",
       "28         Ford Pantera L\n",
       "9                Merc 280\n",
       "10              Merc 280C\n",
       "23             Camaro Z28\n",
       "1           Mazda RX4 Wag\n",
       "0               Mazda RX4\n",
       "18            Honda Civic\n",
       "6              Duster 360\n",
       "8                Merc 230\n",
       "13            Merc 450SLC\n",
       "12             Merc 450SL\n",
       "11             Merc 450SE\n",
       "16      Chrysler Imperial\n",
       "22            AMC Javelin\n",
       "4       Hornet Sportabout\n",
       "21       Dodge Challenger\n",
       "15    Lincoln Continental\n",
       "5                 Valiant\n",
       "24       Pontiac Firebird\n",
       "14     Cadillac Fleetwood\n",
       "3          Hornet 4 Drive\n",
       "7               Merc 240D\n",
       "Name: model, dtype: object"
      ]
     },
     "execution_count": 5,
     "metadata": {},
     "output_type": "execute_result"
    }
   ],
   "source": [
    "mtcars_df['ratio_power_displacement'] = mtcars_df['hp'] / mtcars_df['disp']\n",
    "mtcars_df.sort_values('ratio_power_displacement', ascending=False)['model']"
   ]
  },
  {
   "cell_type": "markdown",
   "metadata": {
    "id": "5ww3jSKv6FAi"
   },
   "source": [
    "## Qn 4) How many cars have 4 cylinder and 4 gears?"
   ]
  },
  {
   "cell_type": "code",
   "execution_count": 6,
   "metadata": {
    "colab": {
     "base_uri": "https://localhost:8080/"
    },
    "id": "1m5l8JL_1ovx",
    "outputId": "f30697a7-9467-4f9c-e0e3-826c9ea97291"
   },
   "outputs": [
    {
     "data": {
      "text/plain": [
       "8"
      ]
     },
     "execution_count": 6,
     "metadata": {},
     "output_type": "execute_result"
    }
   ],
   "source": [
    "mtcars_df[(mtcars_df['cyl'] == 4) & (mtcars_df['gear'] == 4)].shape[0]\n"
   ]
  },
  {
   "cell_type": "markdown",
   "metadata": {
    "id": "hJtFRAcA6Nsa"
   },
   "source": [
    "## Q5) Write a python program to count the number occurrences of all vowels present in a string."
   ]
  },
  {
   "cell_type": "code",
   "execution_count": 7,
   "metadata": {
    "colab": {
     "base_uri": "https://localhost:8080/"
    },
    "id": "yybkz47m327B",
    "outputId": "f0f5bb55-ebc0-43cf-b455-dc2886e257aa"
   },
   "outputs": [
    {
     "data": {
      "text/plain": [
       "12"
      ]
     },
     "execution_count": 7,
     "metadata": {},
     "output_type": "execute_result"
    }
   ],
   "source": [
    "def count_vowels(string):\n",
    "  vowel_list = ['a', 'e', 'i', 'o', 'u']\n",
    "  return sum([1 if x in vowel_list else 0 for x in string.lower()])\n",
    "\n",
    "count_vowels(\"AccelerateAI - Learning Circle\")\n"
   ]
  },
  {
   "cell_type": "code",
   "execution_count": null,
   "metadata": {},
   "outputs": [],
   "source": []
  }
 ],
 "metadata": {
  "colab": {
   "name": "Programming Assignment 2.ipynb",
   "provenance": []
  },
  "kernelspec": {
   "display_name": "Python 3 (ipykernel)",
   "language": "python",
   "name": "python3"
  },
  "language_info": {
   "codemirror_mode": {
    "name": "ipython",
    "version": 3
   },
   "file_extension": ".py",
   "mimetype": "text/x-python",
   "name": "python",
   "nbconvert_exporter": "python",
   "pygments_lexer": "ipython3",
   "version": "3.8.10"
  }
 },
 "nbformat": 4,
 "nbformat_minor": 1
}
