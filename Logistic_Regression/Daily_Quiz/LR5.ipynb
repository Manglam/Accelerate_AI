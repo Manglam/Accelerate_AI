{
 "cells": [
  {
   "cell_type": "markdown",
   "id": "71293538",
   "metadata": {},
   "source": [
    "# Q05: 09/Jun/2022\n",
    "\n",
    "1) You are watching French Open at Roland Garros. There is a 85% chance that Rafael Nadal will win the tournament. Then what are his odds?\n",
    "\n",
    "2) Consider the data shared in earlier examples to predict leukemia remissions that patients may have(refer to dataset in GitHub - LR2.csv). The description of variables are as follows (again for your quick reference): \n",
    "* Outcome variable REMISS stands for remission: If lukemia remission occurred then 1. Else 0.\n",
    "* Other predictor variables are as follows:\n",
    "    * CELL: cellularity of the marrow clot section\n",
    "    * SMEAR: smear differential percentage of blasts\n",
    "    * INFIL: percentage of absolute marrow leukemia cell infiltrate\n",
    "    * LI: percentage labeling index of the bone marrow leukemia cells\n",
    "    * BLAST: absolute number of blasts in the peripheral blood\n",
    "    * TEMP: the highest temperature prior to start of treatment\n",
    "  \n",
    "  \n",
    "* What is the regression output while considering one variable \"LI\" (which you have all found as most significant variable in earlier question) between Logit and GLM models? Are they same?\n",
    "* What is the Log Likelihood Ratio test statistic? (Hint: this is -2 * (LL-null - LL-full))"
   ]
  },
  {
   "cell_type": "markdown",
   "id": "a0b49262",
   "metadata": {},
   "source": [
    "## 1"
   ]
  },
  {
   "cell_type": "code",
   "execution_count": 1,
   "id": "347e4aaf",
   "metadata": {},
   "outputs": [
    {
     "name": "stdout",
     "output_type": "stream",
     "text": [
      "Odds of winning for Rafael Nadal is 5.67\n"
     ]
    }
   ],
   "source": [
    "import numpy as np\n",
    "probability_winning = 0.85\n",
    "odd = probability_winning / (1- probability_winning)\n",
    "odd = np.round(odd, 2)\n",
    "print(f\"Odds of winning for Rafael Nadal is {odd}\")"
   ]
  },
  {
   "cell_type": "markdown",
   "id": "90ef4036",
   "metadata": {},
   "source": [
    "## 2"
   ]
  },
  {
   "cell_type": "code",
   "execution_count": 2,
   "id": "aff456d2",
   "metadata": {},
   "outputs": [],
   "source": [
    "import pandas as pd \n",
    "import numpy as np\n",
    "import statsmodels.api as sm\n",
    "from statsmodels.api import Logit, add_constant\n",
    "from statsmodels.stats.outliers_influence import variance_inflation_factor\n",
    "\n",
    "df = pd.read_csv('LR2.csv')\n",
    "# df.head(2)\n",
    "\n",
    "# check for multi-collinearity before considering variables for modelling\n",
    "def calculate_vif(df):\n",
    "    vif = pd.DataFrame()\n",
    "    vif[\"variables\"] = df.columns\n",
    "    vif[\"VIF\"] = [variance_inflation_factor(df.values, i) for i in range(df.shape[1])]\n",
    "    vif.sort_values('VIF', ascending=False, inplace=True)\n",
    "    return(vif)\n",
    "\n",
    "def fit_logistic_reg_with_intercept(X, Y):\n",
    "    X = sm.add_constant(X) # adding a constant\n",
    "    log_reg_model = sm.Logit(y, X).fit()\n",
    "    return log_reg_model"
   ]
  },
  {
   "cell_type": "markdown",
   "id": "127201d1",
   "metadata": {},
   "source": [
    "### Logit model"
   ]
  },
  {
   "cell_type": "code",
   "execution_count": 3,
   "id": "b69fecd7",
   "metadata": {},
   "outputs": [
    {
     "name": "stdout",
     "output_type": "stream",
     "text": [
      "Optimization terminated successfully.\n",
      "         Current function value: 0.482833\n",
      "         Iterations 6\n",
      "                           Logit Regression Results                           \n",
      "==============================================================================\n",
      "Dep. Variable:                 REMISS   No. Observations:                   27\n",
      "Model:                          Logit   Df Residuals:                       25\n",
      "Method:                           MLE   Df Model:                            1\n",
      "Date:                Thu, 09 Jun 2022   Pseudo R-squ.:                  0.2414\n",
      "Time:                        22:15:06   Log-Likelihood:                -13.036\n",
      "converged:                       True   LL-Null:                       -17.186\n",
      "Covariance Type:            nonrobust   LLR p-value:                  0.003967\n",
      "==============================================================================\n",
      "                 coef    std err          z      P>|z|      [0.025      0.975]\n",
      "------------------------------------------------------------------------------\n",
      "const         -3.7771      1.379     -2.740      0.006      -6.479      -1.075\n",
      "LI             2.8973      1.187      2.441      0.015       0.571       5.223\n",
      "==============================================================================\n"
     ]
    }
   ],
   "source": [
    "x_var = ['LI']\n",
    "y_var = ['REMISS']\n",
    "\n",
    "X = df[x_var]\n",
    "y = df[y_var]\n",
    "log_model = fit_logistic_reg_with_intercept(X, y)\n",
    "print(log_model.summary())"
   ]
  },
  {
   "cell_type": "markdown",
   "id": "7e651d5f",
   "metadata": {},
   "source": [
    "### GLM using Link"
   ]
  },
  {
   "cell_type": "code",
   "execution_count": 4,
   "id": "5d42ecfd",
   "metadata": {},
   "outputs": [
    {
     "name": "stdout",
     "output_type": "stream",
     "text": [
      "                 Generalized Linear Model Regression Results                  \n",
      "==============================================================================\n",
      "Dep. Variable:                 REMISS   No. Observations:                   27\n",
      "Model:                            GLM   Df Residuals:                       25\n",
      "Model Family:                Binomial   Df Model:                            1\n",
      "Link Function:                  Logit   Scale:                          1.0000\n",
      "Method:                          IRLS   Log-Likelihood:                -13.036\n",
      "Date:                Thu, 09 Jun 2022   Deviance:                       26.073\n",
      "Time:                        22:15:06   Pearson chi2:                     23.9\n",
      "No. Iterations:                     4   Pseudo R-squ. (CS):             0.2646\n",
      "Covariance Type:            nonrobust                                         \n",
      "==============================================================================\n",
      "                 coef    std err          z      P>|z|      [0.025      0.975]\n",
      "------------------------------------------------------------------------------\n",
      "Intercept     -3.7771      1.379     -2.740      0.006      -6.479      -1.075\n",
      "LI             2.8973      1.187      2.441      0.015       0.571       5.223\n",
      "==============================================================================\n"
     ]
    }
   ],
   "source": [
    "# Fit the model. Use GLM\n",
    "glm_model = sm.GLM.from_formula(\"REMISS ~ LI\", family=sm.families.Binomial(), data=df)\n",
    "glm_model = glm_model.fit()\n",
    "print(glm_model.summary())"
   ]
  },
  {
   "cell_type": "markdown",
   "id": "3830cfed",
   "metadata": {},
   "source": [
    "### 2a\n",
    "What is the regression output while considering one variable \"LI\" (which you have all found as most significant variable in earlier question) between Logit and GLM models? Are they same?\n",
    "\n",
    "Both models have similar coefficients estimates."
   ]
  },
  {
   "cell_type": "code",
   "execution_count": 5,
   "id": "5fc8eaa2",
   "metadata": {},
   "outputs": [
    {
     "data": {
      "text/plain": [
       "8.3"
      ]
     },
     "execution_count": 5,
     "metadata": {},
     "output_type": "execute_result"
    }
   ],
   "source": [
    "# Using model summry print output, we have LL_Null and LL_Full\n",
    "# Copy paste the values and calculate the test statistics\n",
    "\n",
    "LL_Null = -17.186\n",
    "LL_Full = -13.036\n",
    "\n",
    "-2 * (LL_Null - LL_Full)"
   ]
  },
  {
   "cell_type": "markdown",
   "id": "082f9b2f",
   "metadata": {},
   "source": [
    "### 2b\n",
    "What is the Log Likelihood Ratio test statistic? (Hint: this is -2 * (LL-null - LL-full))\n",
    "\n",
    "8.3"
   ]
  }
 ],
 "metadata": {
  "kernelspec": {
   "display_name": "Python 3 (ipykernel)",
   "language": "python",
   "name": "python3"
  },
  "language_info": {
   "codemirror_mode": {
    "name": "ipython",
    "version": 3
   },
   "file_extension": ".py",
   "mimetype": "text/x-python",
   "name": "python",
   "nbconvert_exporter": "python",
   "pygments_lexer": "ipython3",
   "version": "3.8.10"
  }
 },
 "nbformat": 4,
 "nbformat_minor": 5
}
