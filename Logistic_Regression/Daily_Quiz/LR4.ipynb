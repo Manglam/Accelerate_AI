{
 "cells": [
  {
   "cell_type": "code",
   "execution_count": 1,
   "id": "9e3ad2ce",
   "metadata": {},
   "outputs": [],
   "source": [
    "import pandas as pd \n",
    "import numpy as np\n",
    "import statsmodels.api as sm\n",
    "from matplotlib import pyplot as plt\n",
    "import seaborn as sns\n",
    "from statsmodels.api import Logit, add_constant\n",
    "from statsmodels.stats.outliers_influence import variance_inflation_factor"
   ]
  },
  {
   "cell_type": "code",
   "execution_count": 2,
   "id": "22c0cc23",
   "metadata": {},
   "outputs": [
    {
     "data": {
      "text/html": [
       "<div>\n",
       "<style scoped>\n",
       "    .dataframe tbody tr th:only-of-type {\n",
       "        vertical-align: middle;\n",
       "    }\n",
       "\n",
       "    .dataframe tbody tr th {\n",
       "        vertical-align: top;\n",
       "    }\n",
       "\n",
       "    .dataframe thead th {\n",
       "        text-align: right;\n",
       "    }\n",
       "</style>\n",
       "<table border=\"1\" class=\"dataframe\">\n",
       "  <thead>\n",
       "    <tr style=\"text-align: right;\">\n",
       "      <th></th>\n",
       "      <th>Survived</th>\n",
       "      <th>Name</th>\n",
       "      <th>Sex</th>\n",
       "      <th>Age</th>\n",
       "      <th>Marital Status</th>\n",
       "    </tr>\n",
       "  </thead>\n",
       "  <tbody>\n",
       "    <tr>\n",
       "      <th>0</th>\n",
       "      <td>1</td>\n",
       "      <td>Patrick Breen</td>\n",
       "      <td>M</td>\n",
       "      <td>51.0</td>\n",
       "      <td>M</td>\n",
       "    </tr>\n",
       "    <tr>\n",
       "      <th>1</th>\n",
       "      <td>1</td>\n",
       "      <td>Margaret Breen</td>\n",
       "      <td>F</td>\n",
       "      <td>40.0</td>\n",
       "      <td>M</td>\n",
       "    </tr>\n",
       "    <tr>\n",
       "      <th>2</th>\n",
       "      <td>1</td>\n",
       "      <td>John Breen</td>\n",
       "      <td>M</td>\n",
       "      <td>14.0</td>\n",
       "      <td>S</td>\n",
       "    </tr>\n",
       "    <tr>\n",
       "      <th>3</th>\n",
       "      <td>1</td>\n",
       "      <td>Patrick Breen Jr.</td>\n",
       "      <td>M</td>\n",
       "      <td>9.0</td>\n",
       "      <td>S</td>\n",
       "    </tr>\n",
       "    <tr>\n",
       "      <th>4</th>\n",
       "      <td>1</td>\n",
       "      <td>Simon Preston Breen</td>\n",
       "      <td>M</td>\n",
       "      <td>8.0</td>\n",
       "      <td>S</td>\n",
       "    </tr>\n",
       "  </tbody>\n",
       "</table>\n",
       "</div>"
      ],
      "text/plain": [
       "   Survived                 Name Sex   Age Marital Status\n",
       "0         1        Patrick Breen   M  51.0              M\n",
       "1         1       Margaret Breen   F  40.0              M\n",
       "2         1           John Breen   M  14.0              S\n",
       "3         1    Patrick Breen Jr.   M   9.0              S\n",
       "4         1  Simon Preston Breen   M   8.0              S"
      ]
     },
     "execution_count": 2,
     "metadata": {},
     "output_type": "execute_result"
    }
   ],
   "source": [
    "df = pd.read_csv('LR4.csv')\n",
    "\n",
    "df.head(5)"
   ]
  },
  {
   "cell_type": "code",
   "execution_count": 3,
   "id": "db8cfa17",
   "metadata": {},
   "outputs": [
    {
     "data": {
      "text/html": [
       "<div>\n",
       "<style scoped>\n",
       "    .dataframe tbody tr th:only-of-type {\n",
       "        vertical-align: middle;\n",
       "    }\n",
       "\n",
       "    .dataframe tbody tr th {\n",
       "        vertical-align: top;\n",
       "    }\n",
       "\n",
       "    .dataframe thead th {\n",
       "        text-align: right;\n",
       "    }\n",
       "</style>\n",
       "<table border=\"1\" class=\"dataframe\">\n",
       "  <thead>\n",
       "    <tr style=\"text-align: right;\">\n",
       "      <th></th>\n",
       "      <th>Survived</th>\n",
       "      <th>Age</th>\n",
       "    </tr>\n",
       "  </thead>\n",
       "  <tbody>\n",
       "    <tr>\n",
       "      <th>count</th>\n",
       "      <td>89.000000</td>\n",
       "      <td>86.000000</td>\n",
       "    </tr>\n",
       "    <tr>\n",
       "      <th>mean</th>\n",
       "      <td>0.539326</td>\n",
       "      <td>20.575581</td>\n",
       "    </tr>\n",
       "    <tr>\n",
       "      <th>std</th>\n",
       "      <td>0.501275</td>\n",
       "      <td>16.091561</td>\n",
       "    </tr>\n",
       "    <tr>\n",
       "      <th>min</th>\n",
       "      <td>0.000000</td>\n",
       "      <td>1.000000</td>\n",
       "    </tr>\n",
       "    <tr>\n",
       "      <th>25%</th>\n",
       "      <td>0.000000</td>\n",
       "      <td>7.000000</td>\n",
       "    </tr>\n",
       "    <tr>\n",
       "      <th>50%</th>\n",
       "      <td>1.000000</td>\n",
       "      <td>18.500000</td>\n",
       "    </tr>\n",
       "    <tr>\n",
       "      <th>75%</th>\n",
       "      <td>1.000000</td>\n",
       "      <td>30.000000</td>\n",
       "    </tr>\n",
       "    <tr>\n",
       "      <th>max</th>\n",
       "      <td>1.000000</td>\n",
       "      <td>70.000000</td>\n",
       "    </tr>\n",
       "  </tbody>\n",
       "</table>\n",
       "</div>"
      ],
      "text/plain": [
       "        Survived        Age\n",
       "count  89.000000  86.000000\n",
       "mean    0.539326  20.575581\n",
       "std     0.501275  16.091561\n",
       "min     0.000000   1.000000\n",
       "25%     0.000000   7.000000\n",
       "50%     1.000000  18.500000\n",
       "75%     1.000000  30.000000\n",
       "max     1.000000  70.000000"
      ]
     },
     "execution_count": 3,
     "metadata": {},
     "output_type": "execute_result"
    }
   ],
   "source": [
    "df.describe()"
   ]
  },
  {
   "cell_type": "code",
   "execution_count": 4,
   "id": "61f936fa",
   "metadata": {},
   "outputs": [],
   "source": [
    "# remove data points where Age is missing\n",
    "df.dropna(subset=['Age'], inplace=True)\n",
    "#?df.dropna"
   ]
  },
  {
   "cell_type": "code",
   "execution_count": 5,
   "id": "5ac0c524",
   "metadata": {},
   "outputs": [
    {
     "data": {
      "image/png": "[encoded data removed]",
      "text/plain": [
       "<Figure size 432x288 with 1 Axes>"
      ]
     },
     "metadata": {},
     "output_type": "display_data"
    }
   ],
   "source": [
    "sns.set_style(\"whitegrid\")\n",
    "#sns.violinplot(x = 'Survived', y = 'Age', data = df)\n",
    "ax = sns.boxplot(x = 'Survived', y = 'Age', data = df)\n",
    "ax = sns.swarmplot(x = 'Survived', y = 'Age', data = df, hue=\"Sex\")\n",
    "plt.show()"
   ]
  },
  {
   "cell_type": "code",
   "execution_count": 7,
   "id": "9cf579ca",
   "metadata": {},
   "outputs": [],
   "source": [
    "def fit_logistic_reg_with_intercept(X, Y):\n",
    "    X = sm.add_constant(X) # adding a constant\n",
    "    log_reg_model = sm.Logit(y, X).fit()\n",
    "    return log_reg_model"
   ]
  },
  {
   "cell_type": "code",
   "execution_count": 8,
   "id": "de86fb97",
   "metadata": {},
   "outputs": [
    {
     "name": "stdout",
     "output_type": "stream",
     "text": [
      "Optimization terminated successfully.\n",
      "         Current function value: 0.650221\n",
      "         Iterations 5\n",
      "                           Logit Regression Results                           \n",
      "==============================================================================\n",
      "Dep. Variable:               Survived   No. Observations:                   86\n",
      "Model:                          Logit   Df Residuals:                       84\n",
      "Method:                           MLE   Df Model:                            1\n",
      "Date:                Wed, 08 Jun 2022   Pseudo R-squ.:                 0.05267\n",
      "Time:                        21:37:52   Log-Likelihood:                -55.919\n",
      "converged:                       True   LL-Null:                       -59.028\n",
      "Covariance Type:            nonrobust   LLR p-value:                   0.01265\n",
      "==============================================================================\n",
      "                 coef    std err          z      P>|z|      [0.025      0.975]\n",
      "------------------------------------------------------------------------------\n",
      "const          0.9674      0.381      2.536      0.011       0.220       1.715\n",
      "Age           -0.0354      0.015     -2.367      0.018      -0.065      -0.006\n",
      "==============================================================================\n"
     ]
    }
   ],
   "source": [
    "x_var = ['Age']\n",
    "y_var = ['Survived']\n",
    "\n",
    "X = df[x_var]\n",
    "y = df[y_var]\n",
    "logistic_model = fit_logistic_reg_with_intercept(X, y)\n",
    "print(logistic_model.summary())"
   ]
  },
  {
   "cell_type": "code",
   "execution_count": 9,
   "id": "58855ac4",
   "metadata": {},
   "outputs": [
    {
     "data": {
      "text/plain": [
       "0    0.7246\n",
       "dtype: float64"
      ]
     },
     "execution_count": 9,
     "metadata": {},
     "output_type": "execute_result"
    }
   ],
   "source": [
    "df_pred = pd.DataFrame({'const': [1], 'Age':[0]})\n",
    "logistic_model.predict(df_pred)"
   ]
  },
  {
   "cell_type": "markdown",
   "id": "1d69a49f",
   "metadata": {},
   "source": [
    "# Answers\n",
    "\n",
    "  - Final model is \n",
    "      - 0.9674 - 0.0354 * Age\n",
    "  - Probability for Survival for Age = 0: 0.7246"
   ]
  },
  {
   "cell_type": "code",
   "execution_count": null,
   "id": "710afa2c",
   "metadata": {},
   "outputs": [],
   "source": []
  }
 ],
 "metadata": {
  "kernelspec": {
   "display_name": "Python 3 (ipykernel)",
   "language": "python",
   "name": "python3"
  },
  "language_info": {
   "codemirror_mode": {
    "name": "ipython",
    "version": 3
   },
   "file_extension": ".py",
   "mimetype": "text/x-python",
   "name": "python",
   "nbconvert_exporter": "python",
   "pygments_lexer": "ipython3",
   "version": "3.8.10"
  }
 },
 "nbformat": 4,
 "nbformat_minor": 5
}
