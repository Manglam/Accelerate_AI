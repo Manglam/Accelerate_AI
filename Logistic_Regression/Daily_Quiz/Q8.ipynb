{
 "cells": [
  {
   "cell_type": "markdown",
   "id": "0ce1f233",
   "metadata": {},
   "source": [
    "# Q08\n",
    "14/Jun/2022\n",
    "\n",
    "We have collected data from Stancord University students who are studying Machine Learning, where X1=hours of study, X2=the undergrad GPA score, and Y=receive the certification for successfully passing the eligibility criteria in the test. We fit a logistic regression and estimated coefficients are as follows:\n",
    "β0_hat = -6 , β1_hat = 0.05 and β2_hat = 0.95\n",
    "\n",
    "    \n",
    "    a) Estimate the probability that a student who studies for 40 hours and has a GPA score of 3.7 receives the certificate of completion.\n",
    "\n",
    "    b) Secondly, how many hours a student will have to put effort in studying in above case to ensure having a 60% chance of receiving the certificate of completion?"
   ]
  },
  {
   "cell_type": "markdown",
   "id": "da96bd21",
   "metadata": {},
   "source": [
    "## a."
   ]
  },
  {
   "cell_type": "code",
   "execution_count": 1,
   "id": "b21869ae",
   "metadata": {},
   "outputs": [],
   "source": [
    "import numpy as np"
   ]
  },
  {
   "cell_type": "code",
   "execution_count": 2,
   "id": "02d14deb",
   "metadata": {},
   "outputs": [
    {
     "name": "stdout",
     "output_type": "stream",
     "text": [
      "0.38\n"
     ]
    }
   ],
   "source": [
    "β0_hat = -6 \n",
    "β1_hat = 0.05\n",
    "β2_hat = 0.95\n",
    "\n",
    "coef_matrix = np.array((β0_hat, β1_hat, β2_hat))\n",
    "x= np.array((1, 40, 3.7))\n",
    "log_odds = np.sum(coef_matrix * x)\n",
    "odds = np.exp(log_odds)\n",
    "prob = odds / (1 + odds)\n",
    "#print(odds)\n",
    "print(round(prob, 2))"
   ]
  },
  {
   "cell_type": "markdown",
   "id": "f3cddd8b",
   "metadata": {},
   "source": [
    "## b"
   ]
  },
  {
   "cell_type": "code",
   "execution_count": 3,
   "id": "ac17972d",
   "metadata": {},
   "outputs": [
    {
     "name": "stdout",
     "output_type": "stream",
     "text": [
      "57.81\n"
     ]
    }
   ],
   "source": [
    "prob = 0.6\n",
    "odds = prob / (1 - prob)\n",
    "#print(odds)\n",
    "log_odds = np.log(odds)\n",
    "#print(log_odds)\n",
    "\n",
    "# solve the equation log_odds = B0 + B1 * X1 + B2 * 3.7\n",
    "# we get X1 = (log_odd - Bo - B2*3.7) / (B1) \n",
    "X1 = (log_odds - β0_hat - β2_hat * 3.7) / β1_hat\n",
    "print(round(X1, 2))"
   ]
  },
  {
   "cell_type": "code",
   "execution_count": null,
   "id": "0067c385",
   "metadata": {},
   "outputs": [],
   "source": []
  }
 ],
 "metadata": {
  "kernelspec": {
   "display_name": "Python 3 (ipykernel)",
   "language": "python",
   "name": "python3"
  },
  "language_info": {
   "codemirror_mode": {
    "name": "ipython",
    "version": 3
   },
   "file_extension": ".py",
   "mimetype": "text/x-python",
   "name": "python",
   "nbconvert_exporter": "python",
   "pygments_lexer": "ipython3",
   "version": "3.8.10"
  }
 },
 "nbformat": 4,
 "nbformat_minor": 5
}
