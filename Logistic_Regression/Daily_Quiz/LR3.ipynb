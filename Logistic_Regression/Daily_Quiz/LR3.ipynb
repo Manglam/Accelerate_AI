{
 "cells": [
  {
   "cell_type": "code",
   "execution_count": 1,
   "id": "4bb852bf",
   "metadata": {},
   "outputs": [],
   "source": [
    "import pandas as pd \n",
    "import numpy as np\n",
    "import statsmodels.api as sm\n",
    "from statsmodels.api import Logit, add_constant\n",
    "from statsmodels.stats.outliers_influence import variance_inflation_factor"
   ]
  },
  {
   "cell_type": "code",
   "execution_count": 2,
   "id": "00f8f85a",
   "metadata": {},
   "outputs": [
    {
     "data": {
      "text/html": [
       "<div>\n",
       "<style scoped>\n",
       "    .dataframe tbody tr th:only-of-type {\n",
       "        vertical-align: middle;\n",
       "    }\n",
       "\n",
       "    .dataframe tbody tr th {\n",
       "        vertical-align: top;\n",
       "    }\n",
       "\n",
       "    .dataframe thead th {\n",
       "        text-align: right;\n",
       "    }\n",
       "</style>\n",
       "<table border=\"1\" class=\"dataframe\">\n",
       "  <thead>\n",
       "    <tr style=\"text-align: right;\">\n",
       "      <th></th>\n",
       "      <th>UserID</th>\n",
       "      <th>Gender</th>\n",
       "      <th>Age</th>\n",
       "      <th>EstimatedSalary</th>\n",
       "      <th>Purchased</th>\n",
       "    </tr>\n",
       "  </thead>\n",
       "  <tbody>\n",
       "    <tr>\n",
       "      <th>0</th>\n",
       "      <td>15624510</td>\n",
       "      <td>Male</td>\n",
       "      <td>19</td>\n",
       "      <td>19000</td>\n",
       "      <td>0</td>\n",
       "    </tr>\n",
       "    <tr>\n",
       "      <th>1</th>\n",
       "      <td>15810944</td>\n",
       "      <td>Male</td>\n",
       "      <td>35</td>\n",
       "      <td>20000</td>\n",
       "      <td>0</td>\n",
       "    </tr>\n",
       "    <tr>\n",
       "      <th>2</th>\n",
       "      <td>15668575</td>\n",
       "      <td>Female</td>\n",
       "      <td>26</td>\n",
       "      <td>43000</td>\n",
       "      <td>0</td>\n",
       "    </tr>\n",
       "    <tr>\n",
       "      <th>3</th>\n",
       "      <td>15603246</td>\n",
       "      <td>Female</td>\n",
       "      <td>27</td>\n",
       "      <td>57000</td>\n",
       "      <td>0</td>\n",
       "    </tr>\n",
       "    <tr>\n",
       "      <th>4</th>\n",
       "      <td>15804002</td>\n",
       "      <td>Male</td>\n",
       "      <td>19</td>\n",
       "      <td>76000</td>\n",
       "      <td>0</td>\n",
       "    </tr>\n",
       "  </tbody>\n",
       "</table>\n",
       "</div>"
      ],
      "text/plain": [
       "     UserID  Gender  Age  EstimatedSalary  Purchased\n",
       "0  15624510    Male   19            19000          0\n",
       "1  15810944    Male   35            20000          0\n",
       "2  15668575  Female   26            43000          0\n",
       "3  15603246  Female   27            57000          0\n",
       "4  15804002    Male   19            76000          0"
      ]
     },
     "execution_count": 2,
     "metadata": {},
     "output_type": "execute_result"
    }
   ],
   "source": [
    "df = pd.read_csv('LR3.csv')\n",
    "\n",
    "df.head(5)"
   ]
  },
  {
   "cell_type": "code",
   "execution_count": 3,
   "id": "dbbe50f3",
   "metadata": {},
   "outputs": [],
   "source": [
    "# check for multi-collinearity before considering variables for modelling\n",
    "def calculate_vif(df):\n",
    "    vif = pd.DataFrame()\n",
    "    vif[\"variables\"] = df.columns\n",
    "    vif[\"VIF\"] = [variance_inflation_factor(df.values, i) for i in range(df.shape[1])]\n",
    "    vif.sort_values('VIF', ascending=False, inplace=True)\n",
    "    return(vif)"
   ]
  },
  {
   "cell_type": "code",
   "execution_count": 4,
   "id": "7df5c88e",
   "metadata": {},
   "outputs": [],
   "source": [
    "def fit_logistic_reg_with_intercept(X, Y):\n",
    "    X = sm.add_constant(X) # adding a constant\n",
    "    log_reg_model = sm.Logit(y, X).fit()\n",
    "    return log_reg_model"
   ]
  },
  {
   "cell_type": "code",
   "execution_count": 5,
   "id": "09c85080",
   "metadata": {},
   "outputs": [
    {
     "data": {
      "text/html": [
       "<div>\n",
       "<style scoped>\n",
       "    .dataframe tbody tr th:only-of-type {\n",
       "        vertical-align: middle;\n",
       "    }\n",
       "\n",
       "    .dataframe tbody tr th {\n",
       "        vertical-align: top;\n",
       "    }\n",
       "\n",
       "    .dataframe thead th {\n",
       "        text-align: right;\n",
       "    }\n",
       "</style>\n",
       "<table border=\"1\" class=\"dataframe\">\n",
       "  <thead>\n",
       "    <tr style=\"text-align: right;\">\n",
       "      <th></th>\n",
       "      <th>variables</th>\n",
       "      <th>VIF</th>\n",
       "    </tr>\n",
       "  </thead>\n",
       "  <tbody>\n",
       "    <tr>\n",
       "      <th>0</th>\n",
       "      <td>Age</td>\n",
       "      <td>4.575819</td>\n",
       "    </tr>\n",
       "    <tr>\n",
       "      <th>1</th>\n",
       "      <td>EstimatedSalary</td>\n",
       "      <td>4.575819</td>\n",
       "    </tr>\n",
       "  </tbody>\n",
       "</table>\n",
       "</div>"
      ],
      "text/plain": [
       "         variables       VIF\n",
       "0              Age  4.575819\n",
       "1  EstimatedSalary  4.575819"
      ]
     },
     "execution_count": 5,
     "metadata": {},
     "output_type": "execute_result"
    }
   ],
   "source": [
    "# Check for VIF between numerical variables\n",
    "x_var = ['Age', 'EstimatedSalary']\n",
    "X = df[x_var]\n",
    "calculate_vif(X)"
   ]
  },
  {
   "cell_type": "code",
   "execution_count": 6,
   "id": "7796d9d6",
   "metadata": {},
   "outputs": [],
   "source": [
    "# Add dummy variables\n",
    "cat_vars = [\"Gender\"]\n",
    "df_dummy = pd.get_dummies(df.drop(['UserID'], axis=1),\n",
    "                           columns=cat_vars, \n",
    "                           drop_first=True)"
   ]
  },
  {
   "cell_type": "code",
   "execution_count": 7,
   "id": "c520b18b",
   "metadata": {},
   "outputs": [
    {
     "name": "stdout",
     "output_type": "stream",
     "text": [
      "Optimization terminated successfully.\n",
      "         Current function value: 0.346314\n",
      "         Iterations 8\n",
      "                           Logit Regression Results                           \n",
      "==============================================================================\n",
      "Dep. Variable:              Purchased   No. Observations:                  400\n",
      "Model:                          Logit   Df Residuals:                      397\n",
      "Method:                           MLE   Df Model:                            2\n",
      "Date:                Tue, 07 Jun 2022   Pseudo R-squ.:                  0.4688\n",
      "Time:                        20:52:54   Log-Likelihood:                -138.53\n",
      "converged:                       True   LL-Null:                       -260.79\n",
      "Covariance Type:            nonrobust   LLR p-value:                 7.995e-54\n",
      "===================================================================================\n",
      "                      coef    std err          z      P>|z|      [0.025      0.975]\n",
      "-----------------------------------------------------------------------------------\n",
      "const             -12.4340      1.300     -9.566      0.000     -14.982      -9.886\n",
      "Age                 0.2335      0.026      9.013      0.000       0.183       0.284\n",
      "EstimatedSalary   3.59e-05   5.43e-06      6.613      0.000    2.53e-05    4.65e-05\n",
      "===================================================================================\n"
     ]
    }
   ],
   "source": [
    "# Remove Gender_Male, since its not significant based on p-value(0.274)\n",
    "x_vars = ['Age', 'EstimatedSalary']\n",
    "y_var = ['Purchased']\n",
    "X = df_dummy[x_vars]\n",
    "y = df_dummy[y_var]\n",
    "logistic_model = fit_logistic_reg_with_intercept(X, y)\n",
    "print(logistic_model.summary())"
   ]
  },
  {
   "cell_type": "markdown",
   "id": "2f99ebfa",
   "metadata": {},
   "source": [
    "# Wald's Test for Age"
   ]
  },
  {
   "cell_type": "code",
   "execution_count": 8,
   "id": "a7aec2b7",
   "metadata": {},
   "outputs": [
    {
     "name": "stdout",
     "output_type": "stream",
     "text": [
      "statistic         [[81.23137211446682]]\n",
      "pvalue           2.0077923075850262e-19\n",
      "df_constraint                         1\n",
      "Name: Age, dtype: object\n"
     ]
    }
   ],
   "source": [
    "wald_test = logistic_model.wald_test_terms(scalar = False)\n",
    "print(wald_test.table.loc['Age'])#['statistic'])"
   ]
  },
  {
   "cell_type": "markdown",
   "id": "dcf8313e",
   "metadata": {},
   "source": [
    "# Answers\n",
    "\n",
    "  - The logistic regression equation is\n",
    "       - prob(Purchased) = -12.4340 + 0.2335 * Age + 3.59e-05 * EstimatedSalary\n",
    "       - With increase in age and Salary, we should expect that probability of purchase will increase\n",
    "  - Wald's Test for Age : statistic 81.23, with p-value of 2.00e-19"
   ]
  }
 ],
 "metadata": {
  "kernelspec": {
   "display_name": "Python 3 (ipykernel)",
   "language": "python",
   "name": "python3"
  },
  "language_info": {
   "codemirror_mode": {
    "name": "ipython",
    "version": 3
   },
   "file_extension": ".py",
   "mimetype": "text/x-python",
   "name": "python",
   "nbconvert_exporter": "python",
   "pygments_lexer": "ipython3",
   "version": "3.8.10"
  }
 },
 "nbformat": 4,
 "nbformat_minor": 5
}
