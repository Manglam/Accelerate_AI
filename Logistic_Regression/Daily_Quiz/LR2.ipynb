{
 "cells": [
  {
   "cell_type": "code",
   "execution_count": 1,
   "id": "ca98c85b",
   "metadata": {},
   "outputs": [],
   "source": [
    "import pandas as pd \n",
    "import numpy as np\n",
    "import statsmodels.api as sm\n",
    "from statsmodels.api import Logit, add_constant\n",
    "from statsmodels.stats.outliers_influence import variance_inflation_factor"
   ]
  },
  {
   "cell_type": "code",
   "execution_count": 2,
   "id": "a7762ebe",
   "metadata": {},
   "outputs": [
    {
     "data": {
      "text/html": [
       "<div>\n",
       "<style scoped>\n",
       "    .dataframe tbody tr th:only-of-type {\n",
       "        vertical-align: middle;\n",
       "    }\n",
       "\n",
       "    .dataframe tbody tr th {\n",
       "        vertical-align: top;\n",
       "    }\n",
       "\n",
       "    .dataframe thead th {\n",
       "        text-align: right;\n",
       "    }\n",
       "</style>\n",
       "<table border=\"1\" class=\"dataframe\">\n",
       "  <thead>\n",
       "    <tr style=\"text-align: right;\">\n",
       "      <th></th>\n",
       "      <th>REMISS</th>\n",
       "      <th>CELL</th>\n",
       "      <th>SMEAR</th>\n",
       "      <th>INFIL</th>\n",
       "      <th>LI</th>\n",
       "      <th>BLAST</th>\n",
       "      <th>TEMP</th>\n",
       "    </tr>\n",
       "  </thead>\n",
       "  <tbody>\n",
       "    <tr>\n",
       "      <th>0</th>\n",
       "      <td>1</td>\n",
       "      <td>0.8</td>\n",
       "      <td>0.83</td>\n",
       "      <td>0.66</td>\n",
       "      <td>1.9</td>\n",
       "      <td>1.10</td>\n",
       "      <td>1.00</td>\n",
       "    </tr>\n",
       "    <tr>\n",
       "      <th>1</th>\n",
       "      <td>1</td>\n",
       "      <td>0.9</td>\n",
       "      <td>0.36</td>\n",
       "      <td>0.32</td>\n",
       "      <td>1.4</td>\n",
       "      <td>0.74</td>\n",
       "      <td>0.99</td>\n",
       "    </tr>\n",
       "    <tr>\n",
       "      <th>2</th>\n",
       "      <td>0</td>\n",
       "      <td>0.8</td>\n",
       "      <td>0.88</td>\n",
       "      <td>0.70</td>\n",
       "      <td>0.8</td>\n",
       "      <td>0.18</td>\n",
       "      <td>0.98</td>\n",
       "    </tr>\n",
       "    <tr>\n",
       "      <th>3</th>\n",
       "      <td>0</td>\n",
       "      <td>1.0</td>\n",
       "      <td>0.87</td>\n",
       "      <td>0.87</td>\n",
       "      <td>0.7</td>\n",
       "      <td>1.05</td>\n",
       "      <td>0.99</td>\n",
       "    </tr>\n",
       "    <tr>\n",
       "      <th>4</th>\n",
       "      <td>1</td>\n",
       "      <td>0.9</td>\n",
       "      <td>0.75</td>\n",
       "      <td>0.68</td>\n",
       "      <td>1.3</td>\n",
       "      <td>0.52</td>\n",
       "      <td>0.98</td>\n",
       "    </tr>\n",
       "  </tbody>\n",
       "</table>\n",
       "</div>"
      ],
      "text/plain": [
       "   REMISS  CELL  SMEAR  INFIL   LI  BLAST  TEMP\n",
       "0       1   0.8   0.83   0.66  1.9   1.10  1.00\n",
       "1       1   0.9   0.36   0.32  1.4   0.74  0.99\n",
       "2       0   0.8   0.88   0.70  0.8   0.18  0.98\n",
       "3       0   1.0   0.87   0.87  0.7   1.05  0.99\n",
       "4       1   0.9   0.75   0.68  1.3   0.52  0.98"
      ]
     },
     "execution_count": 2,
     "metadata": {},
     "output_type": "execute_result"
    }
   ],
   "source": [
    "df = pd.read_csv('LR2.csv')\n",
    "\n",
    "df.head(5)"
   ]
  },
  {
   "cell_type": "code",
   "execution_count": 3,
   "id": "ba45b574",
   "metadata": {},
   "outputs": [],
   "source": [
    "# check for multi-collinearity before considering variables for modelling\n",
    "def calculate_vif(df):\n",
    "    vif = pd.DataFrame()\n",
    "    vif[\"variables\"] = df.columns\n",
    "    vif[\"VIF\"] = [variance_inflation_factor(df.values, i) for i in range(df.shape[1])]\n",
    "    vif.sort_values('VIF', ascending=False, inplace=True)\n",
    "    return(vif)"
   ]
  },
  {
   "cell_type": "code",
   "execution_count": 4,
   "id": "6f87e478",
   "metadata": {},
   "outputs": [
    {
     "data": {
      "text/html": [
       "<div>\n",
       "<style scoped>\n",
       "    .dataframe tbody tr th:only-of-type {\n",
       "        vertical-align: middle;\n",
       "    }\n",
       "\n",
       "    .dataframe tbody tr th {\n",
       "        vertical-align: top;\n",
       "    }\n",
       "\n",
       "    .dataframe thead th {\n",
       "        text-align: right;\n",
       "    }\n",
       "</style>\n",
       "<table border=\"1\" class=\"dataframe\">\n",
       "  <thead>\n",
       "    <tr style=\"text-align: right;\">\n",
       "      <th></th>\n",
       "      <th>variables</th>\n",
       "      <th>VIF</th>\n",
       "    </tr>\n",
       "  </thead>\n",
       "  <tbody>\n",
       "    <tr>\n",
       "      <th>1</th>\n",
       "      <td>LI</td>\n",
       "      <td>7.636598</td>\n",
       "    </tr>\n",
       "    <tr>\n",
       "      <th>0</th>\n",
       "      <td>CELL</td>\n",
       "      <td>5.825588</td>\n",
       "    </tr>\n",
       "    <tr>\n",
       "      <th>2</th>\n",
       "      <td>BLAST</td>\n",
       "      <td>4.446984</td>\n",
       "    </tr>\n",
       "  </tbody>\n",
       "</table>\n",
       "</div>"
      ],
      "text/plain": [
       "  variables       VIF\n",
       "1        LI  7.636598\n",
       "0      CELL  5.825588\n",
       "2     BLAST  4.446984"
      ]
     },
     "execution_count": 4,
     "metadata": {},
     "output_type": "execute_result"
    }
   ],
   "source": [
    "# 1. Remove INFIL, since it has highest vif value\n",
    "# 2. Remove TEMP, since it has highest vif value of 36.9\n",
    "# 3. Remove SMEAR, since it has highest vif value of 12.86\n",
    "x_var = ['CELL', 'LI', 'BLAST']\n",
    "y_var = ['REMISS']\n",
    "\n",
    "X = df[x_var]\n",
    "y = df[y_var]\n",
    "\n",
    "calculate_vif(X)"
   ]
  },
  {
   "cell_type": "code",
   "execution_count": 5,
   "id": "10b20b41",
   "metadata": {},
   "outputs": [],
   "source": [
    "def fit_logistic_reg_with_intercept(X, Y):\n",
    "    X = sm.add_constant(X) # adding a constant\n",
    "    log_reg_model = sm.Logit(y, X).fit()\n",
    "    return log_reg_model"
   ]
  },
  {
   "cell_type": "code",
   "execution_count": 6,
   "id": "bd3996f2",
   "metadata": {},
   "outputs": [
    {
     "name": "stdout",
     "output_type": "stream",
     "text": [
      "Optimization terminated successfully.\n",
      "         Current function value: 0.482833\n",
      "         Iterations 6\n",
      "                           Logit Regression Results                           \n",
      "==============================================================================\n",
      "Dep. Variable:                 REMISS   No. Observations:                   27\n",
      "Model:                          Logit   Df Residuals:                       25\n",
      "Method:                           MLE   Df Model:                            1\n",
      "Date:                Mon, 06 Jun 2022   Pseudo R-squ.:                  0.2414\n",
      "Time:                        19:22:55   Log-Likelihood:                -13.036\n",
      "converged:                       True   LL-Null:                       -17.186\n",
      "Covariance Type:            nonrobust   LLR p-value:                  0.003967\n",
      "==============================================================================\n",
      "                 coef    std err          z      P>|z|      [0.025      0.975]\n",
      "------------------------------------------------------------------------------\n",
      "const         -3.7771      1.379     -2.740      0.006      -6.479      -1.075\n",
      "LI             2.8973      1.187      2.441      0.015       0.571       5.223\n",
      "==============================================================================\n"
     ]
    }
   ],
   "source": [
    "# 1. Remove BLAST, since its coefficient is not significant\n",
    "# 2. Remove CELL, since its coefficient is not significant\n",
    "x_var = ['LI']\n",
    "y_var = ['REMISS']\n",
    "\n",
    "X = df[x_var]\n",
    "y = df[y_var]\n",
    "log_model = fit_logistic_reg_with_intercept(X, y)\n",
    "print(log_model.summary())"
   ]
  },
  {
   "cell_type": "code",
   "execution_count": 7,
   "id": "7bfbacab",
   "metadata": {},
   "outputs": [
    {
     "data": {
      "text/plain": [
       "0.3105128480132796"
      ]
     },
     "execution_count": 7,
     "metadata": {},
     "output_type": "execute_result"
    }
   ],
   "source": [
    "# calculating odds for LI = 0.9\n",
    "-3.7771 + 2.8973 * 0.9\n",
    "np.exp(-3.7771 + 2.8973 * 0.9)"
   ]
  },
  {
   "cell_type": "markdown",
   "id": "b34e71f8",
   "metadata": {},
   "source": [
    "# Answers\n",
    "\n",
    "Below are the ansers:\n",
    "  - The final regression equation is:\n",
    "   **prob = -3.7771 + 2.8973 * LI**\n",
    "      - Below variables are removed after VIF check\n",
    "          - **INFIL, TEMP** and **SMEAR**\n",
    "      - Below variables are removed after checking for significance beased on p-value\n",
    "          -  **BLAST** and **CELL**\n",
    "      - Finally only **LI** variable came as significant\n",
    "  - For **LI=0.9, Odds Ratio = exp(-3.7771 + 2.8973 * 0.9) = exp(-1.16953) = 0.31**"
   ]
  },
  {
   "cell_type": "code",
   "execution_count": null,
   "id": "437bbb79",
   "metadata": {},
   "outputs": [],
   "source": []
  }
 ],
 "metadata": {
  "kernelspec": {
   "display_name": "Python 3 (ipykernel)",
   "language": "python",
   "name": "python3"
  },
  "language_info": {
   "codemirror_mode": {
    "name": "ipython",
    "version": 3
   },
   "file_extension": ".py",
   "mimetype": "text/x-python",
   "name": "python",
   "nbconvert_exporter": "python",
   "pygments_lexer": "ipython3",
   "version": "3.8.10"
  }
 },
 "nbformat": 4,
 "nbformat_minor": 5
}
