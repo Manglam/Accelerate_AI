{
 "cells": [
  {
   "cell_type": "code",
   "execution_count": null,
   "id": "306de677",
   "metadata": {},
   "outputs": [],
   "source": [
    "import pandas as pd \n",
    "import numpy as np\n",
    "import statsmodels.api as sm\n",
    "from statsmodels.api import Logit, add_constant\n",
    "from statsmodels.stats.outliers_influence import variance_inflation_factor"
   ]
  },
  {
   "cell_type": "code",
   "execution_count": null,
   "id": "320908fd",
   "metadata": {},
   "outputs": [],
   "source": [
    "df = pd.read_csv('LR2.csv')\n",
    "\n",
    "df.head(5)"
   ]
  },
  {
   "cell_type": "code",
   "execution_count": null,
   "id": "89227469",
   "metadata": {},
   "outputs": [],
   "source": [
    "# check for multi-collinearity before considering variables for modelling\n",
    "def calculate_vif(df):\n",
    "    vif = pd.DataFrame()\n",
    "    vif[\"variables\"] = df.columns\n",
    "    vif[\"VIF\"] = [variance_inflation_factor(df.values, i) for i in range(df.shape[1])]\n",
    "    vif.sort_values('VIF', ascending=False, inplace=True)\n",
    "    return(vif)"
   ]
  },
  {
   "cell_type": "code",
   "execution_count": null,
   "id": "b7409401",
   "metadata": {},
   "outputs": [],
   "source": [
    "# 1. Remove INFIL, since it has highest vif value\n",
    "# 2. Remove TEMP, since it has highest vif value of 36.9\n",
    "# 3. Remove SMEAR, since it has highest vif value of 12.86\n",
    "x_var = ['CELL', 'LI', 'BLAST']\n",
    "y_var = ['REMISS']\n",
    "\n",
    "X = df[x_var]\n",
    "y = df[y_var]\n",
    "\n",
    "calculate_vif(X)"
   ]
  },
  {
   "cell_type": "code",
   "execution_count": null,
   "id": "7729c325",
   "metadata": {},
   "outputs": [],
   "source": [
    "def fit_logistic_reg_with_intercept(X, Y):\n",
    "    X = sm.add_constant(X) # adding a constant\n",
    "    log_reg_model = sm.Logit(y, X).fit()\n",
    "    return log_reg_model"
   ]
  },
  {
   "cell_type": "code",
   "execution_count": null,
   "id": "199f76fc",
   "metadata": {},
   "outputs": [],
   "source": [
    "# 1. Remove BLAST, since its coefficient is not significant\n",
    "# 2. Remove CELL, since its coefficient is not significant\n",
    "x_var = ['LI']\n",
    "y_var = ['REMISS']\n",
    "\n",
    "X = df[x_var]\n",
    "y = df[y_var]\n",
    "log_model = fit_logistic_reg_with_intercept(X, y)\n",
    "print(log_model.summary())"
   ]
  },
  {
   "cell_type": "code",
   "execution_count": null,
   "id": "681ca781",
   "metadata": {},
   "outputs": [],
   "source": [
    "# calculating odds for LI = 0.9\n",
    "-3.7771 + 2.8973 * 0.9\n",
    "np.exp(-3.7771 + 2.8973 * 0.9)"
   ]
  },
  {
   "cell_type": "markdown",
   "id": "28935076",
   "metadata": {},
   "source": [
    "# Answers\n",
    "\n",
    "Below are the ansers:\n",
    "  - The final regression equation is:<br>\n",
    "    **prob = -3.7771 + 2.8973 * LI**\n",
    "      - Below variables are removed after VIF check\n",
    "          - **INFIL, TEMP** and **SMEAR**\n",
    "      - Below variables are removed after checking for significance beased on p-value\n",
    "          -  **BLAST** and **CELL**\n",
    "      - Finally only **LI** variable came as significant\n",
    "  - For **LI=0.9, Odds Ratio = exp(-3.7771 + 2.8973 * 0.9) = exp(-1.16953) = 0.31**"
   ]
  },
  {
   "cell_type": "code",
   "execution_count": null,
   "id": "1530505f",
   "metadata": {},
   "outputs": [],
   "source": []
  }
 ],
 "metadata": {
  "kernelspec": {
   "display_name": "Python 3 (ipykernel)",
   "language": "python",
   "name": "python3"
  },
  "language_info": {
   "codemirror_mode": {
    "name": "ipython",
    "version": 3
   },
   "file_extension": ".py",
   "mimetype": "text/x-python",
   "name": "python",
   "nbconvert_exporter": "python",
   "pygments_lexer": "ipython3",
   "version": "3.8.10"
  }
 },
 "nbformat": 4,
 "nbformat_minor": 5
}
