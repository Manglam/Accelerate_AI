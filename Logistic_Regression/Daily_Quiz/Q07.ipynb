{
 "cells": [
  {
   "cell_type": "markdown",
   "id": "3a3e3f37",
   "metadata": {},
   "source": [
    "# Q07: 13/Jun/2022\n",
    "\n",
    "Since most of you are not able to respond to daily questions, let me try to give a simple one today in the start of this week to bring the momentum back. 😊 Hope you will get 10-15 mins to think and respond to this question. This is quite simple. Please try.\n",
    "\n",
    "a) Mr Robert has 22% chance of defaulting on his Credit Card bill payment. What are the odds that he will default?\n",
    "\n",
    "b) India has an odds of 41% of winning the series with South Africa. What is the percentage that they will in fact win?\n"
   ]
  },
  {
   "cell_type": "markdown",
   "id": "dbbd0c18",
   "metadata": {},
   "source": [
    "## a) \n",
    "Mr Robert has 22% chance of defaulting on his Credit Card bill payment. What are the odds that he will default?"
   ]
  },
  {
   "cell_type": "code",
   "execution_count": 3,
   "id": "2a96f501",
   "metadata": {},
   "outputs": [
    {
     "name": "stdout",
     "output_type": "stream",
     "text": [
      "0.28\n"
     ]
    }
   ],
   "source": [
    "prob_default = 0.22\n",
    "odds_of_default = prob_default / (1 - prob_default)\n",
    "print(round(odds_of_default, 2))"
   ]
  },
  {
   "cell_type": "markdown",
   "id": "57f5177e",
   "metadata": {},
   "source": [
    "# b) \n",
    "India has an odds of 41% of winning the series with South Africa. What is the percentage that they will in fact win?"
   ]
  },
  {
   "cell_type": "code",
   "execution_count": 4,
   "id": "a6c36947",
   "metadata": {},
   "outputs": [
    {
     "name": "stdout",
     "output_type": "stream",
     "text": [
      "0.29\n"
     ]
    }
   ],
   "source": [
    "odds_win = 0.41\n",
    "prob_win = odds_win / (1 + odds_win)\n",
    "print(round(prob_win, 2))"
   ]
  },
  {
   "cell_type": "code",
   "execution_count": null,
   "id": "445f3dbc",
   "metadata": {},
   "outputs": [],
   "source": []
  }
 ],
 "metadata": {
  "kernelspec": {
   "display_name": "Python 3 (ipykernel)",
   "language": "python",
   "name": "python3"
  },
  "language_info": {
   "codemirror_mode": {
    "name": "ipython",
    "version": 3
   },
   "file_extension": ".py",
   "mimetype": "text/x-python",
   "name": "python",
   "nbconvert_exporter": "python",
   "pygments_lexer": "ipython3",
   "version": "3.8.10"
  }
 },
 "nbformat": 4,
 "nbformat_minor": 5
}
